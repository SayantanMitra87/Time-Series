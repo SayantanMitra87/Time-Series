{
 "cells": [
  {
   "cell_type": "markdown",
   "metadata": {},
   "source": [
    "# Pandas Exercises\n",
    "Time to test your new pandas skills! Use the <tt>population_by_county.csv</tt> file in the Data folder to complete the tasks in bold below!\n",
    "\n",
    "<div class=\"alert alert-info\" style=\"margin: 10px\"><strong>NOTE:</strong> ALL TASKS CAN BE DONE IN ONE LINE OF PANDAS CODE. GET STUCK? NO PROBLEM! CHECK OUT THE SOLUTIONS LECTURE!</div>\n",
    "\n",
    "<div class=\"alert alert-danger\" style=\"margin: 10px\"><strong>IMPORTANT NOTE!</strong> Make sure you don't run the cells directly above the example output shown, <br>otherwise you will end up writing over the example output!</div>"
   ]
  },
  {
   "cell_type": "markdown",
   "metadata": {},
   "source": [
    "#### 1. Import pandas and read in the <tt>population_by_county.csv</tt> file into a dataframe called <tt>pop</tt>."
   ]
  },
  {
   "cell_type": "code",
   "execution_count": 77,
   "metadata": {},
   "outputs": [],
   "source": [
    "import pandas as pd\n",
    "pop = pd.read_csv('../Data/population_by_county.csv')"
   ]
  },
  {
   "cell_type": "markdown",
   "metadata": {},
   "source": [
    "#### 2. Show the head of the dataframe"
   ]
  },
  {
   "cell_type": "code",
   "execution_count": 78,
   "metadata": {},
   "outputs": [
    {
     "data": {
      "text/html": [
       "<div>\n",
       "<style scoped>\n",
       "    .dataframe tbody tr th:only-of-type {\n",
       "        vertical-align: middle;\n",
       "    }\n",
       "\n",
       "    .dataframe tbody tr th {\n",
       "        vertical-align: top;\n",
       "    }\n",
       "\n",
       "    .dataframe thead th {\n",
       "        text-align: right;\n",
       "    }\n",
       "</style>\n",
       "<table border=\"1\" class=\"dataframe\">\n",
       "  <thead>\n",
       "    <tr style=\"text-align: right;\">\n",
       "      <th></th>\n",
       "      <th>County</th>\n",
       "      <th>State</th>\n",
       "      <th>2010Census</th>\n",
       "      <th>2017PopEstimate</th>\n",
       "    </tr>\n",
       "  </thead>\n",
       "  <tbody>\n",
       "    <tr>\n",
       "      <th>0</th>\n",
       "      <td>Abbeville County</td>\n",
       "      <td>South Carolina</td>\n",
       "      <td>25417</td>\n",
       "      <td>24722</td>\n",
       "    </tr>\n",
       "    <tr>\n",
       "      <th>1</th>\n",
       "      <td>Acadia Parish</td>\n",
       "      <td>Louisiana</td>\n",
       "      <td>61773</td>\n",
       "      <td>62590</td>\n",
       "    </tr>\n",
       "    <tr>\n",
       "      <th>2</th>\n",
       "      <td>Accomack County</td>\n",
       "      <td>Virginia</td>\n",
       "      <td>33164</td>\n",
       "      <td>32545</td>\n",
       "    </tr>\n",
       "    <tr>\n",
       "      <th>3</th>\n",
       "      <td>Ada County</td>\n",
       "      <td>Idaho</td>\n",
       "      <td>392365</td>\n",
       "      <td>456849</td>\n",
       "    </tr>\n",
       "    <tr>\n",
       "      <th>4</th>\n",
       "      <td>Adair County</td>\n",
       "      <td>Iowa</td>\n",
       "      <td>7682</td>\n",
       "      <td>7054</td>\n",
       "    </tr>\n",
       "  </tbody>\n",
       "</table>\n",
       "</div>"
      ],
      "text/plain": [
       "             County           State  2010Census  2017PopEstimate\n",
       "0  Abbeville County  South Carolina       25417            24722\n",
       "1     Acadia Parish       Louisiana       61773            62590\n",
       "2   Accomack County        Virginia       33164            32545\n",
       "3        Ada County           Idaho      392365           456849\n",
       "4      Adair County            Iowa        7682             7054"
      ]
     },
     "execution_count": 78,
     "metadata": {},
     "output_type": "execute_result"
    }
   ],
   "source": [
    "pop.head()"
   ]
  },
  {
   "cell_type": "markdown",
   "metadata": {},
   "source": [
    "#### 3. What are the column names?"
   ]
  },
  {
   "cell_type": "code",
   "execution_count": 79,
   "metadata": {},
   "outputs": [
    {
     "data": {
      "text/plain": [
       "Index(['County', 'State', '2010Census', '2017PopEstimate'], dtype='object')"
      ]
     },
     "execution_count": 79,
     "metadata": {},
     "output_type": "execute_result"
    }
   ],
   "source": [
    "pop.columns"
   ]
  },
  {
   "cell_type": "markdown",
   "metadata": {},
   "source": [
    "<strong>4. How many States are represented in this data set?</strong> <em>Note: the data includes the District of Columbia</em>"
   ]
  },
  {
   "cell_type": "code",
   "execution_count": 80,
   "metadata": {},
   "outputs": [
    {
     "data": {
      "text/plain": [
       "51"
      ]
     },
     "execution_count": 80,
     "metadata": {},
     "output_type": "execute_result"
    }
   ],
   "source": [
    "pop['State'].nunique()"
   ]
  },
  {
   "cell_type": "markdown",
   "metadata": {},
   "source": [
    "#### 5. Get a list or array of all the states in the data set."
   ]
  },
  {
   "cell_type": "code",
   "execution_count": 81,
   "metadata": {},
   "outputs": [
    {
     "data": {
      "text/plain": [
       "array(['South Carolina', 'Louisiana', 'Virginia', 'Idaho', 'Iowa',\n",
       "       'Kentucky', 'Missouri', 'Oklahoma', 'Colorado', 'Illinois',\n",
       "       'Indiana', 'Mississippi', 'Nebraska', 'North Dakota', 'Ohio',\n",
       "       'Pennsylvania', 'Washington', 'Wisconsin', 'Vermont', 'Minnesota',\n",
       "       'Florida', 'North Carolina', 'California', 'New York', 'Wyoming',\n",
       "       'Michigan', 'Alaska', 'Maryland', 'Kansas', 'Tennessee', 'Texas',\n",
       "       'Maine', 'Arizona', 'Georgia', 'Arkansas', 'New Jersey',\n",
       "       'South Dakota', 'Alabama', 'Oregon', 'West Virginia',\n",
       "       'Massachusetts', 'Utah', 'Montana', 'New Hampshire', 'New Mexico',\n",
       "       'Rhode Island', 'Nevada', 'District of Columbia', 'Connecticut',\n",
       "       'Hawaii', 'Delaware'], dtype=object)"
      ]
     },
     "execution_count": 81,
     "metadata": {},
     "output_type": "execute_result"
    }
   ],
   "source": [
    "#print(pop['State'].to_list())\n",
    "pop['State'].unique()"
   ]
  },
  {
   "cell_type": "markdown",
   "metadata": {},
   "source": [
    "#### 6. What are the five most common County names in the U.S.?"
   ]
  },
  {
   "cell_type": "code",
   "execution_count": 82,
   "metadata": {},
   "outputs": [
    {
     "data": {
      "text/plain": [
       "Washington County    30\n",
       "Jefferson County     25\n",
       "Franklin County      24\n",
       "Lincoln County       23\n",
       "Jackson County       23\n",
       "Name: County, dtype: int64"
      ]
     },
     "execution_count": 82,
     "metadata": {},
     "output_type": "execute_result"
    }
   ],
   "source": [
    "pop['County'].value_counts().head()"
   ]
  },
  {
   "cell_type": "markdown",
   "metadata": {},
   "source": [
    "#### 7. What are the top 5 most populated Counties according to the 2010 Census?"
   ]
  },
  {
   "cell_type": "code",
   "execution_count": 83,
   "metadata": {
    "scrolled": true
   },
   "outputs": [
    {
     "data": {
      "text/html": [
       "<div>\n",
       "<style scoped>\n",
       "    .dataframe tbody tr th:only-of-type {\n",
       "        vertical-align: middle;\n",
       "    }\n",
       "\n",
       "    .dataframe tbody tr th {\n",
       "        vertical-align: top;\n",
       "    }\n",
       "\n",
       "    .dataframe thead th {\n",
       "        text-align: right;\n",
       "    }\n",
       "</style>\n",
       "<table border=\"1\" class=\"dataframe\">\n",
       "  <thead>\n",
       "    <tr style=\"text-align: right;\">\n",
       "      <th></th>\n",
       "      <th>County</th>\n",
       "      <th>State</th>\n",
       "      <th>2010Census</th>\n",
       "      <th>2017PopEstimate</th>\n",
       "    </tr>\n",
       "  </thead>\n",
       "  <tbody>\n",
       "    <tr>\n",
       "      <th>0</th>\n",
       "      <td>Abbeville County</td>\n",
       "      <td>South Carolina</td>\n",
       "      <td>25417</td>\n",
       "      <td>24722</td>\n",
       "    </tr>\n",
       "    <tr>\n",
       "      <th>1</th>\n",
       "      <td>Acadia Parish</td>\n",
       "      <td>Louisiana</td>\n",
       "      <td>61773</td>\n",
       "      <td>62590</td>\n",
       "    </tr>\n",
       "    <tr>\n",
       "      <th>2</th>\n",
       "      <td>Accomack County</td>\n",
       "      <td>Virginia</td>\n",
       "      <td>33164</td>\n",
       "      <td>32545</td>\n",
       "    </tr>\n",
       "    <tr>\n",
       "      <th>3</th>\n",
       "      <td>Ada County</td>\n",
       "      <td>Idaho</td>\n",
       "      <td>392365</td>\n",
       "      <td>456849</td>\n",
       "    </tr>\n",
       "    <tr>\n",
       "      <th>4</th>\n",
       "      <td>Adair County</td>\n",
       "      <td>Iowa</td>\n",
       "      <td>7682</td>\n",
       "      <td>7054</td>\n",
       "    </tr>\n",
       "  </tbody>\n",
       "</table>\n",
       "</div>"
      ],
      "text/plain": [
       "             County           State  2010Census  2017PopEstimate\n",
       "0  Abbeville County  South Carolina       25417            24722\n",
       "1     Acadia Parish       Louisiana       61773            62590\n",
       "2   Accomack County        Virginia       33164            32545\n",
       "3        Ada County           Idaho      392365           456849\n",
       "4      Adair County            Iowa        7682             7054"
      ]
     },
     "execution_count": 83,
     "metadata": {},
     "output_type": "execute_result"
    }
   ],
   "source": [
    "pop.head()"
   ]
  },
  {
   "cell_type": "code",
   "execution_count": 84,
   "metadata": {},
   "outputs": [
    {
     "data": {
      "text/html": [
       "<div>\n",
       "<style scoped>\n",
       "    .dataframe tbody tr th:only-of-type {\n",
       "        vertical-align: middle;\n",
       "    }\n",
       "\n",
       "    .dataframe tbody tr th {\n",
       "        vertical-align: top;\n",
       "    }\n",
       "\n",
       "    .dataframe thead th {\n",
       "        text-align: right;\n",
       "    }\n",
       "</style>\n",
       "<table border=\"1\" class=\"dataframe\">\n",
       "  <thead>\n",
       "    <tr style=\"text-align: right;\">\n",
       "      <th></th>\n",
       "      <th>County</th>\n",
       "      <th>State</th>\n",
       "      <th>2010Census</th>\n",
       "      <th>2017PopEstimate</th>\n",
       "    </tr>\n",
       "  </thead>\n",
       "  <tbody>\n",
       "    <tr>\n",
       "      <th>1713</th>\n",
       "      <td>Los Angeles County</td>\n",
       "      <td>California</td>\n",
       "      <td>9818605</td>\n",
       "      <td>10163507</td>\n",
       "    </tr>\n",
       "    <tr>\n",
       "      <th>628</th>\n",
       "      <td>Cook County</td>\n",
       "      <td>Illinois</td>\n",
       "      <td>5194675</td>\n",
       "      <td>5211263</td>\n",
       "    </tr>\n",
       "    <tr>\n",
       "      <th>1209</th>\n",
       "      <td>Harris County</td>\n",
       "      <td>Texas</td>\n",
       "      <td>4092459</td>\n",
       "      <td>4652980</td>\n",
       "    </tr>\n",
       "    <tr>\n",
       "      <th>1784</th>\n",
       "      <td>Maricopa County</td>\n",
       "      <td>Arizona</td>\n",
       "      <td>3817117</td>\n",
       "      <td>4307033</td>\n",
       "    </tr>\n",
       "    <tr>\n",
       "      <th>2501</th>\n",
       "      <td>San Diego County</td>\n",
       "      <td>California</td>\n",
       "      <td>3095313</td>\n",
       "      <td>3337685</td>\n",
       "    </tr>\n",
       "  </tbody>\n",
       "</table>\n",
       "</div>"
      ],
      "text/plain": [
       "                  County       State  2010Census  2017PopEstimate\n",
       "1713  Los Angeles County  California     9818605         10163507\n",
       "628          Cook County    Illinois     5194675          5211263\n",
       "1209       Harris County       Texas     4092459          4652980\n",
       "1784     Maricopa County     Arizona     3817117          4307033\n",
       "2501    San Diego County  California     3095313          3337685"
      ]
     },
     "execution_count": 84,
     "metadata": {},
     "output_type": "execute_result"
    }
   ],
   "source": [
    "pop.sort_values(by='2010Census', ascending=False).head()"
   ]
  },
  {
   "cell_type": "markdown",
   "metadata": {},
   "source": [
    "#### 8. What are the top 5 most populated States according to the 2010 Census?"
   ]
  },
  {
   "cell_type": "code",
   "execution_count": 85,
   "metadata": {},
   "outputs": [
    {
     "data": {
      "text/html": [
       "<div>\n",
       "<style scoped>\n",
       "    .dataframe tbody tr th:only-of-type {\n",
       "        vertical-align: middle;\n",
       "    }\n",
       "\n",
       "    .dataframe tbody tr th {\n",
       "        vertical-align: top;\n",
       "    }\n",
       "\n",
       "    .dataframe thead th {\n",
       "        text-align: right;\n",
       "    }\n",
       "</style>\n",
       "<table border=\"1\" class=\"dataframe\">\n",
       "  <thead>\n",
       "    <tr style=\"text-align: right;\">\n",
       "      <th></th>\n",
       "      <th>County</th>\n",
       "      <th>State</th>\n",
       "      <th>2010Census</th>\n",
       "      <th>2017PopEstimate</th>\n",
       "    </tr>\n",
       "  </thead>\n",
       "  <tbody>\n",
       "    <tr>\n",
       "      <th>1713</th>\n",
       "      <td>Los Angeles County</td>\n",
       "      <td>California</td>\n",
       "      <td>9818605</td>\n",
       "      <td>10163507</td>\n",
       "    </tr>\n",
       "    <tr>\n",
       "      <th>628</th>\n",
       "      <td>Cook County</td>\n",
       "      <td>Illinois</td>\n",
       "      <td>5194675</td>\n",
       "      <td>5211263</td>\n",
       "    </tr>\n",
       "    <tr>\n",
       "      <th>1209</th>\n",
       "      <td>Harris County</td>\n",
       "      <td>Texas</td>\n",
       "      <td>4092459</td>\n",
       "      <td>4652980</td>\n",
       "    </tr>\n",
       "    <tr>\n",
       "      <th>1784</th>\n",
       "      <td>Maricopa County</td>\n",
       "      <td>Arizona</td>\n",
       "      <td>3817117</td>\n",
       "      <td>4307033</td>\n",
       "    </tr>\n",
       "    <tr>\n",
       "      <th>2501</th>\n",
       "      <td>San Diego County</td>\n",
       "      <td>California</td>\n",
       "      <td>3095313</td>\n",
       "      <td>3337685</td>\n",
       "    </tr>\n",
       "  </tbody>\n",
       "</table>\n",
       "</div>"
      ],
      "text/plain": [
       "                  County       State  2010Census  2017PopEstimate\n",
       "1713  Los Angeles County  California     9818605         10163507\n",
       "628          Cook County    Illinois     5194675          5211263\n",
       "1209       Harris County       Texas     4092459          4652980\n",
       "1784     Maricopa County     Arizona     3817117          4307033\n",
       "2501    San Diego County  California     3095313          3337685"
      ]
     },
     "execution_count": 85,
     "metadata": {},
     "output_type": "execute_result"
    }
   ],
   "source": [
    "pop.sort_values(by='2010Census', ascending=False).head()"
   ]
  },
  {
   "cell_type": "code",
   "execution_count": 86,
   "metadata": {},
   "outputs": [
    {
     "data": {
      "text/html": [
       "<div>\n",
       "<style scoped>\n",
       "    .dataframe tbody tr th:only-of-type {\n",
       "        vertical-align: middle;\n",
       "    }\n",
       "\n",
       "    .dataframe tbody tr th {\n",
       "        vertical-align: top;\n",
       "    }\n",
       "\n",
       "    .dataframe thead th {\n",
       "        text-align: right;\n",
       "    }\n",
       "</style>\n",
       "<table border=\"1\" class=\"dataframe\">\n",
       "  <thead>\n",
       "    <tr style=\"text-align: right;\">\n",
       "      <th></th>\n",
       "      <th>2010Census</th>\n",
       "    </tr>\n",
       "    <tr>\n",
       "      <th>State</th>\n",
       "      <th></th>\n",
       "    </tr>\n",
       "  </thead>\n",
       "  <tbody>\n",
       "    <tr>\n",
       "      <th>California</th>\n",
       "      <td>37253956</td>\n",
       "    </tr>\n",
       "    <tr>\n",
       "      <th>Texas</th>\n",
       "      <td>25145561</td>\n",
       "    </tr>\n",
       "    <tr>\n",
       "      <th>New York</th>\n",
       "      <td>19378102</td>\n",
       "    </tr>\n",
       "    <tr>\n",
       "      <th>Florida</th>\n",
       "      <td>18801310</td>\n",
       "    </tr>\n",
       "    <tr>\n",
       "      <th>Illinois</th>\n",
       "      <td>12830632</td>\n",
       "    </tr>\n",
       "  </tbody>\n",
       "</table>\n",
       "</div>"
      ],
      "text/plain": [
       "            2010Census\n",
       "State                 \n",
       "California    37253956\n",
       "Texas         25145561\n",
       "New York      19378102\n",
       "Florida       18801310\n",
       "Illinois      12830632"
      ]
     },
     "execution_count": 86,
     "metadata": {},
     "output_type": "execute_result"
    }
   ],
   "source": [
    "pop.groupby('State').agg({'2010Census':'sum'}).sort_values(\n",
    "                                by='2010Census', ascending=False).head()"
   ]
  },
  {
   "cell_type": "markdown",
   "metadata": {},
   "source": [
    "#### 9. How many Counties have 2010 populations greater than 1 million?"
   ]
  },
  {
   "cell_type": "code",
   "execution_count": 87,
   "metadata": {},
   "outputs": [
    {
     "data": {
      "text/plain": [
       "1877"
      ]
     },
     "execution_count": 87,
     "metadata": {},
     "output_type": "execute_result"
    }
   ],
   "source": [
    "pop['County'].nunique()"
   ]
  },
  {
   "cell_type": "code",
   "execution_count": 88,
   "metadata": {},
   "outputs": [
    {
     "data": {
      "text/plain": [
       "39"
      ]
     },
     "execution_count": 88,
     "metadata": {},
     "output_type": "execute_result"
    }
   ],
   "source": [
    "#county_pop = pop.groupby('County').agg({'2010Census':'sum'})\n",
    "filt = pop['2010Census']>1000000\n",
    "pop[filt].shape[0]"
   ]
  },
  {
   "cell_type": "code",
   "execution_count": 89,
   "metadata": {},
   "outputs": [
    {
     "data": {
      "text/plain": [
       "39"
      ]
     },
     "execution_count": 89,
     "metadata": {},
     "output_type": "execute_result"
    }
   ],
   "source": [
    "# OR\n",
    "filt.sum()"
   ]
  },
  {
   "cell_type": "markdown",
   "metadata": {},
   "source": [
    "#### 10. How many Counties don't have the word \"County\" in their name?"
   ]
  },
  {
   "cell_type": "code",
   "execution_count": 90,
   "metadata": {},
   "outputs": [
    {
     "data": {
      "text/plain": [
       "135"
      ]
     },
     "execution_count": 90,
     "metadata": {},
     "output_type": "execute_result"
    }
   ],
   "source": [
    "county_name = pop['County'].unique()\n",
    "county_z = [county for county in county_name if \"County\" not in county]\n",
    "len(county_z)"
   ]
  },
  {
   "cell_type": "code",
   "execution_count": 91,
   "metadata": {},
   "outputs": [
    {
     "data": {
      "text/plain": [
       "1742"
      ]
     },
     "execution_count": 91,
     "metadata": {},
     "output_type": "execute_result"
    }
   ],
   "source": [
    "# If we need to figure out how many of them contains \"County\"\n",
    "a = pop['County'].unique()\n",
    "\n",
    "pd.Series(a).str.contains(\"County\").sum()"
   ]
  },
  {
   "cell_type": "markdown",
   "metadata": {},
   "source": [
    "#### 11. Add a column that calculates the percent change between the 2010 Census and the 2017 Population Estimate"
   ]
  },
  {
   "cell_type": "code",
   "execution_count": 92,
   "metadata": {},
   "outputs": [
    {
     "data": {
      "text/html": [
       "<div>\n",
       "<style scoped>\n",
       "    .dataframe tbody tr th:only-of-type {\n",
       "        vertical-align: middle;\n",
       "    }\n",
       "\n",
       "    .dataframe tbody tr th {\n",
       "        vertical-align: top;\n",
       "    }\n",
       "\n",
       "    .dataframe thead th {\n",
       "        text-align: right;\n",
       "    }\n",
       "</style>\n",
       "<table border=\"1\" class=\"dataframe\">\n",
       "  <thead>\n",
       "    <tr style=\"text-align: right;\">\n",
       "      <th></th>\n",
       "      <th>County</th>\n",
       "      <th>State</th>\n",
       "      <th>2010Census</th>\n",
       "      <th>2017PopEstimate</th>\n",
       "      <th>%_change</th>\n",
       "    </tr>\n",
       "  </thead>\n",
       "  <tbody>\n",
       "    <tr>\n",
       "      <th>0</th>\n",
       "      <td>Abbeville County</td>\n",
       "      <td>South Carolina</td>\n",
       "      <td>25417</td>\n",
       "      <td>24722</td>\n",
       "      <td>-2.734390</td>\n",
       "    </tr>\n",
       "    <tr>\n",
       "      <th>1</th>\n",
       "      <td>Acadia Parish</td>\n",
       "      <td>Louisiana</td>\n",
       "      <td>61773</td>\n",
       "      <td>62590</td>\n",
       "      <td>1.322584</td>\n",
       "    </tr>\n",
       "    <tr>\n",
       "      <th>2</th>\n",
       "      <td>Accomack County</td>\n",
       "      <td>Virginia</td>\n",
       "      <td>33164</td>\n",
       "      <td>32545</td>\n",
       "      <td>-1.866482</td>\n",
       "    </tr>\n",
       "    <tr>\n",
       "      <th>3</th>\n",
       "      <td>Ada County</td>\n",
       "      <td>Idaho</td>\n",
       "      <td>392365</td>\n",
       "      <td>456849</td>\n",
       "      <td>16.434697</td>\n",
       "    </tr>\n",
       "    <tr>\n",
       "      <th>4</th>\n",
       "      <td>Adair County</td>\n",
       "      <td>Iowa</td>\n",
       "      <td>7682</td>\n",
       "      <td>7054</td>\n",
       "      <td>-8.174954</td>\n",
       "    </tr>\n",
       "  </tbody>\n",
       "</table>\n",
       "</div>"
      ],
      "text/plain": [
       "             County           State  2010Census  2017PopEstimate   %_change\n",
       "0  Abbeville County  South Carolina       25417            24722  -2.734390\n",
       "1     Acadia Parish       Louisiana       61773            62590   1.322584\n",
       "2   Accomack County        Virginia       33164            32545  -1.866482\n",
       "3        Ada County           Idaho      392365           456849  16.434697\n",
       "4      Adair County            Iowa        7682             7054  -8.174954"
      ]
     },
     "execution_count": 92,
     "metadata": {},
     "output_type": "execute_result"
    }
   ],
   "source": [
    "pop['%_change'] = (pop['2017PopEstimate'] - pop['2010Census'])*100/pop['2010Census']\n",
    "pop.head()"
   ]
  },
  {
   "cell_type": "markdown",
   "metadata": {},
   "source": [
    "<strong>Bonus: What States have the highest estimated percent change between the 2010 Census and the 2017 Population Estimate?</strong><br>This will take several lines of code, as it requires a recalculation of PercentChange."
   ]
  },
  {
   "cell_type": "code",
   "execution_count": 93,
   "metadata": {},
   "outputs": [
    {
     "data": {
      "text/html": [
       "<div>\n",
       "<style scoped>\n",
       "    .dataframe tbody tr th:only-of-type {\n",
       "        vertical-align: middle;\n",
       "    }\n",
       "\n",
       "    .dataframe tbody tr th {\n",
       "        vertical-align: top;\n",
       "    }\n",
       "\n",
       "    .dataframe thead th {\n",
       "        text-align: right;\n",
       "    }\n",
       "</style>\n",
       "<table border=\"1\" class=\"dataframe\">\n",
       "  <thead>\n",
       "    <tr style=\"text-align: right;\">\n",
       "      <th></th>\n",
       "      <th>2017PopEstimate</th>\n",
       "      <th>2010Census</th>\n",
       "    </tr>\n",
       "    <tr>\n",
       "      <th>State</th>\n",
       "      <th></th>\n",
       "      <th></th>\n",
       "    </tr>\n",
       "  </thead>\n",
       "  <tbody>\n",
       "    <tr>\n",
       "      <th>Alabama</th>\n",
       "      <td>4874747</td>\n",
       "      <td>4779736</td>\n",
       "    </tr>\n",
       "    <tr>\n",
       "      <th>Alaska</th>\n",
       "      <td>739795</td>\n",
       "      <td>710231</td>\n",
       "    </tr>\n",
       "  </tbody>\n",
       "</table>\n",
       "</div>"
      ],
      "text/plain": [
       "         2017PopEstimate  2010Census\n",
       "State                               \n",
       "Alabama          4874747     4779736\n",
       "Alaska            739795      710231"
      ]
     },
     "execution_count": 93,
     "metadata": {},
     "output_type": "execute_result"
    }
   ],
   "source": [
    "state_perc_change = pop.groupby('State').agg({'2017PopEstimate':'sum', \n",
    "                                              '2010Census':'sum'})\n",
    "state_perc_change.head(2)"
   ]
  },
  {
   "cell_type": "code",
   "execution_count": 94,
   "metadata": {},
   "outputs": [
    {
     "data": {
      "text/html": [
       "<div>\n",
       "<style scoped>\n",
       "    .dataframe tbody tr th:only-of-type {\n",
       "        vertical-align: middle;\n",
       "    }\n",
       "\n",
       "    .dataframe tbody tr th {\n",
       "        vertical-align: top;\n",
       "    }\n",
       "\n",
       "    .dataframe thead th {\n",
       "        text-align: right;\n",
       "    }\n",
       "</style>\n",
       "<table border=\"1\" class=\"dataframe\">\n",
       "  <thead>\n",
       "    <tr style=\"text-align: right;\">\n",
       "      <th></th>\n",
       "      <th>2017PopEstimate</th>\n",
       "      <th>2010Census</th>\n",
       "      <th>%_change</th>\n",
       "    </tr>\n",
       "    <tr>\n",
       "      <th>State</th>\n",
       "      <th></th>\n",
       "      <th></th>\n",
       "      <th></th>\n",
       "    </tr>\n",
       "  </thead>\n",
       "  <tbody>\n",
       "    <tr>\n",
       "      <th>District of Columbia</th>\n",
       "      <td>693972</td>\n",
       "      <td>601723</td>\n",
       "      <td>15.330808</td>\n",
       "    </tr>\n",
       "    <tr>\n",
       "      <th>Texas</th>\n",
       "      <td>28304596</td>\n",
       "      <td>25145561</td>\n",
       "      <td>12.562993</td>\n",
       "    </tr>\n",
       "    <tr>\n",
       "      <th>North Dakota</th>\n",
       "      <td>755393</td>\n",
       "      <td>672591</td>\n",
       "      <td>12.310899</td>\n",
       "    </tr>\n",
       "    <tr>\n",
       "      <th>Utah</th>\n",
       "      <td>3101833</td>\n",
       "      <td>2763885</td>\n",
       "      <td>12.227282</td>\n",
       "    </tr>\n",
       "    <tr>\n",
       "      <th>Florida</th>\n",
       "      <td>20984400</td>\n",
       "      <td>18801310</td>\n",
       "      <td>11.611372</td>\n",
       "    </tr>\n",
       "  </tbody>\n",
       "</table>\n",
       "</div>"
      ],
      "text/plain": [
       "                      2017PopEstimate  2010Census   %_change\n",
       "State                                                       \n",
       "District of Columbia           693972      601723  15.330808\n",
       "Texas                        28304596    25145561  12.562993\n",
       "North Dakota                   755393      672591  12.310899\n",
       "Utah                          3101833     2763885  12.227282\n",
       "Florida                      20984400    18801310  11.611372"
      ]
     },
     "execution_count": 94,
     "metadata": {},
     "output_type": "execute_result"
    }
   ],
   "source": [
    "state_perc_change['%_change'] = (state_perc_change['2017PopEstimate'] - \n",
    "                                 state_perc_change['2010Census'])*100/state_perc_change['2010Census']\n",
    "\n",
    "state_perc_change.sort_values(by='%_change',ascending=False).head()"
   ]
  }
 ],
 "metadata": {
  "hide_input": false,
  "kernelspec": {
   "display_name": "Python 3",
   "language": "python",
   "name": "python3"
  },
  "language_info": {
   "codemirror_mode": {
    "name": "ipython",
    "version": 3
   },
   "file_extension": ".py",
   "mimetype": "text/x-python",
   "name": "python",
   "nbconvert_exporter": "python",
   "pygments_lexer": "ipython3",
   "version": "3.7.4"
  },
  "varInspector": {
   "cols": {
    "lenName": 16,
    "lenType": 16,
    "lenVar": 40
   },
   "kernels_config": {
    "python": {
     "delete_cmd_postfix": "",
     "delete_cmd_prefix": "del ",
     "library": "var_list.py",
     "varRefreshCmd": "print(var_dic_list())"
    },
    "r": {
     "delete_cmd_postfix": ") ",
     "delete_cmd_prefix": "rm(",
     "library": "var_list.r",
     "varRefreshCmd": "cat(var_dic_list()) "
    }
   },
   "types_to_exclude": [
    "module",
    "function",
    "builtin_function_or_method",
    "instance",
    "_Feature"
   ],
   "window_display": false
  }
 },
 "nbformat": 4,
 "nbformat_minor": 2
}
