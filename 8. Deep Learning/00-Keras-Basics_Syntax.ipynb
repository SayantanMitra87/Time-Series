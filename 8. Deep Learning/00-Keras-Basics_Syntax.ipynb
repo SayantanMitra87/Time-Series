{
 "cells": [
  {
   "cell_type": "markdown",
   "metadata": {},
   "source": [
    "# Keras Basics"
   ]
  },
  {
   "cell_type": "code",
   "execution_count": 38,
   "metadata": {},
   "outputs": [],
   "source": [
    "# You can safely ignore any warnings on importing this\n",
    "import keras\n",
    "import matplotlib.pyplot as plt\n",
    "import pandas as pd\n",
    "import numpy as np"
   ]
  },
  {
   "cell_type": "markdown",
   "metadata": {},
   "source": [
    "## Simple y=mx+b+noise data"
   ]
  },
  {
   "cell_type": "code",
   "execution_count": 39,
   "metadata": {},
   "outputs": [],
   "source": [
    "m = 2\n",
    "b = 3\n",
    "# Linearly spaced values\n",
    "x = np.linspace(0,50,100)\n",
    "\n",
    "# 101 is an arbitrary choice\n",
    "np.random.seed(101) \n",
    "noise = np.random.normal(loc=0.0,scale=4.0,size=len(x))"
   ]
  },
  {
   "cell_type": "code",
   "execution_count": 40,
   "metadata": {},
   "outputs": [],
   "source": [
    "y = 2*x + b + noise"
   ]
  },
  {
   "cell_type": "code",
   "execution_count": 41,
   "metadata": {},
   "outputs": [
    {
     "data": {
      "text/plain": [
       "[<matplotlib.lines.Line2D at 0x7febbadc9210>]"
      ]
     },
     "execution_count": 41,
     "metadata": {},
     "output_type": "execute_result"
    },
    {
     "data": {
      "image/png": "[encoded data removed]",
      "text/plain": [
       "<Figure size 432x288 with 1 Axes>"
      ]
     },
     "metadata": {
      "needs_background": "light"
     },
     "output_type": "display_data"
    }
   ],
   "source": [
    "plt.plot(x,y,'*') # This prevents connecting datapoints"
   ]
  },
  {
   "cell_type": "markdown",
   "metadata": {},
   "source": [
    "## Creating a Neural Network for a Line of Best Fit"
   ]
  },
  {
   "cell_type": "code",
   "execution_count": 42,
   "metadata": {},
   "outputs": [],
   "source": [
    "# Sequential allows a bunch of layers to add in sequence\n",
    "from keras.models import Sequential\n",
    "\n",
    "# Dense connects neurons 4m previous layer to next layer\n",
    "from keras.layers import Dense"
   ]
  },
  {
   "cell_type": "code",
   "execution_count": 43,
   "metadata": {},
   "outputs": [],
   "source": [
    "model = Sequential()\n",
    "\n",
    "# 4 Neurons, expecting only 1 feature with input_dim=1\n",
    "model.add(Dense(4, input_dim=1, activation='relu'))\n",
    "\n",
    "# 4 Neurons (Play around with this number!)\n",
    "model.add(Dense(4, activation='relu'))\n",
    "\n",
    "# One final output of y, so only 1 neuron\n",
    "model.add(Dense(1, activation='linear'))\n",
    "\n",
    "# Compil the layers\n",
    "model.compile(loss='mse', optimizer='adam')"
   ]
  },
  {
   "cell_type": "code",
   "execution_count": 44,
   "metadata": {},
   "outputs": [
    {
     "name": "stdout",
     "output_type": "stream",
     "text": [
      "Model: \"sequential_3\"\n",
      "_________________________________________________________________\n",
      "Layer (type)                 Output Shape              Param #   \n",
      "=================================================================\n",
      "dense_7 (Dense)              (None, 4)                 8         \n",
      "_________________________________________________________________\n",
      "dense_8 (Dense)              (None, 4)                 20        \n",
      "_________________________________________________________________\n",
      "dense_9 (Dense)              (None, 1)                 5         \n",
      "=================================================================\n",
      "Total params: 33\n",
      "Trainable params: 33\n",
      "Non-trainable params: 0\n",
      "_________________________________________________________________\n"
     ]
    }
   ],
   "source": [
    "model.summary()"
   ]
  },
  {
   "cell_type": "markdown",
   "metadata": {},
   "source": [
    "## Train on Data\n",
    "\n",
    "** NOTE: FOR THIS SIMPLE EXAMPLE, I WILL SKIP THE TRAIN TEST SPLIT!!!! **"
   ]
  },
  {
   "cell_type": "code",
   "execution_count": 45,
   "metadata": {},
   "outputs": [
    {
     "name": "stdout",
     "output_type": "stream",
     "text": [
      "Epoch 1/100\n",
      "100/100 [==============================] - 1s 6ms/step - loss: 3214.5422\n",
      "Epoch 2/100\n",
      "100/100 [==============================] - 0s 1ms/step - loss: 2720.0415\n",
      "Epoch 3/100\n",
      "100/100 [==============================] - 0s 1ms/step - loss: 2064.5929\n",
      "Epoch 4/100\n",
      "100/100 [==============================] - 0s 1ms/step - loss: 1331.1154\n",
      "Epoch 5/100\n",
      "100/100 [==============================] - 0s 1ms/step - loss: 686.0545\n",
      "Epoch 6/100\n",
      "100/100 [==============================] - 0s 1ms/step - loss: 264.3669\n",
      "Epoch 7/100\n",
      "100/100 [==============================] - 0s 1ms/step - loss: 80.0028\n",
      "Epoch 8/100\n",
      "100/100 [==============================] - 0s 1ms/step - loss: 28.2977\n",
      "Epoch 9/100\n",
      "100/100 [==============================] - 0s 1ms/step - loss: 18.8943\n",
      "Epoch 10/100\n",
      "100/100 [==============================] - 0s 1ms/step - loss: 17.7638\n",
      "Epoch 11/100\n",
      "100/100 [==============================] - 0s 1ms/step - loss: 17.7418\n",
      "Epoch 12/100\n",
      "100/100 [==============================] - 0s 1ms/step - loss: 17.6635\n",
      "Epoch 13/100\n",
      "100/100 [==============================] - 0s 1ms/step - loss: 17.6405\n",
      "Epoch 14/100\n",
      "100/100 [==============================] - 0s 1ms/step - loss: 17.6824\n",
      "Epoch 15/100\n",
      "100/100 [==============================] - 0s 1ms/step - loss: 17.6732\n",
      "Epoch 16/100\n",
      "100/100 [==============================] - 0s 1ms/step - loss: 17.7609\n",
      "Epoch 17/100\n",
      "100/100 [==============================] - 0s 1ms/step - loss: 17.5642\n",
      "Epoch 18/100\n",
      "100/100 [==============================] - 0s 1ms/step - loss: 17.7207\n",
      "Epoch 19/100\n",
      "100/100 [==============================] - 0s 1ms/step - loss: 17.5833\n",
      "Epoch 20/100\n",
      "100/100 [==============================] - 0s 1ms/step - loss: 17.6410\n",
      "Epoch 21/100\n",
      "100/100 [==============================] - 0s 1ms/step - loss: 17.6029\n",
      "Epoch 22/100\n",
      "100/100 [==============================] - 0s 1ms/step - loss: 17.7266\n",
      "Epoch 23/100\n",
      "100/100 [==============================] - 0s 1ms/step - loss: 17.7534\n",
      "Epoch 24/100\n",
      "100/100 [==============================] - 0s 1ms/step - loss: 17.7741\n",
      "Epoch 25/100\n",
      "100/100 [==============================] - 0s 1ms/step - loss: 17.4627\n",
      "Epoch 26/100\n",
      "100/100 [==============================] - 0s 1ms/step - loss: 17.8143\n",
      "Epoch 27/100\n",
      "100/100 [==============================] - 0s 1ms/step - loss: 17.4849\n",
      "Epoch 28/100\n",
      "100/100 [==============================] - 0s 1ms/step - loss: 17.7327\n",
      "Epoch 29/100\n",
      "100/100 [==============================] - 0s 1ms/step - loss: 17.5798\n",
      "Epoch 30/100\n",
      "100/100 [==============================] - 0s 1ms/step - loss: 17.6191\n",
      "Epoch 31/100\n",
      "100/100 [==============================] - 0s 1ms/step - loss: 17.8803\n",
      "Epoch 32/100\n",
      "100/100 [==============================] - 0s 1ms/step - loss: 17.3914\n",
      "Epoch 33/100\n",
      "100/100 [==============================] - 0s 1ms/step - loss: 17.4458\n",
      "Epoch 34/100\n",
      "100/100 [==============================] - 0s 1ms/step - loss: 17.7465\n",
      "Epoch 35/100\n",
      "100/100 [==============================] - 0s 1ms/step - loss: 17.3648\n",
      "Epoch 36/100\n",
      "100/100 [==============================] - 0s 1ms/step - loss: 17.5748\n",
      "Epoch 37/100\n",
      "100/100 [==============================] - 0s 1ms/step - loss: 17.5000\n",
      "Epoch 38/100\n",
      "100/100 [==============================] - 0s 1ms/step - loss: 17.9163\n",
      "Epoch 39/100\n",
      "100/100 [==============================] - 0s 1ms/step - loss: 17.7313\n",
      "Epoch 40/100\n",
      "100/100 [==============================] - 0s 1ms/step - loss: 17.2660\n",
      "Epoch 41/100\n",
      "100/100 [==============================] - 0s 1ms/step - loss: 17.4454\n",
      "Epoch 42/100\n",
      "100/100 [==============================] - 0s 1ms/step - loss: 17.6566\n",
      "Epoch 43/100\n",
      "100/100 [==============================] - 0s 1ms/step - loss: 17.9587\n",
      "Epoch 44/100\n",
      "100/100 [==============================] - 0s 1ms/step - loss: 17.1834\n",
      "Epoch 45/100\n",
      "100/100 [==============================] - 0s 1ms/step - loss: 17.3138\n",
      "Epoch 46/100\n",
      "100/100 [==============================] - 0s 1ms/step - loss: 17.8547\n",
      "Epoch 47/100\n",
      "100/100 [==============================] - 0s 1ms/step - loss: 17.5299\n",
      "Epoch 48/100\n",
      "100/100 [==============================] - 0s 1ms/step - loss: 17.1411\n",
      "Epoch 49/100\n",
      "100/100 [==============================] - 0s 1ms/step - loss: 17.3651\n",
      "Epoch 50/100\n",
      "100/100 [==============================] - 0s 1ms/step - loss: 17.2675\n",
      "Epoch 51/100\n",
      "100/100 [==============================] - 0s 1ms/step - loss: 17.4215\n",
      "Epoch 52/100\n",
      "100/100 [==============================] - 0s 1ms/step - loss: 17.2979\n",
      "Epoch 53/100\n",
      "100/100 [==============================] - 0s 1ms/step - loss: 17.4374\n",
      "Epoch 54/100\n",
      "100/100 [==============================] - 0s 1ms/step - loss: 17.3640\n",
      "Epoch 55/100\n",
      "100/100 [==============================] - 0s 1ms/step - loss: 17.6169\n",
      "Epoch 56/100\n",
      "100/100 [==============================] - 0s 1ms/step - loss: 17.3850\n",
      "Epoch 57/100\n",
      "100/100 [==============================] - 0s 1ms/step - loss: 17.5658\n",
      "Epoch 58/100\n",
      "100/100 [==============================] - 0s 1ms/step - loss: 17.5493\n",
      "Epoch 59/100\n",
      "100/100 [==============================] - 0s 1ms/step - loss: 17.4430\n",
      "Epoch 60/100\n",
      "100/100 [==============================] - 0s 1ms/step - loss: 17.3334\n",
      "Epoch 61/100\n",
      "100/100 [==============================] - 0s 1ms/step - loss: 16.9209\n",
      "Epoch 62/100\n",
      "100/100 [==============================] - 0s 1ms/step - loss: 17.5171\n",
      "Epoch 63/100\n",
      "100/100 [==============================] - 0s 1ms/step - loss: 17.3756\n",
      "Epoch 64/100\n",
      "100/100 [==============================] - 0s 1ms/step - loss: 17.3941\n",
      "Epoch 65/100\n",
      "100/100 [==============================] - 0s 1ms/step - loss: 16.8976\n",
      "Epoch 66/100\n",
      "100/100 [==============================] - 0s 1ms/step - loss: 17.7771\n",
      "Epoch 67/100\n",
      "100/100 [==============================] - 0s 1ms/step - loss: 17.3356\n",
      "Epoch 68/100\n",
      "100/100 [==============================] - 0s 1ms/step - loss: 17.0539\n",
      "Epoch 69/100\n",
      "100/100 [==============================] - 0s 1ms/step - loss: 17.5031\n",
      "Epoch 70/100\n",
      "100/100 [==============================] - 0s 1ms/step - loss: 17.2384\n",
      "Epoch 71/100\n",
      "100/100 [==============================] - 0s 1ms/step - loss: 17.4002\n",
      "Epoch 72/100\n",
      "100/100 [==============================] - 0s 1ms/step - loss: 17.2557\n",
      "Epoch 73/100\n",
      "100/100 [==============================] - 0s 1ms/step - loss: 17.2251\n",
      "Epoch 74/100\n",
      "100/100 [==============================] - 0s 1ms/step - loss: 17.2104\n",
      "Epoch 75/100\n",
      "100/100 [==============================] - 0s 1ms/step - loss: 17.3383\n",
      "Epoch 76/100\n",
      "100/100 [==============================] - 0s 1ms/step - loss: 17.4318\n",
      "Epoch 77/100\n",
      "100/100 [==============================] - 0s 1ms/step - loss: 17.6301\n",
      "Epoch 78/100\n",
      "100/100 [==============================] - 0s 1ms/step - loss: 17.6088\n",
      "Epoch 79/100\n",
      "100/100 [==============================] - 0s 1ms/step - loss: 17.6843\n",
      "Epoch 80/100\n",
      "100/100 [==============================] - 0s 1ms/step - loss: 17.1229\n",
      "Epoch 81/100\n",
      "100/100 [==============================] - 0s 1ms/step - loss: 17.4114\n",
      "Epoch 82/100\n",
      "100/100 [==============================] - 0s 1ms/step - loss: 17.4276\n",
      "Epoch 83/100\n",
      "100/100 [==============================] - 0s 1ms/step - loss: 17.6488\n",
      "Epoch 84/100\n",
      "100/100 [==============================] - 0s 1ms/step - loss: 17.1970\n",
      "Epoch 85/100\n",
      "100/100 [==============================] - 0s 1ms/step - loss: 17.0338\n",
      "Epoch 86/100\n",
      "100/100 [==============================] - 0s 1ms/step - loss: 17.6021\n",
      "Epoch 87/100\n",
      "100/100 [==============================] - 0s 1ms/step - loss: 17.3582\n",
      "Epoch 88/100\n",
      "100/100 [==============================] - 0s 1ms/step - loss: 17.1692\n",
      "Epoch 89/100\n",
      "100/100 [==============================] - 0s 1ms/step - loss: 17.4217\n",
      "Epoch 90/100\n",
      "100/100 [==============================] - 0s 1ms/step - loss: 17.0608\n",
      "Epoch 91/100\n",
      "100/100 [==============================] - 0s 1ms/step - loss: 17.3171\n",
      "Epoch 92/100\n",
      "100/100 [==============================] - 0s 1ms/step - loss: 17.2529\n",
      "Epoch 93/100\n",
      "100/100 [==============================] - 0s 1ms/step - loss: 17.1874\n",
      "Epoch 94/100\n",
      "100/100 [==============================] - 0s 1ms/step - loss: 17.2570\n",
      "Epoch 95/100\n",
      "100/100 [==============================] - 0s 1ms/step - loss: 17.2243\n",
      "Epoch 96/100\n",
      "100/100 [==============================] - 0s 1ms/step - loss: 17.0243\n",
      "Epoch 97/100\n",
      "100/100 [==============================] - 0s 1ms/step - loss: 17.8590\n",
      "Epoch 98/100\n"
     ]
    },
    {
     "name": "stdout",
     "output_type": "stream",
     "text": [
      "100/100 [==============================] - 0s 1ms/step - loss: 17.2447\n",
      "Epoch 99/100\n",
      "100/100 [==============================] - 0s 1ms/step - loss: 17.0029\n",
      "Epoch 100/100\n",
      "100/100 [==============================] - 0s 1ms/step - loss: 17.2843\n"
     ]
    },
    {
     "data": {
      "text/plain": [
       "<keras.callbacks.callbacks.History at 0x7febbae09210>"
      ]
     },
     "execution_count": 45,
     "metadata": {},
     "output_type": "execute_result"
    }
   ],
   "source": [
    "model.fit(x, y, batch_size = 1, epochs=100)"
   ]
  },
  {
   "cell_type": "code",
   "execution_count": 46,
   "metadata": {},
   "outputs": [
    {
     "data": {
      "text/plain": [
       "[3214.5422355127334,\n",
       " 2720.0415050464867,\n",
       " 2064.592856259048,\n",
       " 1331.1153879451751,\n",
       " 686.054477544874]"
      ]
     },
     "execution_count": 46,
     "metadata": {},
     "output_type": "execute_result"
    }
   ],
   "source": [
    "# To get the loss values and plot it vs epochs\n",
    "model.history.history['loss'][:5]"
   ]
  },
  {
   "cell_type": "code",
   "execution_count": 47,
   "metadata": {},
   "outputs": [
    {
     "data": {
      "text/plain": [
       "[<matplotlib.lines.Line2D at 0x7fec088df750>]"
      ]
     },
     "execution_count": 47,
     "metadata": {},
     "output_type": "execute_result"
    },
    {
     "data": {
      "image/png": "[encoded data removed]",
      "text/plain": [
       "<Figure size 432x288 with 1 Axes>"
      ]
     },
     "metadata": {
      "needs_background": "light"
     },
     "output_type": "display_data"
    }
   ],
   "source": [
    "loss = model.history.history['loss']\n",
    "epochs = range(len(loss))\n",
    "plt.plot(epochs, loss)"
   ]
  },
  {
   "cell_type": "code",
   "execution_count": 48,
   "metadata": {},
   "outputs": [],
   "source": [
    "# Seems like 20 epochs would be good"
   ]
  },
  {
   "cell_type": "markdown",
   "metadata": {},
   "source": [
    "## Predicting on new x points\n",
    "\n",
    "Our previous x was 50 linspace points between 0 and 100. Let's predict for 1000 values between 0 and 100, drawing a line for our predictions (our line of best fit)."
   ]
  },
  {
   "cell_type": "code",
   "execution_count": 52,
   "metadata": {},
   "outputs": [],
   "source": [
    "# Predict on one point, otherwise throwing error\n",
    "#x = np.linspace(0,50,100)\n",
    "x_for_predictions = np.linspace(0,50,1)#100"
   ]
  },
  {
   "cell_type": "code",
   "execution_count": 53,
   "metadata": {},
   "outputs": [],
   "source": [
    "y_predicted = model.predict(x_for_predictions)"
   ]
  },
  {
   "cell_type": "code",
   "execution_count": 54,
   "metadata": {},
   "outputs": [
    {
     "data": {
      "text/plain": [
       "[<matplotlib.lines.Line2D at 0x7febe9d836d0>,\n",
       " <matplotlib.lines.Line2D at 0x7fec08afb2d0>]"
      ]
     },
     "execution_count": 54,
     "metadata": {},
     "output_type": "execute_result"
    },
    {
     "data": {
      "image/png": "[encoded data removed]",
      "text/plain": [
       "<Figure size 432x288 with 1 Axes>"
      ]
     },
     "metadata": {
      "needs_background": "light"
     },
     "output_type": "display_data"
    }
   ],
   "source": [
    "# Original X and Y\n",
    "plt.plot(x,y,'*')\n",
    "# Our Model's prediction Line\n",
    "plt.plot(x_for_predictions,y_predicted,'*','r')"
   ]
  },
  {
   "cell_type": "markdown",
   "metadata": {},
   "source": [
    "# Evaluating Our Error"
   ]
  },
  {
   "cell_type": "code",
   "execution_count": 55,
   "metadata": {},
   "outputs": [],
   "source": [
    "from sklearn.metrics import mean_squared_error,mean_absolute_error"
   ]
  },
  {
   "cell_type": "code",
   "execution_count": 56,
   "metadata": {},
   "outputs": [],
   "source": [
    "# Labels we do know\n",
    "prediction_for_true_y = model.predict(x)"
   ]
  },
  {
   "cell_type": "code",
   "execution_count": 57,
   "metadata": {},
   "outputs": [
    {
     "data": {
      "text/plain": [
       "17.201005558625116"
      ]
     },
     "execution_count": 57,
     "metadata": {},
     "output_type": "execute_result"
    }
   ],
   "source": [
    "mean_squared_error(y,prediction_for_true_y)"
   ]
  },
  {
   "cell_type": "code",
   "execution_count": 58,
   "metadata": {},
   "outputs": [
    {
     "data": {
      "text/plain": [
       "3.3058001742448515"
      ]
     },
     "execution_count": 58,
     "metadata": {},
     "output_type": "execute_result"
    }
   ],
   "source": [
    "mean_absolute_error(y,prediction_for_true_y)"
   ]
  }
 ],
 "metadata": {
  "hide_input": false,
  "kernelspec": {
   "display_name": "Python 3",
   "language": "python",
   "name": "python3"
  },
  "language_info": {
   "codemirror_mode": {
    "name": "ipython",
    "version": 3
   },
   "file_extension": ".py",
   "mimetype": "text/x-python",
   "name": "python",
   "nbconvert_exporter": "python",
   "pygments_lexer": "ipython3",
   "version": "3.7.4"
  },
  "varInspector": {
   "cols": {
    "lenName": 16,
    "lenType": 16,
    "lenVar": 40
   },
   "kernels_config": {
    "python": {
     "delete_cmd_postfix": "",
     "delete_cmd_prefix": "del ",
     "library": "var_list.py",
     "varRefreshCmd": "print(var_dic_list())"
    },
    "r": {
     "delete_cmd_postfix": ") ",
     "delete_cmd_prefix": "rm(",
     "library": "var_list.r",
     "varRefreshCmd": "cat(var_dic_list()) "
    }
   },
   "types_to_exclude": [
    "module",
    "function",
    "builtin_function_or_method",
    "instance",
    "_Feature"
   ],
   "window_display": false
  }
 },
 "nbformat": 4,
 "nbformat_minor": 2
}
