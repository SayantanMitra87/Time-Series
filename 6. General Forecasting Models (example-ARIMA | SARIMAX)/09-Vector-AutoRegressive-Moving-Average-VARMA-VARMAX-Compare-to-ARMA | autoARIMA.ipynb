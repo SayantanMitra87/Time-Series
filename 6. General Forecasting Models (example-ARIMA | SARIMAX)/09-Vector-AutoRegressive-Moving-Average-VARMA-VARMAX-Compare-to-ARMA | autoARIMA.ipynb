{
 "cells": [
  {
   "cell_type": "markdown",
   "metadata": {},
   "source": [
    "# VARMA(p,q) and VARMAX can be used synonymously\n",
    "## Vector Autoregressive Moving Average\n",
    "This lesson picks up where VAR(p) left off.\n",
    "\n",
    "Recall that the system of equations for a 2-dimensional VAR(1) model is:\n",
    "\n",
    "&nbsp;&nbsp;&nbsp;&nbsp;$y_{1,t} = c_1 + \\phi_{11,1}y_{1,t-1} + \\phi_{12,1}y_{2,t-1} + \\varepsilon_{1,t}$<br>\n",
    "&nbsp;&nbsp;&nbsp;&nbsp;$y_{2,t} = c_2 + \\phi_{21,1}y_{1,t-1} + \\phi_{22,1}y_{2,t-1} + \\varepsilon_{2,t}$\n",
    "\n",
    "where the coefficient $\\phi_{ii,l}$ captures the influence of the $l$th lag of variable $y_i$ on itself,<br>\n",
    "the coefficient $\\phi_{ij,l}$ captures the influence of the $l$th lag of variable $y_j$ on $y_i$.<br>\n",
    "Most importantly, $\\varepsilon_{1,t}$ and $\\varepsilon_{2,t}$ are white noise processes that may be correlated.<br>\n",
    "\n",
    "In a <strong>VARMA(p,q)</strong> model we give the error terms $\\varepsilon_t$ a moving average representation of order $q$.\n",
    "\n",
    "\n",
    "### Formulation\n",
    "We've seen that an autoregressive moving average ARMA(p,q) model is described by the following:\n",
    "\n",
    "&nbsp;&nbsp;&nbsp;&nbsp; $y_{t} = c + \\phi_{1}y_{t-1} + \\phi_{2}y_{t-2} + \\dots + \\phi_{p}y_{t-p} + \\theta_{1}\\varepsilon_{t-1} + \\theta_{2}\\varepsilon_{t-2} + \\dots + \\theta_{q}\\varepsilon_{t-q} + \\varepsilon_{t}$"
   ]
  },
  {
   "cell_type": "markdown",
   "metadata": {},
   "source": [
    "A $K$-dimensional VARMA model of order $(p,q)$ considers each variable $y_K$ in the system.<br>\n",
    "\n",
    "For example, the system of equations for a 2-dimensional VARMA(1,1) model is:\n",
    "\n",
    "&nbsp;&nbsp;&nbsp;&nbsp;$y_{1,t} = c_1 + \\phi_{11,1}y_{1,t-1} + \\phi_{12,1}y_{2,t-1} + \\theta_{11,1}\\varepsilon_{1,t-1} + \\theta_{12,1}\\varepsilon_{2,t-1} + \\varepsilon_{1,t}$<br>\n",
    "&nbsp;&nbsp;&nbsp;&nbsp;$y_{2,t} = c_2 + \\phi_{21,1}y_{1,t-1} + \\phi_{22,1}y_{2,t-1} + \\theta_{21,1}\\varepsilon_{1,t-1} + \\theta_{22,1}\\varepsilon_{2,t-1} + \\varepsilon_{2,t}$\n",
    "\n",
    "where the coefficient $\\theta_{ii,l}$ captures the influence of the $l$th lag of error $\\varepsilon_i$ on itself,<br>\n",
    "the coefficient $\\theta_{ij,l}$ captures the influence of the $l$th lag of error $\\varepsilon_j$ on $\\varepsilon_i$,<br>\n",
    "and $\\varepsilon_{1,t}$ and $\\varepsilon_{2,t}$ are residual white noise.<br>\n",
    "\n",
    "\n",
    "The general steps involved in building a VARMA model are:\n",
    "* Examine the data\n",
    "* Visualize the data\n",
    "* Test for stationarity\n",
    "* If necessary, transform the data to make it stationary\n",
    "* Select the appropriate <em>p</em> and <em>q</em> orders\n",
    "* Instantiate the model and fit it to a training set\n",
    "* If necessary, invert the earlier transformation\n",
    "* Evaluate model predictions against a known test set\n",
    "* Forecast the future"
   ]
  },
  {
   "cell_type": "markdown",
   "metadata": {
    "collapsed": true
   },
   "source": [
    "<div class=\"alert alert-info\"><h3>Related Functions:</h3>\n",
    "<tt><strong>\n",
    "<a href='https://www.statsmodels.org/stable/generated/statsmodels.tsa.statespace.varmax.VARMAX.html'>\n",
    "varmax.VARMAX</a></strong><font color=black>(endog[, exog, order, trend, …])</font>&nbsp;&nbsp;Vector Autoregressive Moving Average with eXogenous regressors model<br>\n",
    "<strong>\n",
    "<a href='https://www.statsmodels.org/stable/generated/statsmodels.tsa.statespace.varmax.VARMAXResults.html'>\n",
    "varmax.VARMAXResults</a></strong><font color=black>(model, params[, …])</font>&nbsp;&nbsp;&nbsp;&nbsp;&nbsp;&nbsp;&nbsp;Class to hold results from fitting an VARMAX model<br>\n",
    "</tt>\n",
    "   \n",
    "<h3>For Further Reading:</h3>\n",
    "<strong>\n",
    "<a href='https://www.statsmodels.org/stable/statespace.html#vector-autoregressive-moving-average-with-exogenous-regressors-varmax'>Statsmodels Tutorial:</a></strong>&nbsp;&nbsp;<font color=black>Time Series Analysis by State Space Methods</font><br>\n",
    "<strong>\n",
    "<a href='https://www.statsmodels.org/stable/examples/notebooks/generated/statespace_varmax.html'>Statsmodels Example:</a></strong>&nbsp;&nbsp;<font color=black>VARMAX models</font><br>\n",
    "</div>"
   ]
  },
  {
   "cell_type": "markdown",
   "metadata": {},
   "source": [
    "### Perform standard imports and load dataset\n",
    "For this analysis we'll reuse our money and spending datasets. We'll look at the M2 Money Stock which is a measure of U.S. personal assets, and U.S. personal spending. Both datasets are in billions of dollars, monthly, seasonally adjusted. They span the 21 years from January 1995 to December 2015 (252 records).<br>\n",
    "Sources: https://fred.stlouisfed.org/series/M2SL https://fred.stlouisfed.org/series/PCE"
   ]
  },
  {
   "cell_type": "code",
   "execution_count": 126,
   "metadata": {},
   "outputs": [],
   "source": [
    "import numpy as np\n",
    "import pandas as pd\n",
    "%matplotlib inline\n",
    "\n",
    "# Load specific forecasting tools\n",
    "from statsmodels.tsa.statespace.varmax import VARMAX, VARMAXResults\n",
    "from statsmodels.tsa.stattools import adfuller\n",
    "from pmdarima import auto_arima\n",
    "from statsmodels.tools.eval_measures import rmse\n",
    "\n",
    "# Ignore harmless warnings\n",
    "import warnings\n",
    "warnings.filterwarnings(\"ignore\")\n",
    "\n",
    "# Load datasets\n",
    "df = pd.read_csv('../Data/M2SLMoneyStock.csv',index_col=0, \n",
    "                                             parse_dates=True)\n",
    "df.index.freq = 'MS'\n",
    "\n",
    "sp = pd.read_csv('../Data/PCEPersonalSpending.csv',index_col=0, \n",
    "                                                 parse_dates=True)\n",
    "sp.index.freq = 'MS'"
   ]
  },
  {
   "cell_type": "markdown",
   "metadata": {},
   "source": [
    "### Inspect the data"
   ]
  },
  {
   "cell_type": "code",
   "execution_count": 127,
   "metadata": {},
   "outputs": [
    {
     "data": {
      "text/html": [
       "<div>\n",
       "<style scoped>\n",
       "    .dataframe tbody tr th:only-of-type {\n",
       "        vertical-align: middle;\n",
       "    }\n",
       "\n",
       "    .dataframe tbody tr th {\n",
       "        vertical-align: top;\n",
       "    }\n",
       "\n",
       "    .dataframe thead th {\n",
       "        text-align: right;\n",
       "    }\n",
       "</style>\n",
       "<table border=\"1\" class=\"dataframe\">\n",
       "  <thead>\n",
       "    <tr style=\"text-align: right;\">\n",
       "      <th></th>\n",
       "      <th>Money</th>\n",
       "      <th>Spending</th>\n",
       "    </tr>\n",
       "    <tr>\n",
       "      <th>Date</th>\n",
       "      <th></th>\n",
       "      <th></th>\n",
       "    </tr>\n",
       "  </thead>\n",
       "  <tbody>\n",
       "    <tr>\n",
       "      <th>1995-01-01</th>\n",
       "      <td>3492.4</td>\n",
       "      <td>4851.2</td>\n",
       "    </tr>\n",
       "    <tr>\n",
       "      <th>1995-02-01</th>\n",
       "      <td>3489.9</td>\n",
       "      <td>4850.8</td>\n",
       "    </tr>\n",
       "    <tr>\n",
       "      <th>1995-03-01</th>\n",
       "      <td>3491.1</td>\n",
       "      <td>4885.4</td>\n",
       "    </tr>\n",
       "    <tr>\n",
       "      <th>1995-04-01</th>\n",
       "      <td>3499.2</td>\n",
       "      <td>4890.2</td>\n",
       "    </tr>\n",
       "    <tr>\n",
       "      <th>1995-05-01</th>\n",
       "      <td>3524.2</td>\n",
       "      <td>4933.1</td>\n",
       "    </tr>\n",
       "  </tbody>\n",
       "</table>\n",
       "</div>"
      ],
      "text/plain": [
       "             Money  Spending\n",
       "Date                        \n",
       "1995-01-01  3492.4    4851.2\n",
       "1995-02-01  3489.9    4850.8\n",
       "1995-03-01  3491.1    4885.4\n",
       "1995-04-01  3499.2    4890.2\n",
       "1995-05-01  3524.2    4933.1"
      ]
     },
     "execution_count": 127,
     "metadata": {},
     "output_type": "execute_result"
    }
   ],
   "source": [
    "df = df.join(sp)\n",
    "df.head()"
   ]
  },
  {
   "cell_type": "code",
   "execution_count": 128,
   "metadata": {},
   "outputs": [
    {
     "data": {
      "text/plain": [
       "(252, 2)"
      ]
     },
     "execution_count": 128,
     "metadata": {},
     "output_type": "execute_result"
    }
   ],
   "source": [
    "df = df.dropna()\n",
    "df.shape"
   ]
  },
  {
   "cell_type": "markdown",
   "metadata": {},
   "source": [
    "### Plot the source data"
   ]
  },
  {
   "cell_type": "code",
   "execution_count": 129,
   "metadata": {},
   "outputs": [
    {
     "data": {
      "image/png": "[encoded data removed]",
      "text/plain": [
       "<Figure size 864x360 with 1 Axes>"
      ]
     },
     "metadata": {
      "needs_background": "light"
     },
     "output_type": "display_data"
    }
   ],
   "source": [
    "title = 'M2 Money Stock vs. Personal Consumption Expenditures'\n",
    "ylabel='Billions of dollars'\n",
    "xlabel=''\n",
    "\n",
    "ax = df['Spending'].plot(figsize=(12,5),title=title,legend=True)\n",
    "ax.autoscale(axis='x',tight=True)\n",
    "ax.set(xlabel=xlabel, ylabel=ylabel)\n",
    "df['Money'].plot(legend=True);"
   ]
  },
  {
   "cell_type": "markdown",
   "metadata": {},
   "source": [
    "## Test for stationarity, perform any necessary transformations\n",
    "In the previous section we applied the augmented Dickey-Fuller test and found that a second-order difference achieved stationarity. In this section we'll perform the <strong>auto_arima</strong> prediction to identify optimal $p$ and $q$ orders. **Because auto_Arima can work with VARMA but NOT with VAR**"
   ]
  },
  {
   "cell_type": "code",
   "execution_count": 130,
   "metadata": {},
   "outputs": [],
   "source": [
    "# INCLUDED HERE IF YOU CHOOSE TO USE IT\n",
    "def adf_test(series,title=''):\n",
    "    \"\"\"\n",
    "    Pass in a time series and an optional title, returns an ADF report\n",
    "    \"\"\"\n",
    "    print(f'Augmented Dickey-Fuller Test: {title}')\n",
    "    result = adfuller(series.dropna(),autolag='AIC') # .dropna() handles differenced data\n",
    "    \n",
    "    labels = ['ADF test statistic','p-value','# lags used','# observations']\n",
    "    out = pd.Series(result[0:4],index=labels)\n",
    "\n",
    "    for key,val in result[4].items():\n",
    "        out[f'critical value ({key})']=val\n",
    "        \n",
    "    print(out.to_string())          # .to_string() removes the line \"dtype: float64\"\n",
    "    \n",
    "    if result[1] <= 0.05:\n",
    "        print(\"Strong evidence against the null hypothesis\")\n",
    "        print(\"Reject the null hypothesis\")\n",
    "        print(\"Data has no unit root and is stationary\")\n",
    "    else:\n",
    "        print(\"Weak evidence against the null hypothesis\")\n",
    "        print(\"Fail to reject the null hypothesis\")\n",
    "        print(\"Data has a unit root and is non-stationary\")"
   ]
  },
  {
   "cell_type": "markdown",
   "metadata": {},
   "source": [
    "<div class=\"alert alert-info\"><strong>NOTE: </strong> When performing the auto_arima function we're likely to see a <tt><font color=black>ConvergenceWarning: Maximum Likelihood optimization failed to converge.</font></tt> This is not unusual in models which have to estimate a large number of parameters. However, we can override the maximum iterations default of 50, and pass an arbitrarily large number with <tt>maxiter=1000</tt>. We'll see this come up again when we fit our model.</div>  "
   ]
  },
  {
   "cell_type": "code",
   "execution_count": 131,
   "metadata": {},
   "outputs": [
    {
     "data": {
      "text/plain": [
       "ARIMA(maxiter=1000, method='lbfgs', order=(3, 2, 3), out_of_sample_size=0,\n",
       "      scoring='mse', scoring_args=None, seasonal_order=(0, 0, 0, 0),\n",
       "      start_params=None, suppress_warnings=False, trend=None,\n",
       "      with_intercept=True)"
      ]
     },
     "execution_count": 131,
     "metadata": {},
     "output_type": "execute_result"
    }
   ],
   "source": [
    "auto_arima(df['Money'],maxiter=1000)"
   ]
  },
  {
   "cell_type": "code",
   "execution_count": 132,
   "metadata": {},
   "outputs": [
    {
     "data": {
      "text/plain": [
       "ARIMA(maxiter=1000, method='lbfgs', order=(1, 1, 2), out_of_sample_size=0,\n",
       "      scoring='mse', scoring_args=None, seasonal_order=(0, 0, 0, 0),\n",
       "      start_params=None, suppress_warnings=False, trend=None,\n",
       "      with_intercept=True)"
      ]
     },
     "execution_count": 132,
     "metadata": {},
     "output_type": "execute_result"
    }
   ],
   "source": [
    "auto_arima(df['Spending'],maxiter=1000)"
   ]
  },
  {
   "cell_type": "markdown",
   "metadata": {},
   "source": [
    "#### Term p,d,q:  `money:(3, 2, 3)` and `Spending:(1, 1, 2)`\n",
    "<br>\n",
    "\n",
    "\n",
    "**1. Note that the $d$ term (2 for Money, 1 for Spending, in this case difference with the highest value i.e. 2) is about to be addressed by transforming the data to make it stationary.**\n",
    "<br>\n",
    "\n",
    "\n",
    "<br>\n",
    "\n",
    "**2. For money, auto_arima suggests p=3 and q=3. For spending, auto_arima suggest p=1 and q=2. In this kind of case we should always take higher order of p and q.**"
   ]
  },
  {
   "cell_type": "code",
   "execution_count": 133,
   "metadata": {},
   "outputs": [
    {
     "data": {
      "text/html": [
       "<div>\n",
       "<style scoped>\n",
       "    .dataframe tbody tr th:only-of-type {\n",
       "        vertical-align: middle;\n",
       "    }\n",
       "\n",
       "    .dataframe tbody tr th {\n",
       "        vertical-align: top;\n",
       "    }\n",
       "\n",
       "    .dataframe thead th {\n",
       "        text-align: right;\n",
       "    }\n",
       "</style>\n",
       "<table border=\"1\" class=\"dataframe\">\n",
       "  <thead>\n",
       "    <tr style=\"text-align: right;\">\n",
       "      <th></th>\n",
       "      <th>Money</th>\n",
       "      <th>Spending</th>\n",
       "    </tr>\n",
       "    <tr>\n",
       "      <th>Date</th>\n",
       "      <th></th>\n",
       "      <th></th>\n",
       "    </tr>\n",
       "  </thead>\n",
       "  <tbody>\n",
       "    <tr>\n",
       "      <th>1995-03-01</th>\n",
       "      <td>3.7</td>\n",
       "      <td>35.0</td>\n",
       "    </tr>\n",
       "    <tr>\n",
       "      <th>1995-04-01</th>\n",
       "      <td>6.9</td>\n",
       "      <td>-29.8</td>\n",
       "    </tr>\n",
       "    <tr>\n",
       "      <th>1995-05-01</th>\n",
       "      <td>16.9</td>\n",
       "      <td>38.1</td>\n",
       "    </tr>\n",
       "    <tr>\n",
       "      <th>1995-06-01</th>\n",
       "      <td>-0.3</td>\n",
       "      <td>1.5</td>\n",
       "    </tr>\n",
       "    <tr>\n",
       "      <th>1995-07-01</th>\n",
       "      <td>-6.2</td>\n",
       "      <td>-51.7</td>\n",
       "    </tr>\n",
       "  </tbody>\n",
       "</table>\n",
       "</div>"
      ],
      "text/plain": [
       "            Money  Spending\n",
       "Date                       \n",
       "1995-03-01    3.7      35.0\n",
       "1995-04-01    6.9     -29.8\n",
       "1995-05-01   16.9      38.1\n",
       "1995-06-01   -0.3       1.5\n",
       "1995-07-01   -6.2     -51.7"
      ]
     },
     "execution_count": 133,
     "metadata": {},
     "output_type": "execute_result"
    }
   ],
   "source": [
    "# difference twice\n",
    "df_transformed = df.diff().diff()\n",
    "df_transformed = df_transformed.dropna()\n",
    "df_transformed.head()"
   ]
  },
  {
   "cell_type": "code",
   "execution_count": 134,
   "metadata": {},
   "outputs": [
    {
     "data": {
      "text/plain": [
       "250"
      ]
     },
     "execution_count": 134,
     "metadata": {},
     "output_type": "execute_result"
    }
   ],
   "source": [
    "len(df_transformed)"
   ]
  },
  {
   "cell_type": "markdown",
   "metadata": {},
   "source": [
    "## Train/test/split\n",
    "It is useful to define a number of observations variable for our test set. For this analysis, let's use 12 months."
   ]
  },
  {
   "cell_type": "code",
   "execution_count": 135,
   "metadata": {},
   "outputs": [],
   "source": [
    "nobs=12\n",
    "train,test = df_transformed[0:-nobs],df_transformed[-nobs:]"
   ]
  },
  {
   "cell_type": "code",
   "execution_count": 136,
   "metadata": {},
   "outputs": [
    {
     "name": "stdout",
     "output_type": "stream",
     "text": [
      "(238, 2)\n",
      "(12, 2)\n"
     ]
    }
   ],
   "source": [
    "print(train.shape)\n",
    "print(test.shape)"
   ]
  },
  {
   "cell_type": "markdown",
   "metadata": {},
   "source": [
    "## Fit the VARMA(3,3) Model\n",
    "This may take awhile."
   ]
  },
  {
   "cell_type": "code",
   "execution_count": 137,
   "metadata": {},
   "outputs": [
    {
     "data": {
      "text/html": [
       "<table class=\"simpletable\">\n",
       "<caption>Statespace Model Results</caption>\n",
       "<tr>\n",
       "  <th>Dep. Variable:</th>   <td>['Money', 'Spending']</td> <th>  No. Observations:  </th>    <td>238</td>   \n",
       "</tr>\n",
       "<tr>\n",
       "  <th>Model:</th>                <td>VARMA(3,3)</td>       <th>  Log Likelihood     </th> <td>-2270.316</td>\n",
       "</tr>\n",
       "<tr>\n",
       "  <th></th>                      <td>+ intercept</td>      <th>  AIC                </th> <td>4598.631</td> \n",
       "</tr>\n",
       "<tr>\n",
       "  <th>Date:</th>              <td>Wed, 03 Jun 2020</td>    <th>  BIC                </th> <td>4699.327</td> \n",
       "</tr>\n",
       "<tr>\n",
       "  <th>Time:</th>                  <td>19:51:07</td>        <th>  HQIC               </th> <td>4639.213</td> \n",
       "</tr>\n",
       "<tr>\n",
       "  <th>Sample:</th>               <td>03-01-1995</td>       <th>                     </th>     <td> </td>    \n",
       "</tr>\n",
       "<tr>\n",
       "  <th></th>                     <td>- 12-01-2014</td>      <th>                     </th>     <td> </td>    \n",
       "</tr>\n",
       "<tr>\n",
       "  <th>Covariance Type:</th>          <td>opg</td>          <th>                     </th>     <td> </td>    \n",
       "</tr>\n",
       "</table>\n",
       "<table class=\"simpletable\">\n",
       "<tr>\n",
       "  <th>Ljung-Box (Q):</th>          <td>45.05, 28.91</td> <th>  Jarque-Bera (JB):  </th> <td>605.57, 132.83</td>\n",
       "</tr>\n",
       "<tr>\n",
       "  <th>Prob(Q):</th>                 <td>0.27, 0.90</td>  <th>  Prob(JB):          </th>   <td>0.00, 0.00</td>  \n",
       "</tr>\n",
       "<tr>\n",
       "  <th>Heteroskedasticity (H):</th>  <td>6.22, 2.74</td>  <th>  Skew:              </th>   <td>1.35, -0.43</td> \n",
       "</tr>\n",
       "<tr>\n",
       "  <th>Prob(H) (two-sided):</th>     <td>0.00, 0.00</td>  <th>  Kurtosis:          </th>   <td>10.33, 6.56</td> \n",
       "</tr>\n",
       "</table>\n",
       "<table class=\"simpletable\">\n",
       "<caption>Results for equation Money</caption>\n",
       "<tr>\n",
       "         <td></td>           <th>coef</th>     <th>std err</th>      <th>z</th>      <th>P>|z|</th>  <th>[0.025</th>    <th>0.975]</th>  \n",
       "</tr>\n",
       "<tr>\n",
       "  <th>intercept</th>      <td>    0.3410</td> <td>    0.362</td> <td>    0.941</td> <td> 0.347</td> <td>   -0.369</td> <td>    1.051</td>\n",
       "</tr>\n",
       "<tr>\n",
       "  <th>L1.Money</th>       <td>   -0.5231</td> <td>    0.289</td> <td>   -1.808</td> <td> 0.071</td> <td>   -1.090</td> <td>    0.044</td>\n",
       "</tr>\n",
       "<tr>\n",
       "  <th>L1.Spending</th>    <td>   -0.1964</td> <td>    1.293</td> <td>   -0.152</td> <td> 0.879</td> <td>   -2.731</td> <td>    2.338</td>\n",
       "</tr>\n",
       "<tr>\n",
       "  <th>L2.Money</th>       <td>   -0.1636</td> <td>    0.618</td> <td>   -0.265</td> <td> 0.791</td> <td>   -1.375</td> <td>    1.048</td>\n",
       "</tr>\n",
       "<tr>\n",
       "  <th>L2.Spending</th>    <td>   -0.3982</td> <td>    0.399</td> <td>   -0.999</td> <td> 0.318</td> <td>   -1.179</td> <td>    0.383</td>\n",
       "</tr>\n",
       "<tr>\n",
       "  <th>L3.Money</th>       <td>    0.2431</td> <td>    0.122</td> <td>    1.996</td> <td> 0.046</td> <td>    0.004</td> <td>    0.482</td>\n",
       "</tr>\n",
       "<tr>\n",
       "  <th>L3.Spending</th>    <td>   -0.2360</td> <td>    0.068</td> <td>   -3.453</td> <td> 0.001</td> <td>   -0.370</td> <td>   -0.102</td>\n",
       "</tr>\n",
       "<tr>\n",
       "  <th>L1.e(Money)</th>    <td>   -0.2744</td> <td>    3.156</td> <td>   -0.087</td> <td> 0.931</td> <td>   -6.460</td> <td>    5.911</td>\n",
       "</tr>\n",
       "<tr>\n",
       "  <th>L1.e(Spending)</th> <td>    0.0812</td> <td>    1.293</td> <td>    0.063</td> <td> 0.950</td> <td>   -2.453</td> <td>    2.616</td>\n",
       "</tr>\n",
       "<tr>\n",
       "  <th>L2.e(Money)</th>    <td>   -0.3819</td> <td>    2.328</td> <td>   -0.164</td> <td> 0.870</td> <td>   -4.945</td> <td>    4.182</td>\n",
       "</tr>\n",
       "<tr>\n",
       "  <th>L2.e(Spending)</th> <td>    0.1219</td> <td>    0.999</td> <td>    0.122</td> <td> 0.903</td> <td>   -1.836</td> <td>    2.080</td>\n",
       "</tr>\n",
       "<tr>\n",
       "  <th>L3.e(Money)</th>    <td>   -0.3114</td> <td>    1.277</td> <td>   -0.244</td> <td> 0.807</td> <td>   -2.815</td> <td>    2.192</td>\n",
       "</tr>\n",
       "<tr>\n",
       "  <th>L3.e(Spending)</th> <td>   -0.0919</td> <td>    0.304</td> <td>   -0.302</td> <td> 0.763</td> <td>   -0.689</td> <td>    0.505</td>\n",
       "</tr>\n",
       "</table>\n",
       "<table class=\"simpletable\">\n",
       "<caption>Results for equation Spending</caption>\n",
       "<tr>\n",
       "         <td></td>           <th>coef</th>     <th>std err</th>      <th>z</th>      <th>P>|z|</th>  <th>[0.025</th>    <th>0.975]</th>  \n",
       "</tr>\n",
       "<tr>\n",
       "  <th>intercept</th>      <td>    0.1540</td> <td>    0.585</td> <td>    0.263</td> <td> 0.792</td> <td>   -0.992</td> <td>    1.300</td>\n",
       "</tr>\n",
       "<tr>\n",
       "  <th>L1.Money</th>       <td>   -0.4267</td> <td>    0.516</td> <td>   -0.827</td> <td> 0.409</td> <td>   -1.438</td> <td>    0.585</td>\n",
       "</tr>\n",
       "<tr>\n",
       "  <th>L1.Spending</th>    <td>   -0.1514</td> <td>    2.375</td> <td>   -0.064</td> <td> 0.949</td> <td>   -4.807</td> <td>    4.504</td>\n",
       "</tr>\n",
       "<tr>\n",
       "  <th>L2.Money</th>       <td>    0.1038</td> <td>    1.171</td> <td>    0.089</td> <td> 0.929</td> <td>   -2.191</td> <td>    2.398</td>\n",
       "</tr>\n",
       "<tr>\n",
       "  <th>L2.Spending</th>    <td>    0.0390</td> <td>    0.743</td> <td>    0.052</td> <td> 0.958</td> <td>   -1.418</td> <td>    1.496</td>\n",
       "</tr>\n",
       "<tr>\n",
       "  <th>L3.Money</th>       <td>   -0.0850</td> <td>    0.188</td> <td>   -0.453</td> <td> 0.651</td> <td>   -0.453</td> <td>    0.283</td>\n",
       "</tr>\n",
       "<tr>\n",
       "  <th>L3.Spending</th>    <td>    0.0074</td> <td>    0.190</td> <td>    0.039</td> <td> 0.969</td> <td>   -0.365</td> <td>    0.379</td>\n",
       "</tr>\n",
       "<tr>\n",
       "  <th>L1.e(Money)</th>    <td>    0.6359</td> <td>    1.010</td> <td>    0.629</td> <td> 0.529</td> <td>   -1.344</td> <td>    2.616</td>\n",
       "</tr>\n",
       "<tr>\n",
       "  <th>L1.e(Spending)</th> <td>   -0.7980</td> <td>    2.369</td> <td>   -0.337</td> <td> 0.736</td> <td>   -5.442</td> <td>    3.846</td>\n",
       "</tr>\n",
       "<tr>\n",
       "  <th>L2.e(Money)</th>    <td>   -0.6996</td> <td>    2.448</td> <td>   -0.286</td> <td> 0.775</td> <td>   -5.498</td> <td>    4.099</td>\n",
       "</tr>\n",
       "<tr>\n",
       "  <th>L2.e(Spending)</th> <td>   -0.1393</td> <td>    1.805</td> <td>   -0.077</td> <td> 0.939</td> <td>   -3.677</td> <td>    3.399</td>\n",
       "</tr>\n",
       "<tr>\n",
       "  <th>L3.e(Money)</th>    <td>    0.0966</td> <td>    1.702</td> <td>    0.057</td> <td> 0.955</td> <td>   -3.240</td> <td>    3.433</td>\n",
       "</tr>\n",
       "<tr>\n",
       "  <th>L3.e(Spending)</th> <td>    0.0505</td> <td>    0.539</td> <td>    0.094</td> <td> 0.925</td> <td>   -1.006</td> <td>    1.107</td>\n",
       "</tr>\n",
       "</table>\n",
       "<table class=\"simpletable\">\n",
       "<caption>Error covariance matrix</caption>\n",
       "<tr>\n",
       "             <td></td>                <th>coef</th>     <th>std err</th>      <th>z</th>      <th>P>|z|</th>  <th>[0.025</th>    <th>0.975]</th>  \n",
       "</tr>\n",
       "<tr>\n",
       "  <th>sqrt.var.Money</th>          <td>   24.5107</td> <td>   38.402</td> <td>    0.638</td> <td> 0.523</td> <td>  -50.755</td> <td>   99.777</td>\n",
       "</tr>\n",
       "<tr>\n",
       "  <th>sqrt.cov.Money.Spending</th> <td>   -8.1911</td> <td>    9.984</td> <td>   -0.820</td> <td> 0.412</td> <td>  -27.760</td> <td>   11.378</td>\n",
       "</tr>\n",
       "<tr>\n",
       "  <th>sqrt.var.Spending</th>       <td>   32.5872</td> <td>    1.297</td> <td>   25.122</td> <td> 0.000</td> <td>   30.045</td> <td>   35.130</td>\n",
       "</tr>\n",
       "</table><br/><br/>Warnings:<br/>[1] Covariance matrix calculated using the outer product of gradients (complex-step)."
      ],
      "text/plain": [
       "<class 'statsmodels.iolib.summary.Summary'>\n",
       "\"\"\"\n",
       "                             Statespace Model Results                            \n",
       "=================================================================================\n",
       "Dep. Variable:     ['Money', 'Spending']   No. Observations:                  238\n",
       "Model:                        VARMA(3,3)   Log Likelihood               -2270.316\n",
       "                             + intercept   AIC                           4598.631\n",
       "Date:                   Wed, 03 Jun 2020   BIC                           4699.327\n",
       "Time:                           19:51:07   HQIC                          4639.213\n",
       "Sample:                       03-01-1995                                         \n",
       "                            - 12-01-2014                                         \n",
       "Covariance Type:                     opg                                         \n",
       "===================================================================================\n",
       "Ljung-Box (Q):                45.05, 28.91   Jarque-Bera (JB):       605.57, 132.83\n",
       "Prob(Q):                        0.27, 0.90   Prob(JB):                   0.00, 0.00\n",
       "Heteroskedasticity (H):         6.22, 2.74   Skew:                      1.35, -0.43\n",
       "Prob(H) (two-sided):            0.00, 0.00   Kurtosis:                  10.33, 6.56\n",
       "                            Results for equation Money                            \n",
       "==================================================================================\n",
       "                     coef    std err          z      P>|z|      [0.025      0.975]\n",
       "----------------------------------------------------------------------------------\n",
       "intercept          0.3410      0.362      0.941      0.347      -0.369       1.051\n",
       "L1.Money          -0.5231      0.289     -1.808      0.071      -1.090       0.044\n",
       "L1.Spending       -0.1964      1.293     -0.152      0.879      -2.731       2.338\n",
       "L2.Money          -0.1636      0.618     -0.265      0.791      -1.375       1.048\n",
       "L2.Spending       -0.3982      0.399     -0.999      0.318      -1.179       0.383\n",
       "L3.Money           0.2431      0.122      1.996      0.046       0.004       0.482\n",
       "L3.Spending       -0.2360      0.068     -3.453      0.001      -0.370      -0.102\n",
       "L1.e(Money)       -0.2744      3.156     -0.087      0.931      -6.460       5.911\n",
       "L1.e(Spending)     0.0812      1.293      0.063      0.950      -2.453       2.616\n",
       "L2.e(Money)       -0.3819      2.328     -0.164      0.870      -4.945       4.182\n",
       "L2.e(Spending)     0.1219      0.999      0.122      0.903      -1.836       2.080\n",
       "L3.e(Money)       -0.3114      1.277     -0.244      0.807      -2.815       2.192\n",
       "L3.e(Spending)    -0.0919      0.304     -0.302      0.763      -0.689       0.505\n",
       "                          Results for equation Spending                           \n",
       "==================================================================================\n",
       "                     coef    std err          z      P>|z|      [0.025      0.975]\n",
       "----------------------------------------------------------------------------------\n",
       "intercept          0.1540      0.585      0.263      0.792      -0.992       1.300\n",
       "L1.Money          -0.4267      0.516     -0.827      0.409      -1.438       0.585\n",
       "L1.Spending       -0.1514      2.375     -0.064      0.949      -4.807       4.504\n",
       "L2.Money           0.1038      1.171      0.089      0.929      -2.191       2.398\n",
       "L2.Spending        0.0390      0.743      0.052      0.958      -1.418       1.496\n",
       "L3.Money          -0.0850      0.188     -0.453      0.651      -0.453       0.283\n",
       "L3.Spending        0.0074      0.190      0.039      0.969      -0.365       0.379\n",
       "L1.e(Money)        0.6359      1.010      0.629      0.529      -1.344       2.616\n",
       "L1.e(Spending)    -0.7980      2.369     -0.337      0.736      -5.442       3.846\n",
       "L2.e(Money)       -0.6996      2.448     -0.286      0.775      -5.498       4.099\n",
       "L2.e(Spending)    -0.1393      1.805     -0.077      0.939      -3.677       3.399\n",
       "L3.e(Money)        0.0966      1.702      0.057      0.955      -3.240       3.433\n",
       "L3.e(Spending)     0.0505      0.539      0.094      0.925      -1.006       1.107\n",
       "                                  Error covariance matrix                                  \n",
       "===========================================================================================\n",
       "                              coef    std err          z      P>|z|      [0.025      0.975]\n",
       "-------------------------------------------------------------------------------------------\n",
       "sqrt.var.Money             24.5107     38.402      0.638      0.523     -50.755      99.777\n",
       "sqrt.cov.Money.Spending    -8.1911      9.984     -0.820      0.412     -27.760      11.378\n",
       "sqrt.var.Spending          32.5872      1.297     25.122      0.000      30.045      35.130\n",
       "===========================================================================================\n",
       "\n",
       "Warnings:\n",
       "[1] Covariance matrix calculated using the outer product of gradients (complex-step).\n",
       "\"\"\""
      ]
     },
     "execution_count": 137,
     "metadata": {},
     "output_type": "execute_result"
    }
   ],
   "source": [
    "# trend='c' is default means constant_linear_trend\n",
    "model = VARMAX(train, order=(3,3), trend='c')\n",
    "\n",
    "# disp=False is like verbose of scikit_learn\n",
    "results = model.fit(maxiter=1000, disp=False)\n",
    "results.summary()"
   ]
  },
  {
   "cell_type": "markdown",
   "metadata": {},
   "source": [
    "## Predict the next 12 values\n",
    "Unlike the VAR model we used in the previous section, the VARMAX <tt>.forecast()</tt> function won't require that we pass in a number of previous observations, and it will provide an extended DateTime index."
   ]
  },
  {
   "cell_type": "code",
   "execution_count": 138,
   "metadata": {},
   "outputs": [
    {
     "data": {
      "text/html": [
       "<div>\n",
       "<style scoped>\n",
       "    .dataframe tbody tr th:only-of-type {\n",
       "        vertical-align: middle;\n",
       "    }\n",
       "\n",
       "    .dataframe tbody tr th {\n",
       "        vertical-align: top;\n",
       "    }\n",
       "\n",
       "    .dataframe thead th {\n",
       "        text-align: right;\n",
       "    }\n",
       "</style>\n",
       "<table border=\"1\" class=\"dataframe\">\n",
       "  <thead>\n",
       "    <tr style=\"text-align: right;\">\n",
       "      <th></th>\n",
       "      <th>Money</th>\n",
       "      <th>Spending</th>\n",
       "    </tr>\n",
       "  </thead>\n",
       "  <tbody>\n",
       "    <tr>\n",
       "      <th>2015-01-01</th>\n",
       "      <td>-13.141801</td>\n",
       "      <td>34.336095</td>\n",
       "    </tr>\n",
       "    <tr>\n",
       "      <th>2015-02-01</th>\n",
       "      <td>-1.376637</td>\n",
       "      <td>-5.701545</td>\n",
       "    </tr>\n",
       "    <tr>\n",
       "      <th>2015-03-01</th>\n",
       "      <td>1.508859</td>\n",
       "      <td>-1.773214</td>\n",
       "    </tr>\n",
       "    <tr>\n",
       "      <th>2015-04-01</th>\n",
       "      <td>-8.903177</td>\n",
       "      <td>0.786351</td>\n",
       "    </tr>\n",
       "    <tr>\n",
       "      <th>2015-05-01</th>\n",
       "      <td>6.314497</td>\n",
       "      <td>3.996064</td>\n",
       "    </tr>\n",
       "    <tr>\n",
       "      <th>2015-06-01</th>\n",
       "      <td>-1.818129</td>\n",
       "      <td>-4.180621</td>\n",
       "    </tr>\n",
       "    <tr>\n",
       "      <th>2015-07-01</th>\n",
       "      <td>-2.861149</td>\n",
       "      <td>3.137027</td>\n",
       "    </tr>\n",
       "    <tr>\n",
       "      <th>2015-08-01</th>\n",
       "      <td>3.775751</td>\n",
       "      <td>0.040926</td>\n",
       "    </tr>\n",
       "    <tr>\n",
       "      <th>2015-09-01</th>\n",
       "      <td>-1.878504</td>\n",
       "      <td>-1.514557</td>\n",
       "    </tr>\n",
       "    <tr>\n",
       "      <th>2015-10-01</th>\n",
       "      <td>-0.448846</td>\n",
       "      <td>1.845112</td>\n",
       "    </tr>\n",
       "    <tr>\n",
       "      <th>2015-11-01</th>\n",
       "      <td>2.032127</td>\n",
       "      <td>-0.508661</td>\n",
       "    </tr>\n",
       "    <tr>\n",
       "      <th>2015-12-01</th>\n",
       "      <td>-1.382611</td>\n",
       "      <td>-0.462278</td>\n",
       "    </tr>\n",
       "  </tbody>\n",
       "</table>\n",
       "</div>"
      ],
      "text/plain": [
       "                Money   Spending\n",
       "2015-01-01 -13.141801  34.336095\n",
       "2015-02-01  -1.376637  -5.701545\n",
       "2015-03-01   1.508859  -1.773214\n",
       "2015-04-01  -8.903177   0.786351\n",
       "2015-05-01   6.314497   3.996064\n",
       "2015-06-01  -1.818129  -4.180621\n",
       "2015-07-01  -2.861149   3.137027\n",
       "2015-08-01   3.775751   0.040926\n",
       "2015-09-01  -1.878504  -1.514557\n",
       "2015-10-01  -0.448846   1.845112\n",
       "2015-11-01   2.032127  -0.508661\n",
       "2015-12-01  -1.382611  -0.462278"
      ]
     },
     "execution_count": 138,
     "metadata": {},
     "output_type": "execute_result"
    }
   ],
   "source": [
    "df_forecast = results.forecast(12)\n",
    "df_forecast"
   ]
  },
  {
   "cell_type": "markdown",
   "metadata": {},
   "source": [
    "This is much simpler than what we had to do for VAR model."
   ]
  },
  {
   "cell_type": "markdown",
   "metadata": {},
   "source": [
    "## Invert the Transformation\n",
    "Remember that the forecasted values represent second-order differences. To compare them to the original data we have to roll back each difference. To roll back a first-order difference we take the most recent value on the training side of the original series, and add it to a cumulative sum of forecasted values. When working with second-order differences we first must perform this operation on the most recent first-order difference.\n",
    "\n",
    "Here we'll use the <tt>nobs</tt> variable we defined during the train/test/split step."
   ]
  },
  {
   "cell_type": "code",
   "execution_count": 139,
   "metadata": {},
   "outputs": [],
   "source": [
    "# Add the most recent first difference from the training side\n",
    "# of the original dataset to the forecast cumulative sum\n",
    "df_forecast['Money1d'] = (df['Money'].iloc[-nobs-1]-\\\n",
    "                          df['Money'].iloc[-nobs-2]) + \\\n",
    "                                df_forecast['Money'].cumsum()\n",
    "\n",
    "# Now build the forecast values from the first difference set\n",
    "df_forecast['MoneyForecast'] = df['Money'].iloc[-nobs-1] + \\\n",
    "                                    df_forecast['Money1d'].cumsum()"
   ]
  },
  {
   "cell_type": "code",
   "execution_count": 140,
   "metadata": {},
   "outputs": [],
   "source": [
    "# Add the most recent first difference from the training side \n",
    "# of the original dataset to the forecast cumulative sum\n",
    "df_forecast['Spending1d'] = (df['Spending'].iloc[-nobs-1]-\\\n",
    "                             df['Spending'].iloc[-nobs-2]) +\\\n",
    "                                df_forecast['Spending'].cumsum()\n",
    "\n",
    "# Now build the forecast values from the first difference set\n",
    "df_forecast['SpendingForecast'] = df['Spending'].iloc[-nobs-1] +\\\n",
    "                                    df_forecast['Spending1d'].cumsum()"
   ]
  },
  {
   "cell_type": "code",
   "execution_count": 141,
   "metadata": {},
   "outputs": [
    {
     "data": {
      "text/html": [
       "<div>\n",
       "<style scoped>\n",
       "    .dataframe tbody tr th:only-of-type {\n",
       "        vertical-align: middle;\n",
       "    }\n",
       "\n",
       "    .dataframe tbody tr th {\n",
       "        vertical-align: top;\n",
       "    }\n",
       "\n",
       "    .dataframe thead th {\n",
       "        text-align: right;\n",
       "    }\n",
       "</style>\n",
       "<table border=\"1\" class=\"dataframe\">\n",
       "  <thead>\n",
       "    <tr style=\"text-align: right;\">\n",
       "      <th></th>\n",
       "      <th>Money</th>\n",
       "      <th>Spending</th>\n",
       "      <th>Money1d</th>\n",
       "      <th>MoneyForecast</th>\n",
       "      <th>Spending1d</th>\n",
       "      <th>SpendingForecast</th>\n",
       "    </tr>\n",
       "  </thead>\n",
       "  <tbody>\n",
       "    <tr>\n",
       "      <th>2015-01-01</th>\n",
       "      <td>-13.141801</td>\n",
       "      <td>34.336095</td>\n",
       "      <td>65.458199</td>\n",
       "      <td>11735.558199</td>\n",
       "      <td>44.936095</td>\n",
       "      <td>12106.936095</td>\n",
       "    </tr>\n",
       "    <tr>\n",
       "      <th>2015-02-01</th>\n",
       "      <td>-1.376637</td>\n",
       "      <td>-5.701545</td>\n",
       "      <td>64.081562</td>\n",
       "      <td>11799.639762</td>\n",
       "      <td>39.234550</td>\n",
       "      <td>12146.170645</td>\n",
       "    </tr>\n",
       "    <tr>\n",
       "      <th>2015-03-01</th>\n",
       "      <td>1.508859</td>\n",
       "      <td>-1.773214</td>\n",
       "      <td>65.590421</td>\n",
       "      <td>11865.230183</td>\n",
       "      <td>37.461336</td>\n",
       "      <td>12183.631981</td>\n",
       "    </tr>\n",
       "    <tr>\n",
       "      <th>2015-04-01</th>\n",
       "      <td>-8.903177</td>\n",
       "      <td>0.786351</td>\n",
       "      <td>56.687244</td>\n",
       "      <td>11921.917427</td>\n",
       "      <td>38.247687</td>\n",
       "      <td>12221.879667</td>\n",
       "    </tr>\n",
       "    <tr>\n",
       "      <th>2015-05-01</th>\n",
       "      <td>6.314497</td>\n",
       "      <td>3.996064</td>\n",
       "      <td>63.001741</td>\n",
       "      <td>11984.919169</td>\n",
       "      <td>42.243750</td>\n",
       "      <td>12264.123418</td>\n",
       "    </tr>\n",
       "    <tr>\n",
       "      <th>2015-06-01</th>\n",
       "      <td>-1.818129</td>\n",
       "      <td>-4.180621</td>\n",
       "      <td>61.183613</td>\n",
       "      <td>12046.102781</td>\n",
       "      <td>38.063129</td>\n",
       "      <td>12302.186547</td>\n",
       "    </tr>\n",
       "    <tr>\n",
       "      <th>2015-07-01</th>\n",
       "      <td>-2.861149</td>\n",
       "      <td>3.137027</td>\n",
       "      <td>58.322463</td>\n",
       "      <td>12104.425245</td>\n",
       "      <td>41.200157</td>\n",
       "      <td>12343.386704</td>\n",
       "    </tr>\n",
       "    <tr>\n",
       "      <th>2015-08-01</th>\n",
       "      <td>3.775751</td>\n",
       "      <td>0.040926</td>\n",
       "      <td>62.098214</td>\n",
       "      <td>12166.523459</td>\n",
       "      <td>41.241082</td>\n",
       "      <td>12384.627786</td>\n",
       "    </tr>\n",
       "    <tr>\n",
       "      <th>2015-09-01</th>\n",
       "      <td>-1.878504</td>\n",
       "      <td>-1.514557</td>\n",
       "      <td>60.219711</td>\n",
       "      <td>12226.743169</td>\n",
       "      <td>39.726525</td>\n",
       "      <td>12424.354312</td>\n",
       "    </tr>\n",
       "    <tr>\n",
       "      <th>2015-10-01</th>\n",
       "      <td>-0.448846</td>\n",
       "      <td>1.845112</td>\n",
       "      <td>59.770864</td>\n",
       "      <td>12286.514033</td>\n",
       "      <td>41.571637</td>\n",
       "      <td>12465.925949</td>\n",
       "    </tr>\n",
       "    <tr>\n",
       "      <th>2015-11-01</th>\n",
       "      <td>2.032127</td>\n",
       "      <td>-0.508661</td>\n",
       "      <td>61.802991</td>\n",
       "      <td>12348.317024</td>\n",
       "      <td>41.062976</td>\n",
       "      <td>12506.988925</td>\n",
       "    </tr>\n",
       "    <tr>\n",
       "      <th>2015-12-01</th>\n",
       "      <td>-1.382611</td>\n",
       "      <td>-0.462278</td>\n",
       "      <td>60.420380</td>\n",
       "      <td>12408.737404</td>\n",
       "      <td>40.600699</td>\n",
       "      <td>12547.589624</td>\n",
       "    </tr>\n",
       "  </tbody>\n",
       "</table>\n",
       "</div>"
      ],
      "text/plain": [
       "                Money   Spending    Money1d  MoneyForecast  Spending1d  \\\n",
       "2015-01-01 -13.141801  34.336095  65.458199   11735.558199   44.936095   \n",
       "2015-02-01  -1.376637  -5.701545  64.081562   11799.639762   39.234550   \n",
       "2015-03-01   1.508859  -1.773214  65.590421   11865.230183   37.461336   \n",
       "2015-04-01  -8.903177   0.786351  56.687244   11921.917427   38.247687   \n",
       "2015-05-01   6.314497   3.996064  63.001741   11984.919169   42.243750   \n",
       "2015-06-01  -1.818129  -4.180621  61.183613   12046.102781   38.063129   \n",
       "2015-07-01  -2.861149   3.137027  58.322463   12104.425245   41.200157   \n",
       "2015-08-01   3.775751   0.040926  62.098214   12166.523459   41.241082   \n",
       "2015-09-01  -1.878504  -1.514557  60.219711   12226.743169   39.726525   \n",
       "2015-10-01  -0.448846   1.845112  59.770864   12286.514033   41.571637   \n",
       "2015-11-01   2.032127  -0.508661  61.802991   12348.317024   41.062976   \n",
       "2015-12-01  -1.382611  -0.462278  60.420380   12408.737404   40.600699   \n",
       "\n",
       "            SpendingForecast  \n",
       "2015-01-01      12106.936095  \n",
       "2015-02-01      12146.170645  \n",
       "2015-03-01      12183.631981  \n",
       "2015-04-01      12221.879667  \n",
       "2015-05-01      12264.123418  \n",
       "2015-06-01      12302.186547  \n",
       "2015-07-01      12343.386704  \n",
       "2015-08-01      12384.627786  \n",
       "2015-09-01      12424.354312  \n",
       "2015-10-01      12465.925949  \n",
       "2015-11-01      12506.988925  \n",
       "2015-12-01      12547.589624  "
      ]
     },
     "execution_count": 141,
     "metadata": {},
     "output_type": "execute_result"
    }
   ],
   "source": [
    "df_forecast"
   ]
  },
  {
   "cell_type": "code",
   "execution_count": 142,
   "metadata": {},
   "outputs": [
    {
     "data": {
      "text/html": [
       "<div>\n",
       "<style scoped>\n",
       "    .dataframe tbody tr th:only-of-type {\n",
       "        vertical-align: middle;\n",
       "    }\n",
       "\n",
       "    .dataframe tbody tr th {\n",
       "        vertical-align: top;\n",
       "    }\n",
       "\n",
       "    .dataframe thead th {\n",
       "        text-align: right;\n",
       "    }\n",
       "</style>\n",
       "<table border=\"1\" class=\"dataframe\">\n",
       "  <thead>\n",
       "    <tr style=\"text-align: right;\">\n",
       "      <th></th>\n",
       "      <th>Money</th>\n",
       "      <th>Spending</th>\n",
       "      <th>MoneyForecast</th>\n",
       "      <th>SpendingForecast</th>\n",
       "    </tr>\n",
       "    <tr>\n",
       "      <th>Date</th>\n",
       "      <th></th>\n",
       "      <th></th>\n",
       "      <th></th>\n",
       "      <th></th>\n",
       "    </tr>\n",
       "  </thead>\n",
       "  <tbody>\n",
       "    <tr>\n",
       "      <th>2015-01-01</th>\n",
       "      <td>11733.2</td>\n",
       "      <td>12046.0</td>\n",
       "      <td>11735.558199</td>\n",
       "      <td>12106.936095</td>\n",
       "    </tr>\n",
       "    <tr>\n",
       "      <th>2015-02-01</th>\n",
       "      <td>11852.4</td>\n",
       "      <td>12082.4</td>\n",
       "      <td>11799.639762</td>\n",
       "      <td>12146.170645</td>\n",
       "    </tr>\n",
       "    <tr>\n",
       "      <th>2015-03-01</th>\n",
       "      <td>11868.8</td>\n",
       "      <td>12158.3</td>\n",
       "      <td>11865.230183</td>\n",
       "      <td>12183.631981</td>\n",
       "    </tr>\n",
       "    <tr>\n",
       "      <th>2015-04-01</th>\n",
       "      <td>11916.1</td>\n",
       "      <td>12193.8</td>\n",
       "      <td>11921.917427</td>\n",
       "      <td>12221.879667</td>\n",
       "    </tr>\n",
       "    <tr>\n",
       "      <th>2015-05-01</th>\n",
       "      <td>11947.6</td>\n",
       "      <td>12268.1</td>\n",
       "      <td>11984.919169</td>\n",
       "      <td>12264.123418</td>\n",
       "    </tr>\n",
       "    <tr>\n",
       "      <th>2015-06-01</th>\n",
       "      <td>11993.1</td>\n",
       "      <td>12308.3</td>\n",
       "      <td>12046.102781</td>\n",
       "      <td>12302.186547</td>\n",
       "    </tr>\n",
       "    <tr>\n",
       "      <th>2015-07-01</th>\n",
       "      <td>12045.3</td>\n",
       "      <td>12355.4</td>\n",
       "      <td>12104.425245</td>\n",
       "      <td>12343.386704</td>\n",
       "    </tr>\n",
       "    <tr>\n",
       "      <th>2015-08-01</th>\n",
       "      <td>12096.8</td>\n",
       "      <td>12394.0</td>\n",
       "      <td>12166.523459</td>\n",
       "      <td>12384.627786</td>\n",
       "    </tr>\n",
       "    <tr>\n",
       "      <th>2015-09-01</th>\n",
       "      <td>12153.8</td>\n",
       "      <td>12392.8</td>\n",
       "      <td>12226.743169</td>\n",
       "      <td>12424.354312</td>\n",
       "    </tr>\n",
       "    <tr>\n",
       "      <th>2015-10-01</th>\n",
       "      <td>12187.7</td>\n",
       "      <td>12416.1</td>\n",
       "      <td>12286.514033</td>\n",
       "      <td>12465.925949</td>\n",
       "    </tr>\n",
       "    <tr>\n",
       "      <th>2015-11-01</th>\n",
       "      <td>12277.4</td>\n",
       "      <td>12450.1</td>\n",
       "      <td>12348.317024</td>\n",
       "      <td>12506.988925</td>\n",
       "    </tr>\n",
       "    <tr>\n",
       "      <th>2015-12-01</th>\n",
       "      <td>12335.9</td>\n",
       "      <td>12469.1</td>\n",
       "      <td>12408.737404</td>\n",
       "      <td>12547.589624</td>\n",
       "    </tr>\n",
       "  </tbody>\n",
       "</table>\n",
       "</div>"
      ],
      "text/plain": [
       "              Money  Spending  MoneyForecast  SpendingForecast\n",
       "Date                                                          \n",
       "2015-01-01  11733.2   12046.0   11735.558199      12106.936095\n",
       "2015-02-01  11852.4   12082.4   11799.639762      12146.170645\n",
       "2015-03-01  11868.8   12158.3   11865.230183      12183.631981\n",
       "2015-04-01  11916.1   12193.8   11921.917427      12221.879667\n",
       "2015-05-01  11947.6   12268.1   11984.919169      12264.123418\n",
       "2015-06-01  11993.1   12308.3   12046.102781      12302.186547\n",
       "2015-07-01  12045.3   12355.4   12104.425245      12343.386704\n",
       "2015-08-01  12096.8   12394.0   12166.523459      12384.627786\n",
       "2015-09-01  12153.8   12392.8   12226.743169      12424.354312\n",
       "2015-10-01  12187.7   12416.1   12286.514033      12465.925949\n",
       "2015-11-01  12277.4   12450.1   12348.317024      12506.988925\n",
       "2015-12-01  12335.9   12469.1   12408.737404      12547.589624"
      ]
     },
     "execution_count": 142,
     "metadata": {},
     "output_type": "execute_result"
    }
   ],
   "source": [
    "pd.concat([df.iloc[-12:],df_forecast[['MoneyForecast',\n",
    "                            'SpendingForecast']]],axis=1)"
   ]
  },
  {
   "cell_type": "markdown",
   "metadata": {},
   "source": [
    "## Plot the results"
   ]
  },
  {
   "cell_type": "code",
   "execution_count": 143,
   "metadata": {},
   "outputs": [
    {
     "data": {
      "image/png": "[encoded data removed]",
      "text/plain": [
       "<Figure size 864x360 with 1 Axes>"
      ]
     },
     "metadata": {
      "needs_background": "light"
     },
     "output_type": "display_data"
    }
   ],
   "source": [
    "df['Money'][-nobs:].plot(figsize=(12,5),legend=True).\\\n",
    "                            autoscale(axis='x',tight=True)\n",
    "df_forecast['MoneyForecast'].plot(legend=True);"
   ]
  },
  {
   "cell_type": "code",
   "execution_count": 144,
   "metadata": {},
   "outputs": [
    {
     "data": {
      "image/png": "[encoded data removed]",
      "text/plain": [
       "<Figure size 864x360 with 1 Axes>"
      ]
     },
     "metadata": {
      "needs_background": "light"
     },
     "output_type": "display_data"
    }
   ],
   "source": [
    "df['Spending'][-nobs:].plot(figsize=(12,5),legend=True).\\\n",
    "                                autoscale(axis='x',tight=True)\n",
    "df_forecast['SpendingForecast'].plot(legend=True);"
   ]
  },
  {
   "cell_type": "markdown",
   "metadata": {},
   "source": [
    "**Prediction using VARMA model looks terrible. Let's check this quantitatively.**"
   ]
  },
  {
   "cell_type": "markdown",
   "metadata": {},
   "source": [
    "### Evaluate the model\n",
    "\n",
    "&nbsp;&nbsp;&nbsp;&nbsp;$RMSE = \\sqrt{{\\frac 1 L} \\sum\\limits_{l=1}^L (y_{T+l} - \\hat y_{T+l})^2}$<br><br>\n",
    "where $T$ is the last observation period and $l$ is the lag."
   ]
  },
  {
   "cell_type": "code",
   "execution_count": 145,
   "metadata": {},
   "outputs": [
    {
     "name": "stdout",
     "output_type": "stream",
     "text": [
      "Money VAR(5) RMSE: 58.320\n"
     ]
    }
   ],
   "source": [
    "RMSE1 = rmse(df['Money'][-nobs:],df_forecast['MoneyForecast'])\n",
    "print(f'Money VAR(5) RMSE: {RMSE1:.3f}')"
   ]
  },
  {
   "cell_type": "code",
   "execution_count": 146,
   "metadata": {},
   "outputs": [
    {
     "data": {
      "text/plain": [
       "12034.008333333333"
      ]
     },
     "execution_count": 146,
     "metadata": {},
     "output_type": "execute_result"
    }
   ],
   "source": [
    "df['Money'][-nobs:].mean()"
   ]
  },
  {
   "cell_type": "code",
   "execution_count": 147,
   "metadata": {},
   "outputs": [
    {
     "name": "stdout",
     "output_type": "stream",
     "text": [
      "Spending VAR(5) RMSE: 43.177\n"
     ]
    }
   ],
   "source": [
    "RMSE2 = rmse(df['Spending'][-nobs:], df_forecast['SpendingForecast'])\n",
    "print(f'Spending VAR(5) RMSE: {RMSE2:.3f}')"
   ]
  },
  {
   "cell_type": "code",
   "execution_count": 148,
   "metadata": {},
   "outputs": [
    {
     "data": {
      "text/plain": [
       "12294.533333333333"
      ]
     },
     "execution_count": 148,
     "metadata": {},
     "output_type": "execute_result"
    }
   ],
   "source": [
    "df['Spending'][-nobs:].mean()"
   ]
  },
  {
   "cell_type": "markdown",
   "metadata": {},
   "source": [
    "Clearly these results are less accurate than our earlier VAR(5) model. Still, this tells us something!\n",
    "## Let's compare these results to individual ARMA(3,3) models"
   ]
  },
  {
   "cell_type": "code",
   "execution_count": 149,
   "metadata": {},
   "outputs": [],
   "source": [
    "from statsmodels.tsa.arima_model import ARMA,ARMAResults"
   ]
  },
  {
   "cell_type": "markdown",
   "metadata": {},
   "source": [
    "### Money"
   ]
  },
  {
   "cell_type": "code",
   "execution_count": 150,
   "metadata": {},
   "outputs": [
    {
     "data": {
      "text/html": [
       "<table class=\"simpletable\">\n",
       "<caption>ARMA Model Results</caption>\n",
       "<tr>\n",
       "  <th>Dep. Variable:</th>       <td>Money</td>      <th>  No. Observations:  </th>    <td>238</td>   \n",
       "</tr>\n",
       "<tr>\n",
       "  <th>Model:</th>            <td>ARMA(3, 3)</td>    <th>  Log Likelihood     </th> <td>-1108.971</td>\n",
       "</tr>\n",
       "<tr>\n",
       "  <th>Method:</th>             <td>css-mle</td>     <th>  S.D. of innovations</th>  <td>25.055</td>  \n",
       "</tr>\n",
       "<tr>\n",
       "  <th>Date:</th>          <td>Wed, 03 Jun 2020</td> <th>  AIC                </th> <td>2233.942</td> \n",
       "</tr>\n",
       "<tr>\n",
       "  <th>Time:</th>              <td>19:53:34</td>     <th>  BIC                </th> <td>2261.720</td> \n",
       "</tr>\n",
       "<tr>\n",
       "  <th>Sample:</th>           <td>03-01-1995</td>    <th>  HQIC               </th> <td>2245.137</td> \n",
       "</tr>\n",
       "<tr>\n",
       "  <th></th>                 <td>- 12-01-2014</td>   <th>                     </th>     <td> </td>    \n",
       "</tr>\n",
       "</table>\n",
       "<table class=\"simpletable\">\n",
       "<tr>\n",
       "       <td></td>          <th>coef</th>     <th>std err</th>      <th>z</th>      <th>P>|z|</th>  <th>[0.025</th>    <th>0.975]</th>  \n",
       "</tr>\n",
       "<tr>\n",
       "  <th>const</th>       <td>    0.1824</td> <td>    0.034</td> <td>    5.323</td> <td> 0.000</td> <td>    0.115</td> <td>    0.250</td>\n",
       "</tr>\n",
       "<tr>\n",
       "  <th>ar.L1.Money</th> <td>   -0.7969</td> <td>    0.063</td> <td>  -12.706</td> <td> 0.000</td> <td>   -0.920</td> <td>   -0.674</td>\n",
       "</tr>\n",
       "<tr>\n",
       "  <th>ar.L2.Money</th> <td>   -0.6313</td> <td>    0.070</td> <td>   -9.021</td> <td> 0.000</td> <td>   -0.768</td> <td>   -0.494</td>\n",
       "</tr>\n",
       "<tr>\n",
       "  <th>ar.L3.Money</th> <td>    0.3185</td> <td>    0.062</td> <td>    5.144</td> <td> 0.000</td> <td>    0.197</td> <td>    0.440</td>\n",
       "</tr>\n",
       "<tr>\n",
       "  <th>ma.L1.Money</th> <td>    0.0944</td> <td>      nan</td> <td>      nan</td> <td>   nan</td> <td>      nan</td> <td>      nan</td>\n",
       "</tr>\n",
       "<tr>\n",
       "  <th>ma.L2.Money</th> <td>   -0.0944</td> <td>    0.007</td> <td>  -13.752</td> <td> 0.000</td> <td>   -0.108</td> <td>   -0.081</td>\n",
       "</tr>\n",
       "<tr>\n",
       "  <th>ma.L3.Money</th> <td>   -1.0000</td> <td>      nan</td> <td>      nan</td> <td>   nan</td> <td>      nan</td> <td>      nan</td>\n",
       "</tr>\n",
       "</table>\n",
       "<table class=\"simpletable\">\n",
       "<caption>Roots</caption>\n",
       "<tr>\n",
       "    <td></td>   <th>            Real</th>  <th>         Imaginary</th> <th>         Modulus</th>  <th>        Frequency</th>\n",
       "</tr>\n",
       "<tr>\n",
       "  <th>AR.1</th> <td>          -0.5644</td> <td>          -0.8311j</td> <td>           1.0046</td> <td>          -0.3449</td>\n",
       "</tr>\n",
       "<tr>\n",
       "  <th>AR.2</th> <td>          -0.5644</td> <td>          +0.8311j</td> <td>           1.0046</td> <td>           0.3449</td>\n",
       "</tr>\n",
       "<tr>\n",
       "  <th>AR.3</th> <td>           3.1109</td> <td>          -0.0000j</td> <td>           3.1109</td> <td>          -0.0000</td>\n",
       "</tr>\n",
       "<tr>\n",
       "  <th>MA.1</th> <td>          -0.5472</td> <td>          -0.8370j</td> <td>           1.0000</td> <td>          -0.3422</td>\n",
       "</tr>\n",
       "<tr>\n",
       "  <th>MA.2</th> <td>          -0.5472</td> <td>          +0.8370j</td> <td>           1.0000</td> <td>           0.3422</td>\n",
       "</tr>\n",
       "<tr>\n",
       "  <th>MA.3</th> <td>           1.0000</td> <td>          -0.0000j</td> <td>           1.0000</td> <td>          -0.0000</td>\n",
       "</tr>\n",
       "</table>"
      ],
      "text/plain": [
       "<class 'statsmodels.iolib.summary.Summary'>\n",
       "\"\"\"\n",
       "                              ARMA Model Results                              \n",
       "==============================================================================\n",
       "Dep. Variable:                  Money   No. Observations:                  238\n",
       "Model:                     ARMA(3, 3)   Log Likelihood               -1108.971\n",
       "Method:                       css-mle   S.D. of innovations             25.055\n",
       "Date:                Wed, 03 Jun 2020   AIC                           2233.942\n",
       "Time:                        19:53:34   BIC                           2261.720\n",
       "Sample:                    03-01-1995   HQIC                          2245.137\n",
       "                         - 12-01-2014                                         \n",
       "===============================================================================\n",
       "                  coef    std err          z      P>|z|      [0.025      0.975]\n",
       "-------------------------------------------------------------------------------\n",
       "const           0.1824      0.034      5.323      0.000       0.115       0.250\n",
       "ar.L1.Money    -0.7969      0.063    -12.706      0.000      -0.920      -0.674\n",
       "ar.L2.Money    -0.6313      0.070     -9.021      0.000      -0.768      -0.494\n",
       "ar.L3.Money     0.3185      0.062      5.144      0.000       0.197       0.440\n",
       "ma.L1.Money     0.0944        nan        nan        nan         nan         nan\n",
       "ma.L2.Money    -0.0944      0.007    -13.752      0.000      -0.108      -0.081\n",
       "ma.L3.Money    -1.0000        nan        nan        nan         nan         nan\n",
       "                                    Roots                                    \n",
       "=============================================================================\n",
       "                  Real          Imaginary           Modulus         Frequency\n",
       "-----------------------------------------------------------------------------\n",
       "AR.1           -0.5644           -0.8311j            1.0046           -0.3449\n",
       "AR.2           -0.5644           +0.8311j            1.0046            0.3449\n",
       "AR.3            3.1109           -0.0000j            3.1109           -0.0000\n",
       "MA.1           -0.5472           -0.8370j            1.0000           -0.3422\n",
       "MA.2           -0.5472           +0.8370j            1.0000            0.3422\n",
       "MA.3            1.0000           -0.0000j            1.0000           -0.0000\n",
       "-----------------------------------------------------------------------------\n",
       "\"\"\""
      ]
     },
     "execution_count": 150,
     "metadata": {},
     "output_type": "execute_result"
    }
   ],
   "source": [
    "# Auto_arima suggested for money p,d,q:(3, 2, 3)\n",
    "model = ARMA(train['Money'],order=(3,3))\n",
    "results = model.fit()\n",
    "results.summary()"
   ]
  },
  {
   "cell_type": "code",
   "execution_count": 151,
   "metadata": {},
   "outputs": [],
   "source": [
    "start=len(train)\n",
    "end=len(train)+len(test)-1\n",
    "z1 = results.predict(start=start, end=end).rename('Money')\n",
    "z1 = pd.DataFrame(z1)"
   ]
  },
  {
   "cell_type": "code",
   "execution_count": 152,
   "metadata": {},
   "outputs": [
    {
     "data": {
      "text/html": [
       "<div>\n",
       "<style scoped>\n",
       "    .dataframe tbody tr th:only-of-type {\n",
       "        vertical-align: middle;\n",
       "    }\n",
       "\n",
       "    .dataframe tbody tr th {\n",
       "        vertical-align: top;\n",
       "    }\n",
       "\n",
       "    .dataframe thead th {\n",
       "        text-align: right;\n",
       "    }\n",
       "</style>\n",
       "<table border=\"1\" class=\"dataframe\">\n",
       "  <thead>\n",
       "    <tr style=\"text-align: right;\">\n",
       "      <th></th>\n",
       "      <th>Money</th>\n",
       "    </tr>\n",
       "  </thead>\n",
       "  <tbody>\n",
       "    <tr>\n",
       "      <th>2015-01-01</th>\n",
       "      <td>-19.929992</td>\n",
       "    </tr>\n",
       "    <tr>\n",
       "      <th>2015-02-01</th>\n",
       "      <td>-3.024346</td>\n",
       "    </tr>\n",
       "    <tr>\n",
       "      <th>2015-03-01</th>\n",
       "      <td>6.622437</td>\n",
       "    </tr>\n",
       "    <tr>\n",
       "      <th>2015-04-01</th>\n",
       "      <td>-9.330828</td>\n",
       "    </tr>\n",
       "    <tr>\n",
       "      <th>2015-05-01</th>\n",
       "      <td>2.676136</td>\n",
       "    </tr>\n",
       "    <tr>\n",
       "      <th>2015-06-01</th>\n",
       "      <td>6.252096</td>\n",
       "    </tr>\n",
       "    <tr>\n",
       "      <th>2015-07-01</th>\n",
       "      <td>-9.258710</td>\n",
       "    </tr>\n",
       "    <tr>\n",
       "      <th>2015-08-01</th>\n",
       "      <td>4.668051</td>\n",
       "    </tr>\n",
       "    <tr>\n",
       "      <th>2015-09-01</th>\n",
       "      <td>4.501311</td>\n",
       "    </tr>\n",
       "    <tr>\n",
       "      <th>2015-10-01</th>\n",
       "      <td>-9.098112</td>\n",
       "    </tr>\n",
       "    <tr>\n",
       "      <th>2015-11-01</th>\n",
       "      <td>6.279787</td>\n",
       "    </tr>\n",
       "    <tr>\n",
       "      <th>2015-12-01</th>\n",
       "      <td>2.557956</td>\n",
       "    </tr>\n",
       "  </tbody>\n",
       "</table>\n",
       "</div>"
      ],
      "text/plain": [
       "                Money\n",
       "2015-01-01 -19.929992\n",
       "2015-02-01  -3.024346\n",
       "2015-03-01   6.622437\n",
       "2015-04-01  -9.330828\n",
       "2015-05-01   2.676136\n",
       "2015-06-01   6.252096\n",
       "2015-07-01  -9.258710\n",
       "2015-08-01   4.668051\n",
       "2015-09-01   4.501311\n",
       "2015-10-01  -9.098112\n",
       "2015-11-01   6.279787\n",
       "2015-12-01   2.557956"
      ]
     },
     "execution_count": 152,
     "metadata": {},
     "output_type": "execute_result"
    }
   ],
   "source": [
    "z1"
   ]
  },
  {
   "cell_type": "markdown",
   "metadata": {},
   "source": [
    "### Invert the Transformation, Evaluate the Forecast"
   ]
  },
  {
   "cell_type": "code",
   "execution_count": 153,
   "metadata": {},
   "outputs": [],
   "source": [
    "# Add the most recent first difference from the \n",
    "# training set to the forecast cumulative sum\n",
    "z1['Money1d'] = (df['Money'].iloc[-nobs-1]-\\\n",
    "    df['Money'].iloc[-nobs-2]) + z1['Money'].cumsum()\n",
    "\n",
    "# Now build the forecast values from the first difference set\n",
    "z1['MoneyForecast'] = df['Money'].iloc[-nobs-1] +\\\n",
    "                                z1['Money1d'].cumsum()"
   ]
  },
  {
   "cell_type": "code",
   "execution_count": 154,
   "metadata": {},
   "outputs": [
    {
     "data": {
      "text/html": [
       "<div>\n",
       "<style scoped>\n",
       "    .dataframe tbody tr th:only-of-type {\n",
       "        vertical-align: middle;\n",
       "    }\n",
       "\n",
       "    .dataframe tbody tr th {\n",
       "        vertical-align: top;\n",
       "    }\n",
       "\n",
       "    .dataframe thead th {\n",
       "        text-align: right;\n",
       "    }\n",
       "</style>\n",
       "<table border=\"1\" class=\"dataframe\">\n",
       "  <thead>\n",
       "    <tr style=\"text-align: right;\">\n",
       "      <th></th>\n",
       "      <th>Money</th>\n",
       "      <th>Money1d</th>\n",
       "      <th>MoneyForecast</th>\n",
       "    </tr>\n",
       "  </thead>\n",
       "  <tbody>\n",
       "    <tr>\n",
       "      <th>2015-01-01</th>\n",
       "      <td>-19.929992</td>\n",
       "      <td>58.670008</td>\n",
       "      <td>11728.770008</td>\n",
       "    </tr>\n",
       "    <tr>\n",
       "      <th>2015-02-01</th>\n",
       "      <td>-3.024346</td>\n",
       "      <td>55.645662</td>\n",
       "      <td>11784.415669</td>\n",
       "    </tr>\n",
       "    <tr>\n",
       "      <th>2015-03-01</th>\n",
       "      <td>6.622437</td>\n",
       "      <td>62.268098</td>\n",
       "      <td>11846.683768</td>\n",
       "    </tr>\n",
       "    <tr>\n",
       "      <th>2015-04-01</th>\n",
       "      <td>-9.330828</td>\n",
       "      <td>52.937270</td>\n",
       "      <td>11899.621038</td>\n",
       "    </tr>\n",
       "    <tr>\n",
       "      <th>2015-05-01</th>\n",
       "      <td>2.676136</td>\n",
       "      <td>55.613406</td>\n",
       "      <td>11955.234443</td>\n",
       "    </tr>\n",
       "    <tr>\n",
       "      <th>2015-06-01</th>\n",
       "      <td>6.252096</td>\n",
       "      <td>61.865501</td>\n",
       "      <td>12017.099945</td>\n",
       "    </tr>\n",
       "    <tr>\n",
       "      <th>2015-07-01</th>\n",
       "      <td>-9.258710</td>\n",
       "      <td>52.606791</td>\n",
       "      <td>12069.706736</td>\n",
       "    </tr>\n",
       "    <tr>\n",
       "      <th>2015-08-01</th>\n",
       "      <td>4.668051</td>\n",
       "      <td>57.274843</td>\n",
       "      <td>12126.981579</td>\n",
       "    </tr>\n",
       "    <tr>\n",
       "      <th>2015-09-01</th>\n",
       "      <td>4.501311</td>\n",
       "      <td>61.776154</td>\n",
       "      <td>12188.757733</td>\n",
       "    </tr>\n",
       "    <tr>\n",
       "      <th>2015-10-01</th>\n",
       "      <td>-9.098112</td>\n",
       "      <td>52.678042</td>\n",
       "      <td>12241.435775</td>\n",
       "    </tr>\n",
       "    <tr>\n",
       "      <th>2015-11-01</th>\n",
       "      <td>6.279787</td>\n",
       "      <td>58.957829</td>\n",
       "      <td>12300.393604</td>\n",
       "    </tr>\n",
       "    <tr>\n",
       "      <th>2015-12-01</th>\n",
       "      <td>2.557956</td>\n",
       "      <td>61.515785</td>\n",
       "      <td>12361.909389</td>\n",
       "    </tr>\n",
       "  </tbody>\n",
       "</table>\n",
       "</div>"
      ],
      "text/plain": [
       "                Money    Money1d  MoneyForecast\n",
       "2015-01-01 -19.929992  58.670008   11728.770008\n",
       "2015-02-01  -3.024346  55.645662   11784.415669\n",
       "2015-03-01   6.622437  62.268098   11846.683768\n",
       "2015-04-01  -9.330828  52.937270   11899.621038\n",
       "2015-05-01   2.676136  55.613406   11955.234443\n",
       "2015-06-01   6.252096  61.865501   12017.099945\n",
       "2015-07-01  -9.258710  52.606791   12069.706736\n",
       "2015-08-01   4.668051  57.274843   12126.981579\n",
       "2015-09-01   4.501311  61.776154   12188.757733\n",
       "2015-10-01  -9.098112  52.678042   12241.435775\n",
       "2015-11-01   6.279787  58.957829   12300.393604\n",
       "2015-12-01   2.557956  61.515785   12361.909389"
      ]
     },
     "execution_count": 154,
     "metadata": {},
     "output_type": "execute_result"
    }
   ],
   "source": [
    "z1"
   ]
  },
  {
   "cell_type": "code",
   "execution_count": 155,
   "metadata": {},
   "outputs": [
    {
     "name": "stdout",
     "output_type": "stream",
     "text": [
      "Money VARMA(1,2) RMSE: 58.320\n",
      "Money  ARMA(1,2) RMSE: 32.734\n"
     ]
    }
   ],
   "source": [
    "RMSE3 = rmse(df['Money'][-nobs:], z1['MoneyForecast'])\n",
    "\n",
    "print(f'Money VARMA(1,2) RMSE: {RMSE1:.3f}')\n",
    "print(f'Money  ARMA(1,2) RMSE: {RMSE3:.3f}')"
   ]
  },
  {
   "cell_type": "markdown",
   "metadata": {},
   "source": [
    "## Personal Spending"
   ]
  },
  {
   "cell_type": "code",
   "execution_count": 156,
   "metadata": {},
   "outputs": [
    {
     "data": {
      "text/html": [
       "<table class=\"simpletable\">\n",
       "<caption>ARMA Model Results</caption>\n",
       "<tr>\n",
       "  <th>Dep. Variable:</th>     <td>Spending</td>     <th>  No. Observations:  </th>    <td>238</td>   \n",
       "</tr>\n",
       "<tr>\n",
       "  <th>Model:</th>            <td>ARMA(1, 2)</td>    <th>  Log Likelihood     </th> <td>-1182.411</td>\n",
       "</tr>\n",
       "<tr>\n",
       "  <th>Method:</th>             <td>css-mle</td>     <th>  S.D. of innovations</th>  <td>34.661</td>  \n",
       "</tr>\n",
       "<tr>\n",
       "  <th>Date:</th>          <td>Wed, 03 Jun 2020</td> <th>  AIC                </th> <td>2374.823</td> \n",
       "</tr>\n",
       "<tr>\n",
       "  <th>Time:</th>              <td>19:57:52</td>     <th>  BIC                </th> <td>2392.184</td> \n",
       "</tr>\n",
       "<tr>\n",
       "  <th>Sample:</th>           <td>03-01-1995</td>    <th>  HQIC               </th> <td>2381.820</td> \n",
       "</tr>\n",
       "<tr>\n",
       "  <th></th>                 <td>- 12-01-2014</td>   <th>                     </th>     <td> </td>    \n",
       "</tr>\n",
       "</table>\n",
       "<table class=\"simpletable\">\n",
       "<tr>\n",
       "         <td></td>           <th>coef</th>     <th>std err</th>      <th>z</th>      <th>P>|z|</th>  <th>[0.025</th>    <th>0.975]</th>  \n",
       "</tr>\n",
       "<tr>\n",
       "  <th>const</th>          <td>    0.0856</td> <td>    0.245</td> <td>    0.350</td> <td> 0.726</td> <td>   -0.394</td> <td>    0.565</td>\n",
       "</tr>\n",
       "<tr>\n",
       "  <th>ar.L1.Spending</th> <td>   -0.3403</td> <td>    0.511</td> <td>   -0.666</td> <td> 0.505</td> <td>   -1.342</td> <td>    0.661</td>\n",
       "</tr>\n",
       "<tr>\n",
       "  <th>ma.L1.Spending</th> <td>   -0.6451</td> <td>    0.521</td> <td>   -1.237</td> <td> 0.216</td> <td>   -1.667</td> <td>    0.377</td>\n",
       "</tr>\n",
       "<tr>\n",
       "  <th>ma.L2.Spending</th> <td>   -0.2139</td> <td>    0.485</td> <td>   -0.441</td> <td> 0.659</td> <td>   -1.165</td> <td>    0.737</td>\n",
       "</tr>\n",
       "</table>\n",
       "<table class=\"simpletable\">\n",
       "<caption>Roots</caption>\n",
       "<tr>\n",
       "    <td></td>   <th>            Real</th>  <th>         Imaginary</th> <th>         Modulus</th>  <th>        Frequency</th>\n",
       "</tr>\n",
       "<tr>\n",
       "  <th>AR.1</th> <td>          -2.9388</td> <td>          +0.0000j</td> <td>           2.9388</td> <td>           0.5000</td>\n",
       "</tr>\n",
       "<tr>\n",
       "  <th>MA.1</th> <td>           1.1281</td> <td>          +0.0000j</td> <td>           1.1281</td> <td>           0.0000</td>\n",
       "</tr>\n",
       "<tr>\n",
       "  <th>MA.2</th> <td>          -4.1439</td> <td>          +0.0000j</td> <td>           4.1439</td> <td>           0.5000</td>\n",
       "</tr>\n",
       "</table>"
      ],
      "text/plain": [
       "<class 'statsmodels.iolib.summary.Summary'>\n",
       "\"\"\"\n",
       "                              ARMA Model Results                              \n",
       "==============================================================================\n",
       "Dep. Variable:               Spending   No. Observations:                  238\n",
       "Model:                     ARMA(1, 2)   Log Likelihood               -1182.411\n",
       "Method:                       css-mle   S.D. of innovations             34.661\n",
       "Date:                Wed, 03 Jun 2020   AIC                           2374.823\n",
       "Time:                        19:57:52   BIC                           2392.184\n",
       "Sample:                    03-01-1995   HQIC                          2381.820\n",
       "                         - 12-01-2014                                         \n",
       "==================================================================================\n",
       "                     coef    std err          z      P>|z|      [0.025      0.975]\n",
       "----------------------------------------------------------------------------------\n",
       "const              0.0856      0.245      0.350      0.726      -0.394       0.565\n",
       "ar.L1.Spending    -0.3403      0.511     -0.666      0.505      -1.342       0.661\n",
       "ma.L1.Spending    -0.6451      0.521     -1.237      0.216      -1.667       0.377\n",
       "ma.L2.Spending    -0.2139      0.485     -0.441      0.659      -1.165       0.737\n",
       "                                    Roots                                    \n",
       "=============================================================================\n",
       "                  Real          Imaginary           Modulus         Frequency\n",
       "-----------------------------------------------------------------------------\n",
       "AR.1           -2.9388           +0.0000j            2.9388            0.5000\n",
       "MA.1            1.1281           +0.0000j            1.1281            0.0000\n",
       "MA.2           -4.1439           +0.0000j            4.1439            0.5000\n",
       "-----------------------------------------------------------------------------\n",
       "\"\"\""
      ]
     },
     "execution_count": 156,
     "metadata": {},
     "output_type": "execute_result"
    }
   ],
   "source": [
    "# auto_arima suggested for Spending:(1, 1, 2)\n",
    "model = ARMA(train['Spending'],order=(1,2))\n",
    "results = model.fit()\n",
    "results.summary()"
   ]
  },
  {
   "cell_type": "code",
   "execution_count": 157,
   "metadata": {},
   "outputs": [
    {
     "data": {
      "text/html": [
       "<div>\n",
       "<style scoped>\n",
       "    .dataframe tbody tr th:only-of-type {\n",
       "        vertical-align: middle;\n",
       "    }\n",
       "\n",
       "    .dataframe tbody tr th {\n",
       "        vertical-align: top;\n",
       "    }\n",
       "\n",
       "    .dataframe thead th {\n",
       "        text-align: right;\n",
       "    }\n",
       "</style>\n",
       "<table border=\"1\" class=\"dataframe\">\n",
       "  <thead>\n",
       "    <tr style=\"text-align: right;\">\n",
       "      <th></th>\n",
       "      <th>Spending</th>\n",
       "    </tr>\n",
       "  </thead>\n",
       "  <tbody>\n",
       "    <tr>\n",
       "      <th>2015-01-01</th>\n",
       "      <td>33.555876</td>\n",
       "    </tr>\n",
       "    <tr>\n",
       "      <th>2015-02-01</th>\n",
       "      <td>-3.338291</td>\n",
       "    </tr>\n",
       "    <tr>\n",
       "      <th>2015-03-01</th>\n",
       "      <td>1.250703</td>\n",
       "    </tr>\n",
       "    <tr>\n",
       "      <th>2015-04-01</th>\n",
       "      <td>-0.310826</td>\n",
       "    </tr>\n",
       "    <tr>\n",
       "      <th>2015-05-01</th>\n",
       "      <td>0.220526</td>\n",
       "    </tr>\n",
       "    <tr>\n",
       "      <th>2015-06-01</th>\n",
       "      <td>0.039719</td>\n",
       "    </tr>\n",
       "    <tr>\n",
       "      <th>2015-07-01</th>\n",
       "      <td>0.101244</td>\n",
       "    </tr>\n",
       "    <tr>\n",
       "      <th>2015-08-01</th>\n",
       "      <td>0.080308</td>\n",
       "    </tr>\n",
       "    <tr>\n",
       "      <th>2015-09-01</th>\n",
       "      <td>0.087432</td>\n",
       "    </tr>\n",
       "    <tr>\n",
       "      <th>2015-10-01</th>\n",
       "      <td>0.085008</td>\n",
       "    </tr>\n",
       "    <tr>\n",
       "      <th>2015-11-01</th>\n",
       "      <td>0.085833</td>\n",
       "    </tr>\n",
       "    <tr>\n",
       "      <th>2015-12-01</th>\n",
       "      <td>0.085552</td>\n",
       "    </tr>\n",
       "  </tbody>\n",
       "</table>\n",
       "</div>"
      ],
      "text/plain": [
       "             Spending\n",
       "2015-01-01  33.555876\n",
       "2015-02-01  -3.338291\n",
       "2015-03-01   1.250703\n",
       "2015-04-01  -0.310826\n",
       "2015-05-01   0.220526\n",
       "2015-06-01   0.039719\n",
       "2015-07-01   0.101244\n",
       "2015-08-01   0.080308\n",
       "2015-09-01   0.087432\n",
       "2015-10-01   0.085008\n",
       "2015-11-01   0.085833\n",
       "2015-12-01   0.085552"
      ]
     },
     "execution_count": 157,
     "metadata": {},
     "output_type": "execute_result"
    }
   ],
   "source": [
    "start=len(train)\n",
    "end=len(train)+len(test)-1\n",
    "z2 = results.predict(start=start, end=end).rename('Spending')\n",
    "z2 = pd.DataFrame(z2)\n",
    "z2"
   ]
  },
  {
   "cell_type": "markdown",
   "metadata": {},
   "source": [
    "### Invert the Transformation, Evaluate the Forecast"
   ]
  },
  {
   "cell_type": "code",
   "execution_count": 158,
   "metadata": {},
   "outputs": [],
   "source": [
    "# Add the most recent first difference from the \n",
    "# training set to the forecast cumulative sum\n",
    "z2['Spending1d'] = (df['Spending'].iloc[-nobs-1]-\\\n",
    "    df['Spending'].iloc[-nobs-2]) + z2['Spending'].cumsum()\n",
    "\n",
    "# Now build the forecast values from the first difference set\n",
    "z2['SpendingForecast'] = df['Spending'].iloc[-nobs-1] +\\\n",
    "                                    z2['Spending1d'].cumsum()"
   ]
  },
  {
   "cell_type": "code",
   "execution_count": 159,
   "metadata": {},
   "outputs": [
    {
     "data": {
      "text/html": [
       "<div>\n",
       "<style scoped>\n",
       "    .dataframe tbody tr th:only-of-type {\n",
       "        vertical-align: middle;\n",
       "    }\n",
       "\n",
       "    .dataframe tbody tr th {\n",
       "        vertical-align: top;\n",
       "    }\n",
       "\n",
       "    .dataframe thead th {\n",
       "        text-align: right;\n",
       "    }\n",
       "</style>\n",
       "<table border=\"1\" class=\"dataframe\">\n",
       "  <thead>\n",
       "    <tr style=\"text-align: right;\">\n",
       "      <th></th>\n",
       "      <th>Spending</th>\n",
       "      <th>Spending1d</th>\n",
       "      <th>SpendingForecast</th>\n",
       "    </tr>\n",
       "  </thead>\n",
       "  <tbody>\n",
       "    <tr>\n",
       "      <th>2015-01-01</th>\n",
       "      <td>33.555876</td>\n",
       "      <td>44.155876</td>\n",
       "      <td>12106.155876</td>\n",
       "    </tr>\n",
       "    <tr>\n",
       "      <th>2015-02-01</th>\n",
       "      <td>-3.338291</td>\n",
       "      <td>40.817585</td>\n",
       "      <td>12146.973460</td>\n",
       "    </tr>\n",
       "    <tr>\n",
       "      <th>2015-03-01</th>\n",
       "      <td>1.250703</td>\n",
       "      <td>42.068288</td>\n",
       "      <td>12189.041748</td>\n",
       "    </tr>\n",
       "    <tr>\n",
       "      <th>2015-04-01</th>\n",
       "      <td>-0.310826</td>\n",
       "      <td>41.757462</td>\n",
       "      <td>12230.799210</td>\n",
       "    </tr>\n",
       "    <tr>\n",
       "      <th>2015-05-01</th>\n",
       "      <td>0.220526</td>\n",
       "      <td>41.977988</td>\n",
       "      <td>12272.777198</td>\n",
       "    </tr>\n",
       "    <tr>\n",
       "      <th>2015-06-01</th>\n",
       "      <td>0.039719</td>\n",
       "      <td>42.017707</td>\n",
       "      <td>12314.794905</td>\n",
       "    </tr>\n",
       "    <tr>\n",
       "      <th>2015-07-01</th>\n",
       "      <td>0.101244</td>\n",
       "      <td>42.118951</td>\n",
       "      <td>12356.913856</td>\n",
       "    </tr>\n",
       "    <tr>\n",
       "      <th>2015-08-01</th>\n",
       "      <td>0.080308</td>\n",
       "      <td>42.199260</td>\n",
       "      <td>12399.113116</td>\n",
       "    </tr>\n",
       "    <tr>\n",
       "      <th>2015-09-01</th>\n",
       "      <td>0.087432</td>\n",
       "      <td>42.286692</td>\n",
       "      <td>12441.399808</td>\n",
       "    </tr>\n",
       "    <tr>\n",
       "      <th>2015-10-01</th>\n",
       "      <td>0.085008</td>\n",
       "      <td>42.371700</td>\n",
       "      <td>12483.771508</td>\n",
       "    </tr>\n",
       "    <tr>\n",
       "      <th>2015-11-01</th>\n",
       "      <td>0.085833</td>\n",
       "      <td>42.457533</td>\n",
       "      <td>12526.229041</td>\n",
       "    </tr>\n",
       "    <tr>\n",
       "      <th>2015-12-01</th>\n",
       "      <td>0.085552</td>\n",
       "      <td>42.543086</td>\n",
       "      <td>12568.772127</td>\n",
       "    </tr>\n",
       "  </tbody>\n",
       "</table>\n",
       "</div>"
      ],
      "text/plain": [
       "             Spending  Spending1d  SpendingForecast\n",
       "2015-01-01  33.555876   44.155876      12106.155876\n",
       "2015-02-01  -3.338291   40.817585      12146.973460\n",
       "2015-03-01   1.250703   42.068288      12189.041748\n",
       "2015-04-01  -0.310826   41.757462      12230.799210\n",
       "2015-05-01   0.220526   41.977988      12272.777198\n",
       "2015-06-01   0.039719   42.017707      12314.794905\n",
       "2015-07-01   0.101244   42.118951      12356.913856\n",
       "2015-08-01   0.080308   42.199260      12399.113116\n",
       "2015-09-01   0.087432   42.286692      12441.399808\n",
       "2015-10-01   0.085008   42.371700      12483.771508\n",
       "2015-11-01   0.085833   42.457533      12526.229041\n",
       "2015-12-01   0.085552   42.543086      12568.772127"
      ]
     },
     "execution_count": 159,
     "metadata": {},
     "output_type": "execute_result"
    }
   ],
   "source": [
    "z2"
   ]
  },
  {
   "cell_type": "code",
   "execution_count": 160,
   "metadata": {},
   "outputs": [
    {
     "name": "stdout",
     "output_type": "stream",
     "text": [
      "Spending VARMA(1,2) RMSE: 43.177\n",
      "Spending  ARMA(1,2) RMSE: 52.334\n"
     ]
    }
   ],
   "source": [
    "RMSE4 = rmse(df['Spending'][-nobs:], z2['SpendingForecast'])\n",
    "\n",
    "print(f'Spending VARMA(1,2) RMSE: {RMSE2:.3f}')\n",
    "print(f'Spending  ARMA(1,2) RMSE: {RMSE4:.3f}')"
   ]
  },
  {
   "cell_type": "markdown",
   "metadata": {},
   "source": [
    "<strong>CONCLUSION:</strong> It looks like the VARMA(3,3) model did a almost similar job compared to simpler alternatives. **This tells us that there MAY be an interdependence between Money Stock and Personal Consumption Expenditures, at least for the timespan we investigated.** \n",
    "\n",
    "### Results do NOT clearly suggest enough interaction between Money Stock and Personal Consumption Expenditures to warrant vector component. So maybe using ARIMA model makes more sense when VARMAX fit more terribly. \n",
    "\n",
    "### This is a decent fit for VARMAX and in VARMAX benefit is we will have 1 model for 2 series and that is great."
   ]
  },
  {
   "cell_type": "markdown",
   "metadata": {},
   "source": [
    "# But for ARIMA we will have 1 model per feature (or time-series), using VARMAX we can have 1 model for multiple features\n"
   ]
  }
 ],
 "metadata": {
  "hide_input": false,
  "kernelspec": {
   "display_name": "Python 3",
   "language": "python",
   "name": "python3"
  },
  "language_info": {
   "codemirror_mode": {
    "name": "ipython",
    "version": 3
   },
   "file_extension": ".py",
   "mimetype": "text/x-python",
   "name": "python",
   "nbconvert_exporter": "python",
   "pygments_lexer": "ipython3",
   "version": "3.7.4"
  },
  "varInspector": {
   "cols": {
    "lenName": 16,
    "lenType": 16,
    "lenVar": 40
   },
   "kernels_config": {
    "python": {
     "delete_cmd_postfix": "",
     "delete_cmd_prefix": "del ",
     "library": "var_list.py",
     "varRefreshCmd": "print(var_dic_list())"
    },
    "r": {
     "delete_cmd_postfix": ") ",
     "delete_cmd_prefix": "rm(",
     "library": "var_list.r",
     "varRefreshCmd": "cat(var_dic_list()) "
    }
   },
   "types_to_exclude": [
    "module",
    "function",
    "builtin_function_or_method",
    "instance",
    "_Feature"
   ],
   "window_display": false
  }
 },
 "nbformat": 4,
 "nbformat_minor": 2
}
