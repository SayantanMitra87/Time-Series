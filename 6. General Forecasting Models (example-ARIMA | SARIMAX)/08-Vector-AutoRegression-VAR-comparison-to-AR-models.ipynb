{
 "cells": [
  {
   "cell_type": "markdown",
   "metadata": {},
   "source": [
    "# VAR(p)\n",
    "## Vector Autoregression\n",
    "In our previous SARIMAX example, the forecast variable $y_t$ was influenced by the exogenous predictor variable, but not vice versa. That is, the occurrence of a holiday affected restaurant patronage but not the other way around.\n",
    "\n",
    "However, there are some cases where variables affect each other. <a href='https://otexts.com/fpp2/VAR.html'>Forecasting: Principles and Practice</a> describes a case where changes in personal consumption expenditures $C_t$ were forecast based on changes in personal disposable income $I_t$.\n",
    "> However, in this case a bi-directional relationship may be more suitable: an increase in $I_t$ will lead to an increase in $C_t$ and vice versa.<br>An example of such a situation occurred in Australia during the Global Financial Crisis of 2008–2009. The Australian government issued stimulus packages that included cash payments in December 2008, just in time for Christmas spending. As a result, retailers reported strong sales and the economy was stimulated. Consequently, incomes increased.\n",
    "\n",
    "Aside from investigating multivariate time series, vector autoregression is used for\n",
    "* <a href='https://www.statsmodels.org/devel/vector_ar.html#impulse-response-analysis'>Impulse Response Analysis</a> which involves the response of one variable to a sudden but temporary change in another variable\n",
    "* <a href='https://www.statsmodels.org/devel/vector_ar.html#forecast-error-variance-decomposition-fevd'>Forecast Error Variance Decomposition (FEVD)</a> where the proportion of the forecast variance of one variable is attributed to the effect of other variables\n",
    "* <a href='https://www.statsmodels.org/devel/vector_ar.html#dynamic-vector-autoregressions'>Dynamic Vector Autoregressions</a> used for estimating a moving-window regression for the purposes of making forecasts throughout the data sample\n",
    "\n",
    "### Formulation\n",
    "We've seen that an autoregression AR(p) model is described by the following:\n",
    "\n",
    "&nbsp;&nbsp;&nbsp;&nbsp; $y_{t} = c + \\phi_{1}y_{t-1} + \\phi_{2}y_{t-2} + \\dots + \\phi_{p}y_{t-p} + \\varepsilon_{t}$\n",
    "\n",
    "where $c$ is a constant, $\\phi_{1}$ and $\\phi_{2}$ are lag coefficients up to order $p$, and $\\varepsilon_{t}$ is white noise."
   ]
  },
  {
   "cell_type": "markdown",
   "metadata": {},
   "source": [
    "A $K$-dimensional VAR model of order $p$, denoted <strong>VAR(p)</strong>, considers each variable $y_K$ in the system.<br>\n",
    "\n",
    "For example, The system of equations for a 2-dimensional VAR(1) model is:\n",
    "\n",
    "&nbsp;&nbsp;&nbsp;&nbsp;$y_{1,t} = c_1 + \\phi_{11,1}y_{1,t-1} + \\phi_{12,1}y_{2,t-1} + \\varepsilon_{1,t}$<br>\n",
    "&nbsp;&nbsp;&nbsp;&nbsp;$y_{2,t} = c_2 + \\phi_{21,1}y_{1,t-1} + \\phi_{22,1}y_{2,t-1} + \\varepsilon_{2,t}$\n",
    "\n",
    "where the coefficient $\\phi_{ii,l}$ captures the influence of the $l$th lag of variable $y_i$ on itself,<br>\n",
    "the coefficient $\\phi_{ij,l}$ captures the influence of the $l$th lag of variable $y_j$ on $y_i$,<br>\n",
    "and $\\varepsilon_{1,t}$ and $\\varepsilon_{2,t}$ are white noise processes that may be correlated.<br>\n",
    "\n",
    "Carrying this further, the system of equations for a 2-dimensional VAR(3) model is:\n",
    "\n",
    "&nbsp;&nbsp;&nbsp;&nbsp;$y_{1,t} = c_1 + \\phi_{11,1}y_{1,t-1} + \\phi_{12,1}y_{2,t-1} + \\phi_{11,2}y_{1,t-2} + \\phi_{12,2}y_{2,t-2} + \\phi_{11,3}y_{1,t-3} + \\phi_{12,3}y_{2,t-3} + \\varepsilon_{1,t}$<br>\n",
    "&nbsp;&nbsp;&nbsp;&nbsp;$y_{2,t} = c_2 + \\phi_{21,1}y_{1,t-1} + \\phi_{22,1}y_{2,t-1} + \\phi_{21,2}y_{1,t-2} + \\phi_{22,2}y_{2,t-2} + \\phi_{21,3}y_{1,t-3} + \\phi_{22,3}y_{2,t-3} + \\varepsilon_{2,t}$<br><br>\n",
    "\n",
    "and the system of equations for a 3-dimensional VAR(2) model is:\n",
    "\n",
    "&nbsp;&nbsp;&nbsp;&nbsp;$y_{1,t} = c_1 + \\phi_{11,1}y_{1,t-1} + \\phi_{12,1}y_{2,t-1} + \\phi_{13,1}y_{3,t-1} + \\phi_{11,2}y_{1,t-2} + \\phi_{12,2}y_{2,t-2} + \\phi_{13,2}y_{3,t-2} + \\varepsilon_{1,t}$<br>\n",
    "&nbsp;&nbsp;&nbsp;&nbsp;$y_{2,t} = c_2 + \\phi_{21,1}y_{1,t-1} + \\phi_{22,1}y_{2,t-1} + \\phi_{23,1}y_{3,t-1} + \\phi_{21,2}y_{1,t-2} + \\phi_{22,2}y_{2,t-2} + \\phi_{23,2}y_{3,t-2} + \\varepsilon_{2,t}$<br>\n",
    "&nbsp;&nbsp;&nbsp;&nbsp;$y_{3,t} = c_3 + \\phi_{31,1}y_{1,t-1} + \\phi_{32,1}y_{2,t-1} + \\phi_{33,1}y_{3,t-1} + \\phi_{31,2}y_{1,t-2} + \\phi_{32,2}y_{2,t-2} + \\phi_{33,2}y_{3,t-2} + \\varepsilon_{3,t}$<br><br>\n",
    "\n",
    "The general steps involved in building a VAR model are:\n",
    "* Examine the data\n",
    "* Visualize the data\n",
    "* Test for stationarity\n",
    "* If necessary, transform the data to make it stationary\n",
    "* Select the appropriate order <em>p</em>\n",
    "* Instantiate the model and fit it to a training set\n",
    "* If necessary, invert the earlier transformation\n",
    "* Evaluate model predictions against a known test set\n",
    "* Forecast the future\n",
    "\n",
    "Recall that to fit a SARIMAX model we passed one field of data as our <em>endog</em> variable, and another for <em>exog</em>. With VAR, both fields will be passed in as <em>endog</em>."
   ]
  },
  {
   "cell_type": "markdown",
   "metadata": {
    "collapsed": true
   },
   "source": [
    "<div class=\"alert alert-info\"><h3>Related Functions:</h3>\n",
    "<tt><strong>\n",
    "<a href='https://www.statsmodels.org/stable/generated/statsmodels.tsa.vector_ar.var_model.VAR.html'>vector_ar.var_model.VAR</a></strong><font color=black>(endog[, exog, …])</font>&nbsp;&nbsp;&nbsp;&nbsp;&nbsp;&nbsp;Fit VAR(p) process and do lag order selection<br>\n",
    "<strong><a href='https://www.statsmodels.org/stable/generated/statsmodels.tsa.vector_ar.var_model.VARResults.html'>vector_ar.var_model.VARResults</a></strong><font color=black>(endog, …[, …])</font>&nbsp;&nbsp;Estimate VAR(p) process with fixed number of lags<br>\n",
    "<strong><a href='https://www.statsmodels.org/stable/generated/statsmodels.tsa.vector_ar.dynamic.DynamicVAR.html'>vector_ar.dynamic.DynamicVAR</a></strong><font color=black>(data[, …])</font>&nbsp;&nbsp;&nbsp;&nbsp;&nbsp;&nbsp;&nbsp;&nbsp;Estimates time-varying vector autoregression (VAR(p)) using equation-by-equation least squares</tt>\n",
    "   \n",
    "<h3>For Further Reading:</h3>\n",
    "<strong>\n",
    "<a href='https://www.statsmodels.org/stable/vector_ar.html'>Statsmodels Tutorial:</a></strong>&nbsp;&nbsp;<font color=black>Vector Autoregressions</font><br>\n",
    "<strong>\n",
    "<a href='https://otexts.com/fpp2/VAR.html'>Forecasting: Principles and Practice:</a></strong>&nbsp;&nbsp;<font color=black>Vector Autoregressions</font><br>\n",
    "<strong>\n",
    "<a href='https://en.wikipedia.org/wiki/Vector_autoregression'>Wikipedia:</a></strong>&nbsp;&nbsp;<font color=black>Vector Autoregression</font>\n",
    "</div>"
   ]
  },
  {
   "cell_type": "markdown",
   "metadata": {},
   "source": [
    "### Perform standard imports and load dataset\n",
    "For this analysis we'll also compare money to spending. We'll look at the M2 Money Stock which is a measure of U.S. personal assets, and U.S. personal spending. Both datasets are in billions of dollars, monthly, seasonally adjusted. They span the 21 years from January 1995 to December 2015 (252 records).<br>\n",
    "Sources: https://fred.stlouisfed.org/series/M2SL https://fred.stlouisfed.org/series/PCE"
   ]
  },
  {
   "cell_type": "code",
   "execution_count": 188,
   "metadata": {},
   "outputs": [],
   "source": [
    "import numpy as np\n",
    "import pandas as pd\n",
    "%matplotlib inline\n",
    "\n",
    "# Load specific forecasting tools\n",
    "from statsmodels.tsa.api import VAR #,DynamicVAR\n",
    "from statsmodels.tsa.stattools import adfuller\n",
    "from statsmodels.tools.eval_measures import rmse\n",
    "\n",
    "# Ignore harmless warnings\n",
    "import warnings     \n",
    "     \n",
    "# Load datasets\n",
    "df = pd.read_csv('../Data/M2SLMoneyStock.csv',index_col=0, \n",
    "                                             parse_dates=True)\n",
    "df.index.freq = 'MS'\n",
    "\n",
    "sp = pd.read_csv('../Data/PCEPersonalSpending.csv',index_col=0, \n",
    "                                                parse_dates=True)\n",
    "sp.index.freq = 'MS'"
   ]
  },
  {
   "cell_type": "markdown",
   "metadata": {},
   "source": [
    "### Inspect the data"
   ]
  },
  {
   "cell_type": "code",
   "execution_count": 189,
   "metadata": {},
   "outputs": [
    {
     "data": {
      "text/plain": [
       "((252, 1), (252, 1))"
      ]
     },
     "execution_count": 189,
     "metadata": {},
     "output_type": "execute_result"
    }
   ],
   "source": [
    "df.shape, sp.shape"
   ]
  },
  {
   "cell_type": "code",
   "execution_count": 190,
   "metadata": {},
   "outputs": [
    {
     "data": {
      "text/html": [
       "<div>\n",
       "<style scoped>\n",
       "    .dataframe tbody tr th:only-of-type {\n",
       "        vertical-align: middle;\n",
       "    }\n",
       "\n",
       "    .dataframe tbody tr th {\n",
       "        vertical-align: top;\n",
       "    }\n",
       "\n",
       "    .dataframe thead th {\n",
       "        text-align: right;\n",
       "    }\n",
       "</style>\n",
       "<table border=\"1\" class=\"dataframe\">\n",
       "  <thead>\n",
       "    <tr style=\"text-align: right;\">\n",
       "      <th></th>\n",
       "      <th>Money</th>\n",
       "      <th>Spending</th>\n",
       "    </tr>\n",
       "    <tr>\n",
       "      <th>Date</th>\n",
       "      <th></th>\n",
       "      <th></th>\n",
       "    </tr>\n",
       "  </thead>\n",
       "  <tbody>\n",
       "    <tr>\n",
       "      <th>1995-01-01</th>\n",
       "      <td>3492.4</td>\n",
       "      <td>4851.2</td>\n",
       "    </tr>\n",
       "    <tr>\n",
       "      <th>1995-02-01</th>\n",
       "      <td>3489.9</td>\n",
       "      <td>4850.8</td>\n",
       "    </tr>\n",
       "    <tr>\n",
       "      <th>1995-03-01</th>\n",
       "      <td>3491.1</td>\n",
       "      <td>4885.4</td>\n",
       "    </tr>\n",
       "    <tr>\n",
       "      <th>1995-04-01</th>\n",
       "      <td>3499.2</td>\n",
       "      <td>4890.2</td>\n",
       "    </tr>\n",
       "    <tr>\n",
       "      <th>1995-05-01</th>\n",
       "      <td>3524.2</td>\n",
       "      <td>4933.1</td>\n",
       "    </tr>\n",
       "  </tbody>\n",
       "</table>\n",
       "</div>"
      ],
      "text/plain": [
       "             Money  Spending\n",
       "Date                        \n",
       "1995-01-01  3492.4    4851.2\n",
       "1995-02-01  3489.9    4850.8\n",
       "1995-03-01  3491.1    4885.4\n",
       "1995-04-01  3499.2    4890.2\n",
       "1995-05-01  3524.2    4933.1"
      ]
     },
     "execution_count": 190,
     "metadata": {},
     "output_type": "execute_result"
    }
   ],
   "source": [
    "# we can combine this by using 'pd.merge' or 'join'\n",
    "df = df.join(sp)\n",
    "df.head()"
   ]
  },
  {
   "cell_type": "code",
   "execution_count": 191,
   "metadata": {},
   "outputs": [
    {
     "data": {
      "text/plain": [
       "(252, 2)"
      ]
     },
     "execution_count": 191,
     "metadata": {},
     "output_type": "execute_result"
    }
   ],
   "source": [
    "df = df.dropna()\n",
    "df.shape"
   ]
  },
  {
   "cell_type": "markdown",
   "metadata": {},
   "source": [
    "### Plot the source data"
   ]
  },
  {
   "cell_type": "code",
   "execution_count": 192,
   "metadata": {},
   "outputs": [
    {
     "data": {
      "image/png": "[encoded data removed]",
      "text/plain": [
       "<Figure size 864x360 with 1 Axes>"
      ]
     },
     "metadata": {
      "needs_background": "light"
     },
     "output_type": "display_data"
    }
   ],
   "source": [
    "title = 'M2 Money Stock vs. Personal Consumption Expenditures'\n",
    "ylabel='Billions of dollars'\n",
    "xlabel=''\n",
    "\n",
    "ax = df['Spending'].plot(figsize=(12,5),title=title,legend=True)\n",
    "ax.autoscale(axis='x',tight=True)\n",
    "ax.set(xlabel=xlabel, ylabel=ylabel)\n",
    "df['Money'].plot(legend=True);"
   ]
  },
  {
   "cell_type": "markdown",
   "metadata": {},
   "source": [
    "We see the similar trend for both money and spending. But the gap between spending and money converges in recent times."
   ]
  },
  {
   "cell_type": "markdown",
   "metadata": {},
   "source": [
    "### Test for stationarity, perform any necessary transformations: Augmented Dickey-Fuller Test"
   ]
  },
  {
   "cell_type": "code",
   "execution_count": 193,
   "metadata": {},
   "outputs": [],
   "source": [
    "def adf_test(series,title=''):\n",
    "    \"\"\"\n",
    "    Pass in a time series and an optional title, returns an ADF report\n",
    "    \"\"\"\n",
    "    print(f'Augmented Dickey-Fuller Test: {title}')\n",
    "    # .dropna() handles differenced data\n",
    "    result = adfuller(series.dropna(),autolag='AIC') \n",
    "    \n",
    "    labels = ['ADF test statistic','p-value','# lags used','# observations']\n",
    "    out = pd.Series(result[0:4],index=labels)\n",
    "\n",
    "    for key,val in result[4].items():\n",
    "        out[f'critical value ({key})']=val\n",
    "    \n",
    "    # .to_string() removes the line \"dtype: float64\"\n",
    "    print(out.to_string())          \n",
    "    \n",
    "    if result[1] <= 0.05:\n",
    "        print(\"Strong evidence against the null hypothesis\")\n",
    "        print(\"Reject the null hypothesis\")\n",
    "        print(\"Data has no unit root and is stationary\")\n",
    "    else:\n",
    "        print(\"Weak evidence against the null hypothesis\")\n",
    "        print(\"Fail to reject the null hypothesis\")\n",
    "        print(\"Data has a unit root and is non-stationary\")"
   ]
  },
  {
   "cell_type": "code",
   "execution_count": 194,
   "metadata": {},
   "outputs": [
    {
     "name": "stdout",
     "output_type": "stream",
     "text": [
      "Augmented Dickey-Fuller Test: Money\n",
      "ADF test statistic        4.239022\n",
      "p-value                   1.000000\n",
      "# lags used               4.000000\n",
      "# observations          247.000000\n",
      "critical value (1%)      -3.457105\n",
      "critical value (5%)      -2.873314\n",
      "critical value (10%)     -2.573044\n",
      "Weak evidence against the null hypothesis\n",
      "Fail to reject the null hypothesis\n",
      "Data has a unit root and is non-stationary\n"
     ]
    }
   ],
   "source": [
    "adf_test(df['Money'],title='Money')"
   ]
  },
  {
   "cell_type": "code",
   "execution_count": 195,
   "metadata": {},
   "outputs": [
    {
     "name": "stdout",
     "output_type": "stream",
     "text": [
      "Augmented Dickey-Fuller Test: Spending\n",
      "ADF test statistic        0.149796\n",
      "p-value                   0.969301\n",
      "# lags used               3.000000\n",
      "# observations          248.000000\n",
      "critical value (1%)      -3.456996\n",
      "critical value (5%)      -2.873266\n",
      "critical value (10%)     -2.573019\n",
      "Weak evidence against the null hypothesis\n",
      "Fail to reject the null hypothesis\n",
      "Data has a unit root and is non-stationary\n"
     ]
    }
   ],
   "source": [
    "adf_test(df['Spending'], title='Spending')"
   ]
  },
  {
   "cell_type": "markdown",
   "metadata": {},
   "source": [
    "Neither variable is stationary, so we'll take a first order difference of the entire DataFrame and re-run the augmented Dickey-Fuller tests. It's advisable to save transformed values in a new DataFrame, as we'll need the original when we later invert the transormations and evaluate the model."
   ]
  },
  {
   "cell_type": "code",
   "execution_count": 196,
   "metadata": {},
   "outputs": [
    {
     "data": {
      "text/html": [
       "<div>\n",
       "<style scoped>\n",
       "    .dataframe tbody tr th:only-of-type {\n",
       "        vertical-align: middle;\n",
       "    }\n",
       "\n",
       "    .dataframe tbody tr th {\n",
       "        vertical-align: top;\n",
       "    }\n",
       "\n",
       "    .dataframe thead th {\n",
       "        text-align: right;\n",
       "    }\n",
       "</style>\n",
       "<table border=\"1\" class=\"dataframe\">\n",
       "  <thead>\n",
       "    <tr style=\"text-align: right;\">\n",
       "      <th></th>\n",
       "      <th>Money</th>\n",
       "      <th>Spending</th>\n",
       "    </tr>\n",
       "    <tr>\n",
       "      <th>Date</th>\n",
       "      <th></th>\n",
       "      <th></th>\n",
       "    </tr>\n",
       "  </thead>\n",
       "  <tbody>\n",
       "    <tr>\n",
       "      <th>1995-01-01</th>\n",
       "      <td>3492.4</td>\n",
       "      <td>4851.2</td>\n",
       "    </tr>\n",
       "    <tr>\n",
       "      <th>1995-02-01</th>\n",
       "      <td>3489.9</td>\n",
       "      <td>4850.8</td>\n",
       "    </tr>\n",
       "    <tr>\n",
       "      <th>1995-03-01</th>\n",
       "      <td>3491.1</td>\n",
       "      <td>4885.4</td>\n",
       "    </tr>\n",
       "    <tr>\n",
       "      <th>1995-04-01</th>\n",
       "      <td>3499.2</td>\n",
       "      <td>4890.2</td>\n",
       "    </tr>\n",
       "    <tr>\n",
       "      <th>1995-05-01</th>\n",
       "      <td>3524.2</td>\n",
       "      <td>4933.1</td>\n",
       "    </tr>\n",
       "  </tbody>\n",
       "</table>\n",
       "</div>"
      ],
      "text/plain": [
       "             Money  Spending\n",
       "Date                        \n",
       "1995-01-01  3492.4    4851.2\n",
       "1995-02-01  3489.9    4850.8\n",
       "1995-03-01  3491.1    4885.4\n",
       "1995-04-01  3499.2    4890.2\n",
       "1995-05-01  3524.2    4933.1"
      ]
     },
     "execution_count": 196,
     "metadata": {},
     "output_type": "execute_result"
    }
   ],
   "source": [
    "df.head()"
   ]
  },
  {
   "cell_type": "code",
   "execution_count": 197,
   "metadata": {},
   "outputs": [
    {
     "data": {
      "text/html": [
       "<div>\n",
       "<style scoped>\n",
       "    .dataframe tbody tr th:only-of-type {\n",
       "        vertical-align: middle;\n",
       "    }\n",
       "\n",
       "    .dataframe tbody tr th {\n",
       "        vertical-align: top;\n",
       "    }\n",
       "\n",
       "    .dataframe thead th {\n",
       "        text-align: right;\n",
       "    }\n",
       "</style>\n",
       "<table border=\"1\" class=\"dataframe\">\n",
       "  <thead>\n",
       "    <tr style=\"text-align: right;\">\n",
       "      <th></th>\n",
       "      <th>Money</th>\n",
       "      <th>Spending</th>\n",
       "    </tr>\n",
       "    <tr>\n",
       "      <th>Date</th>\n",
       "      <th></th>\n",
       "      <th></th>\n",
       "    </tr>\n",
       "  </thead>\n",
       "  <tbody>\n",
       "    <tr>\n",
       "      <th>1995-01-01</th>\n",
       "      <td>NaN</td>\n",
       "      <td>NaN</td>\n",
       "    </tr>\n",
       "    <tr>\n",
       "      <th>1995-02-01</th>\n",
       "      <td>-2.5</td>\n",
       "      <td>-0.4</td>\n",
       "    </tr>\n",
       "    <tr>\n",
       "      <th>1995-03-01</th>\n",
       "      <td>1.2</td>\n",
       "      <td>34.6</td>\n",
       "    </tr>\n",
       "    <tr>\n",
       "      <th>1995-04-01</th>\n",
       "      <td>8.1</td>\n",
       "      <td>4.8</td>\n",
       "    </tr>\n",
       "    <tr>\n",
       "      <th>1995-05-01</th>\n",
       "      <td>25.0</td>\n",
       "      <td>42.9</td>\n",
       "    </tr>\n",
       "  </tbody>\n",
       "</table>\n",
       "</div>"
      ],
      "text/plain": [
       "            Money  Spending\n",
       "Date                       \n",
       "1995-01-01    NaN       NaN\n",
       "1995-02-01   -2.5      -0.4\n",
       "1995-03-01    1.2      34.6\n",
       "1995-04-01    8.1       4.8\n",
       "1995-05-01   25.0      42.9"
      ]
     },
     "execution_count": 197,
     "metadata": {},
     "output_type": "execute_result"
    }
   ],
   "source": [
    "# Difference each series with itself with shift of 1\n",
    "df_transformed = df.diff()\n",
    "df_transformed.head()"
   ]
  },
  {
   "cell_type": "code",
   "execution_count": 198,
   "metadata": {},
   "outputs": [
    {
     "name": "stdout",
     "output_type": "stream",
     "text": [
      "Augmented Dickey-Fuller Test: MoneyFirstDiff\n",
      "ADF test statistic       -2.057404\n",
      "p-value                   0.261984\n",
      "# lags used              15.000000\n",
      "# observations          235.000000\n",
      "critical value (1%)      -3.458487\n",
      "critical value (5%)      -2.873919\n",
      "critical value (10%)     -2.573367\n",
      "Weak evidence against the null hypothesis\n",
      "Fail to reject the null hypothesis\n",
      "Data has a unit root and is non-stationary\n",
      "\n",
      "\n",
      "\n",
      "Augmented Dickey-Fuller Test: SpendingFirstDiff\n",
      "ADF test statistic     -7.226974e+00\n",
      "p-value                 2.041027e-10\n",
      "# lags used             2.000000e+00\n",
      "# observations          2.480000e+02\n",
      "critical value (1%)    -3.456996e+00\n",
      "critical value (5%)    -2.873266e+00\n",
      "critical value (10%)   -2.573019e+00\n",
      "Strong evidence against the null hypothesis\n",
      "Reject the null hypothesis\n",
      "Data has no unit root and is stationary\n"
     ]
    }
   ],
   "source": [
    "# Remove NaN\n",
    "df_transformed = df_transformed.dropna()\n",
    "\n",
    "adf_test(df_transformed['Money'], \n",
    "                     title='MoneyFirstDiff')\n",
    "print('\\n\\n')\n",
    "adf_test(df_transformed['Spending'], \n",
    "                     title='SpendingFirstDiff')"
   ]
  },
  {
   "cell_type": "markdown",
   "metadata": {},
   "source": [
    "**Since Money is not yet stationary, we'll apply second order differencing to both series so they retain the same number of observations (because every time we difference 1 row is lost, and we cant have different length to different series)**"
   ]
  },
  {
   "cell_type": "code",
   "execution_count": 199,
   "metadata": {},
   "outputs": [
    {
     "name": "stdout",
     "output_type": "stream",
     "text": [
      "Augmented Dickey-Fuller Test: MoneyFirstDiff\n",
      "ADF test statistic     -7.077471e+00\n",
      "p-value                 4.760675e-10\n",
      "# lags used             1.400000e+01\n",
      "# observations          2.350000e+02\n",
      "critical value (1%)    -3.458487e+00\n",
      "critical value (5%)    -2.873919e+00\n",
      "critical value (10%)   -2.573367e+00\n",
      "Strong evidence against the null hypothesis\n",
      "Reject the null hypothesis\n",
      "Data has no unit root and is stationary\n",
      "\n",
      "\n",
      "\n",
      "Augmented Dickey-Fuller Test: SpendingFirstDiff\n",
      "ADF test statistic     -8.760145e+00\n",
      "p-value                 2.687900e-14\n",
      "# lags used             8.000000e+00\n",
      "# observations          2.410000e+02\n",
      "critical value (1%)    -3.457779e+00\n",
      "critical value (5%)    -2.873609e+00\n",
      "critical value (10%)   -2.573202e+00\n",
      "Strong evidence against the null hypothesis\n",
      "Reject the null hypothesis\n",
      "Data has no unit root and is stationary\n"
     ]
    }
   ],
   "source": [
    "df_transformed = df_transformed.diff().dropna()\n",
    "\n",
    "adf_test(df_transformed['Money'], \n",
    "                     title='MoneyFirstDiff')\n",
    "print('\\n\\n')\n",
    "adf_test(df_transformed['Spending'], \n",
    "                     title='SpendingFirstDiff')"
   ]
  },
  {
   "cell_type": "markdown",
   "metadata": {},
   "source": [
    "**Now both features are stationary. but eventually we need to UNDO this transformation.**"
   ]
  },
  {
   "cell_type": "code",
   "execution_count": 200,
   "metadata": {},
   "outputs": [
    {
     "data": {
      "text/html": [
       "<div>\n",
       "<style scoped>\n",
       "    .dataframe tbody tr th:only-of-type {\n",
       "        vertical-align: middle;\n",
       "    }\n",
       "\n",
       "    .dataframe tbody tr th {\n",
       "        vertical-align: top;\n",
       "    }\n",
       "\n",
       "    .dataframe thead th {\n",
       "        text-align: right;\n",
       "    }\n",
       "</style>\n",
       "<table border=\"1\" class=\"dataframe\">\n",
       "  <thead>\n",
       "    <tr style=\"text-align: right;\">\n",
       "      <th></th>\n",
       "      <th>Money</th>\n",
       "      <th>Spending</th>\n",
       "    </tr>\n",
       "    <tr>\n",
       "      <th>Date</th>\n",
       "      <th></th>\n",
       "      <th></th>\n",
       "    </tr>\n",
       "  </thead>\n",
       "  <tbody>\n",
       "    <tr>\n",
       "      <th>1995-03-01</th>\n",
       "      <td>3.7</td>\n",
       "      <td>35.0</td>\n",
       "    </tr>\n",
       "    <tr>\n",
       "      <th>1995-04-01</th>\n",
       "      <td>6.9</td>\n",
       "      <td>-29.8</td>\n",
       "    </tr>\n",
       "    <tr>\n",
       "      <th>1995-05-01</th>\n",
       "      <td>16.9</td>\n",
       "      <td>38.1</td>\n",
       "    </tr>\n",
       "    <tr>\n",
       "      <th>1995-06-01</th>\n",
       "      <td>-0.3</td>\n",
       "      <td>1.5</td>\n",
       "    </tr>\n",
       "    <tr>\n",
       "      <th>1995-07-01</th>\n",
       "      <td>-6.2</td>\n",
       "      <td>-51.7</td>\n",
       "    </tr>\n",
       "  </tbody>\n",
       "</table>\n",
       "</div>"
      ],
      "text/plain": [
       "            Money  Spending\n",
       "Date                       \n",
       "1995-03-01    3.7      35.0\n",
       "1995-04-01    6.9     -29.8\n",
       "1995-05-01   16.9      38.1\n",
       "1995-06-01   -0.3       1.5\n",
       "1995-07-01   -6.2     -51.7"
      ]
     },
     "execution_count": 200,
     "metadata": {},
     "output_type": "execute_result"
    }
   ],
   "source": [
    "df_transformed.head()"
   ]
  },
  {
   "cell_type": "code",
   "execution_count": 201,
   "metadata": {},
   "outputs": [
    {
     "data": {
      "text/plain": [
       "250"
      ]
     },
     "execution_count": 201,
     "metadata": {},
     "output_type": "execute_result"
    }
   ],
   "source": [
    "# 2 diffencing so 2 rows reduced\n",
    "len(df_transformed)"
   ]
  },
  {
   "cell_type": "markdown",
   "metadata": {},
   "source": [
    "### Train/test split\n",
    "It will be useful to define a number of observations variable for our test set. For this analysis, let's use 12 months."
   ]
  },
  {
   "cell_type": "code",
   "execution_count": 202,
   "metadata": {},
   "outputs": [],
   "source": [
    "nobs=12\n",
    "train,test = df_transformed[0:-nobs], df_transformed[-nobs:]"
   ]
  },
  {
   "cell_type": "code",
   "execution_count": 203,
   "metadata": {},
   "outputs": [
    {
     "name": "stdout",
     "output_type": "stream",
     "text": [
      "(238, 2)\n",
      "(12, 2)\n"
     ]
    }
   ],
   "source": [
    "print(train.shape)\n",
    "print(test.shape)"
   ]
  },
  {
   "cell_type": "markdown",
   "metadata": {},
   "source": [
    "## VAR Model Order (p) Selection using Gridsearch\n",
    "We'll fit a series of models using the first seven p-values, and base our final selection on the model that provides the lowest AIC and BIC scores.\n",
    "\n",
    "For arima, sarima, sarimax; we used `auto_arima` but for VAR auto_arima does NOT work."
   ]
  },
  {
   "cell_type": "code",
   "execution_count": 204,
   "metadata": {},
   "outputs": [
    {
     "name": "stdout",
     "output_type": "stream",
     "text": [
      "Order = 1\n",
      "AIC:  14.178610495220896\n",
      "BIC:  14.266409486135709\n",
      "\n",
      "Order = 2\n",
      "AIC:  13.955189367163705\n",
      "BIC:  14.101961901274958\n",
      "\n",
      "Order = 3\n",
      "AIC:  13.849518291541038\n",
      "BIC:  14.055621258341116\n",
      "\n",
      "Order = 4\n",
      "AIC:  13.827950574458281\n",
      "BIC:  14.093744506408875\n",
      "\n",
      "Order = 5\n",
      "AIC:  13.78730034460964\n",
      "BIC:  14.113149468980652\n",
      "\n",
      "Order = 6\n",
      "AIC:  13.799076756885809\n",
      "BIC:  14.185349048538068\n",
      "\n",
      "Order = 7\n",
      "AIC:  13.797638727913972\n",
      "BIC:  14.244705963046671\n",
      "\n",
      "Order = 8\n",
      "AIC:  13.747200843672085\n",
      "BIC:  14.255438654556384\n",
      "\n",
      "Order = 9\n",
      "AIC:  13.768071682657098\n",
      "BIC:  14.337859613377889\n",
      "\n",
      "Order = 10\n",
      "AIC:  13.806012266239211\n",
      "BIC:  14.43773382946766\n",
      "\n"
     ]
    }
   ],
   "source": [
    "for i in [1,2,3,4,5,6,7,8,9,10]:\n",
    "    model = VAR(train)\n",
    "    results = model.fit(i)\n",
    "    print('Order =', i)\n",
    "    print('AIC: ', results.aic)\n",
    "    print('BIC: ', results.bic)\n",
    "    print()"
   ]
  },
  {
   "cell_type": "markdown",
   "metadata": {},
   "source": [
    "The VAR(5) model seems to return the lowest combined scores. As model becomes more complex, aic increases suggesting to chose a simpler model. <br>\n",
    "Just to verify that both variables are included in the model we can run <tt>.endog_names</tt>"
   ]
  },
  {
   "cell_type": "code",
   "execution_count": 205,
   "metadata": {},
   "outputs": [
    {
     "data": {
      "text/plain": [
       "['Money', 'Spending']"
      ]
     },
     "execution_count": 205,
     "metadata": {},
     "output_type": "execute_result"
    }
   ],
   "source": [
    "model.endog_names"
   ]
  },
  {
   "cell_type": "markdown",
   "metadata": {},
   "source": [
    "## Fit the VAR(5) Model"
   ]
  },
  {
   "cell_type": "code",
   "execution_count": 206,
   "metadata": {},
   "outputs": [
    {
     "data": {
      "text/plain": [
       "  Summary of Regression Results   \n",
       "==================================\n",
       "Model:                         VAR\n",
       "Method:                        OLS\n",
       "Date:           Wed, 03, Jun, 2020\n",
       "Time:                     19:39:47\n",
       "--------------------------------------------------------------------\n",
       "No. of Equations:         2.00000    BIC:                    14.1131\n",
       "Nobs:                     233.000    HQIC:                   13.9187\n",
       "Log likelihood:          -2245.45    FPE:                    972321.\n",
       "AIC:                      13.7873    Det(Omega_mle):         886628.\n",
       "--------------------------------------------------------------------\n",
       "Results for equation Money\n",
       "==============================================================================\n",
       "                 coefficient       std. error           t-stat            prob\n",
       "------------------------------------------------------------------------------\n",
       "const               0.516683         1.782238            0.290           0.772\n",
       "L1.Money           -0.646232         0.068177           -9.479           0.000\n",
       "L1.Spending        -0.107411         0.051388           -2.090           0.037\n",
       "L2.Money           -0.497482         0.077749           -6.399           0.000\n",
       "L2.Spending        -0.192202         0.068613           -2.801           0.005\n",
       "L3.Money           -0.234442         0.081004           -2.894           0.004\n",
       "L3.Spending        -0.178099         0.074288           -2.397           0.017\n",
       "L4.Money           -0.295531         0.075294           -3.925           0.000\n",
       "L4.Spending        -0.035564         0.069664           -0.511           0.610\n",
       "L5.Money           -0.162399         0.066700           -2.435           0.015\n",
       "L5.Spending        -0.058449         0.051357           -1.138           0.255\n",
       "==============================================================================\n",
       "\n",
       "Results for equation Spending\n",
       "==============================================================================\n",
       "                 coefficient       std. error           t-stat            prob\n",
       "------------------------------------------------------------------------------\n",
       "const               0.203469         2.355446            0.086           0.931\n",
       "L1.Money            0.188105         0.090104            2.088           0.037\n",
       "L1.Spending        -0.878970         0.067916          -12.942           0.000\n",
       "L2.Money            0.053017         0.102755            0.516           0.606\n",
       "L2.Spending        -0.625313         0.090681           -6.896           0.000\n",
       "L3.Money           -0.022172         0.107057           -0.207           0.836\n",
       "L3.Spending        -0.389041         0.098180           -3.963           0.000\n",
       "L4.Money           -0.170456         0.099510           -1.713           0.087\n",
       "L4.Spending        -0.245435         0.092069           -2.666           0.008\n",
       "L5.Money           -0.083165         0.088153           -0.943           0.345\n",
       "L5.Spending        -0.181699         0.067874           -2.677           0.007\n",
       "==============================================================================\n",
       "\n",
       "Correlation matrix of residuals\n",
       "               Money  Spending\n",
       "Money       1.000000 -0.267934\n",
       "Spending   -0.267934  1.000000\n",
       "\n"
      ]
     },
     "execution_count": 206,
     "metadata": {},
     "output_type": "execute_result"
    }
   ],
   "source": [
    "results = model.fit(5)\n",
    "results.summary()"
   ]
  },
  {
   "cell_type": "markdown",
   "metadata": {},
   "source": [
    "**INTERPRETATIONS:**\n",
    "1. Here we see equations (and coefficients) for both money_have and money_spend because it is a VAR model, it is time-series for both the features.\n",
    "<BR>\n",
    "    <BR>\n",
    "2. We also see how 1st lag value of money_have (L1.Money) affect spending i.e.0.188105. And how 1st lag value of spending affects spending i.e.-0.878970."
   ]
  },
  {
   "cell_type": "markdown",
   "metadata": {},
   "source": [
    "## Predict the next 12 values\n",
    "Unlike the VARMAX model we'll use in upcoming sections, the VAR <tt>.forecast()</tt> function requires that we pass in a lag order number of previous observations as well. Unfortunately this forecast tool doesn't provide a DateTime index - we'll have to do that manually."
   ]
  },
  {
   "cell_type": "code",
   "execution_count": 207,
   "metadata": {},
   "outputs": [
    {
     "data": {
      "text/plain": [
       "5"
      ]
     },
     "execution_count": 207,
     "metadata": {},
     "output_type": "execute_result"
    }
   ],
   "source": [
    "lag_order = results.k_ar\n",
    "lag_order"
   ]
  },
  {
   "cell_type": "code",
   "execution_count": 208,
   "metadata": {},
   "outputs": [
    {
     "data": {
      "text/plain": [
       "(238, 2)"
      ]
     },
     "execution_count": 208,
     "metadata": {},
     "output_type": "execute_result"
    }
   ],
   "source": [
    "train.values.shape"
   ]
  },
  {
   "cell_type": "markdown",
   "metadata": {},
   "source": [
    "As we have lag order of 5, we need last 5 lagged values of train set (which is right before test set starts), so the model can make lagged values upto the order 5 for test set in order to predict for the test set."
   ]
  },
  {
   "cell_type": "code",
   "execution_count": 209,
   "metadata": {},
   "outputs": [
    {
     "data": {
      "text/plain": [
       "(5, 2)"
      ]
     },
     "execution_count": 209,
     "metadata": {},
     "output_type": "execute_result"
    }
   ],
   "source": [
    "train.values[-lag_order:].shape"
   ]
  },
  {
   "cell_type": "markdown",
   "metadata": {},
   "source": [
    "Last 5 values of training set for both the features."
   ]
  },
  {
   "cell_type": "code",
   "execution_count": 210,
   "metadata": {},
   "outputs": [
    {
     "data": {
      "text/plain": [
       "array([[-16.99527634,  36.14982003],\n",
       "       [ -3.17403756, -11.45029844],\n",
       "       [ -0.377725  ,  -6.68496939],\n",
       "       [ -2.60223305,   5.47945777],\n",
       "       [  4.228557  ,  -2.44336505],\n",
       "       [  1.55939341,   0.38763902],\n",
       "       [ -0.99841027,   3.88368011],\n",
       "       [  0.36451042,  -2.3561014 ],\n",
       "       [ -1.21062726,  -1.22414652],\n",
       "       [  0.22587712,   0.786927  ],\n",
       "       [  1.33893884,   0.18097449],\n",
       "       [ -0.21858453,   0.21275046]])"
      ]
     },
     "execution_count": 210,
     "metadata": {},
     "output_type": "execute_result"
    }
   ],
   "source": [
    "# STEPS we want to predict in future\n",
    "z = results.forecast(y=train.values[-lag_order:], steps=12)\n",
    "z"
   ]
  },
  {
   "cell_type": "code",
   "execution_count": 211,
   "metadata": {},
   "outputs": [
    {
     "data": {
      "text/html": [
       "<div>\n",
       "<style scoped>\n",
       "    .dataframe tbody tr th:only-of-type {\n",
       "        vertical-align: middle;\n",
       "    }\n",
       "\n",
       "    .dataframe tbody tr th {\n",
       "        vertical-align: top;\n",
       "    }\n",
       "\n",
       "    .dataframe thead th {\n",
       "        text-align: right;\n",
       "    }\n",
       "</style>\n",
       "<table border=\"1\" class=\"dataframe\">\n",
       "  <thead>\n",
       "    <tr style=\"text-align: right;\">\n",
       "      <th></th>\n",
       "      <th>Money</th>\n",
       "      <th>Spending</th>\n",
       "    </tr>\n",
       "    <tr>\n",
       "      <th>Date</th>\n",
       "      <th></th>\n",
       "      <th></th>\n",
       "    </tr>\n",
       "  </thead>\n",
       "  <tbody>\n",
       "    <tr>\n",
       "      <th>2015-01-01</th>\n",
       "      <td>-15.5</td>\n",
       "      <td>-26.6</td>\n",
       "    </tr>\n",
       "    <tr>\n",
       "      <th>2015-02-01</th>\n",
       "      <td>56.1</td>\n",
       "      <td>52.4</td>\n",
       "    </tr>\n",
       "    <tr>\n",
       "      <th>2015-03-01</th>\n",
       "      <td>-102.8</td>\n",
       "      <td>39.5</td>\n",
       "    </tr>\n",
       "    <tr>\n",
       "      <th>2015-04-01</th>\n",
       "      <td>30.9</td>\n",
       "      <td>-40.4</td>\n",
       "    </tr>\n",
       "    <tr>\n",
       "      <th>2015-05-01</th>\n",
       "      <td>-15.8</td>\n",
       "      <td>38.8</td>\n",
       "    </tr>\n",
       "    <tr>\n",
       "      <th>2015-06-01</th>\n",
       "      <td>14.0</td>\n",
       "      <td>-34.1</td>\n",
       "    </tr>\n",
       "    <tr>\n",
       "      <th>2015-07-01</th>\n",
       "      <td>6.7</td>\n",
       "      <td>6.9</td>\n",
       "    </tr>\n",
       "    <tr>\n",
       "      <th>2015-08-01</th>\n",
       "      <td>-0.7</td>\n",
       "      <td>-8.5</td>\n",
       "    </tr>\n",
       "    <tr>\n",
       "      <th>2015-09-01</th>\n",
       "      <td>5.5</td>\n",
       "      <td>-39.8</td>\n",
       "    </tr>\n",
       "    <tr>\n",
       "      <th>2015-10-01</th>\n",
       "      <td>-23.1</td>\n",
       "      <td>24.5</td>\n",
       "    </tr>\n",
       "    <tr>\n",
       "      <th>2015-11-01</th>\n",
       "      <td>55.8</td>\n",
       "      <td>10.7</td>\n",
       "    </tr>\n",
       "    <tr>\n",
       "      <th>2015-12-01</th>\n",
       "      <td>-31.2</td>\n",
       "      <td>-15.0</td>\n",
       "    </tr>\n",
       "  </tbody>\n",
       "</table>\n",
       "</div>"
      ],
      "text/plain": [
       "            Money  Spending\n",
       "Date                       \n",
       "2015-01-01  -15.5     -26.6\n",
       "2015-02-01   56.1      52.4\n",
       "2015-03-01 -102.8      39.5\n",
       "2015-04-01   30.9     -40.4\n",
       "2015-05-01  -15.8      38.8\n",
       "2015-06-01   14.0     -34.1\n",
       "2015-07-01    6.7       6.9\n",
       "2015-08-01   -0.7      -8.5\n",
       "2015-09-01    5.5     -39.8\n",
       "2015-10-01  -23.1      24.5\n",
       "2015-11-01   55.8      10.7\n",
       "2015-12-01  -31.2     -15.0"
      ]
     },
     "execution_count": 211,
     "metadata": {},
     "output_type": "execute_result"
    }
   ],
   "source": [
    "test"
   ]
  },
  {
   "cell_type": "code",
   "execution_count": 212,
   "metadata": {},
   "outputs": [
    {
     "name": "stdout",
     "output_type": "stream",
     "text": [
      "DatetimeIndex(['2015-01-01', '2015-02-01', '2015-03-01', '2015-04-01',\n",
      "               '2015-05-01', '2015-06-01', '2015-07-01', '2015-08-01',\n",
      "               '2015-09-01', '2015-10-01', '2015-11-01', '2015-12-01'],\n",
      "              dtype='datetime64[ns]', freq='MS')\n"
     ]
    },
    {
     "data": {
      "text/html": [
       "<div>\n",
       "<style scoped>\n",
       "    .dataframe tbody tr th:only-of-type {\n",
       "        vertical-align: middle;\n",
       "    }\n",
       "\n",
       "    .dataframe tbody tr th {\n",
       "        vertical-align: top;\n",
       "    }\n",
       "\n",
       "    .dataframe thead th {\n",
       "        text-align: right;\n",
       "    }\n",
       "</style>\n",
       "<table border=\"1\" class=\"dataframe\">\n",
       "  <thead>\n",
       "    <tr style=\"text-align: right;\">\n",
       "      <th></th>\n",
       "      <th>Money2d</th>\n",
       "      <th>Spending2d</th>\n",
       "    </tr>\n",
       "  </thead>\n",
       "  <tbody>\n",
       "    <tr>\n",
       "      <th>2015-01-01</th>\n",
       "      <td>-16.995276</td>\n",
       "      <td>36.149820</td>\n",
       "    </tr>\n",
       "    <tr>\n",
       "      <th>2015-02-01</th>\n",
       "      <td>-3.174038</td>\n",
       "      <td>-11.450298</td>\n",
       "    </tr>\n",
       "    <tr>\n",
       "      <th>2015-03-01</th>\n",
       "      <td>-0.377725</td>\n",
       "      <td>-6.684969</td>\n",
       "    </tr>\n",
       "    <tr>\n",
       "      <th>2015-04-01</th>\n",
       "      <td>-2.602233</td>\n",
       "      <td>5.479458</td>\n",
       "    </tr>\n",
       "    <tr>\n",
       "      <th>2015-05-01</th>\n",
       "      <td>4.228557</td>\n",
       "      <td>-2.443365</td>\n",
       "    </tr>\n",
       "    <tr>\n",
       "      <th>2015-06-01</th>\n",
       "      <td>1.559393</td>\n",
       "      <td>0.387639</td>\n",
       "    </tr>\n",
       "    <tr>\n",
       "      <th>2015-07-01</th>\n",
       "      <td>-0.998410</td>\n",
       "      <td>3.883680</td>\n",
       "    </tr>\n",
       "    <tr>\n",
       "      <th>2015-08-01</th>\n",
       "      <td>0.364510</td>\n",
       "      <td>-2.356101</td>\n",
       "    </tr>\n",
       "    <tr>\n",
       "      <th>2015-09-01</th>\n",
       "      <td>-1.210627</td>\n",
       "      <td>-1.224147</td>\n",
       "    </tr>\n",
       "    <tr>\n",
       "      <th>2015-10-01</th>\n",
       "      <td>0.225877</td>\n",
       "      <td>0.786927</td>\n",
       "    </tr>\n",
       "    <tr>\n",
       "      <th>2015-11-01</th>\n",
       "      <td>1.338939</td>\n",
       "      <td>0.180974</td>\n",
       "    </tr>\n",
       "    <tr>\n",
       "      <th>2015-12-01</th>\n",
       "      <td>-0.218585</td>\n",
       "      <td>0.212750</td>\n",
       "    </tr>\n",
       "  </tbody>\n",
       "</table>\n",
       "</div>"
      ],
      "text/plain": [
       "              Money2d  Spending2d\n",
       "2015-01-01 -16.995276   36.149820\n",
       "2015-02-01  -3.174038  -11.450298\n",
       "2015-03-01  -0.377725   -6.684969\n",
       "2015-04-01  -2.602233    5.479458\n",
       "2015-05-01   4.228557   -2.443365\n",
       "2015-06-01   1.559393    0.387639\n",
       "2015-07-01  -0.998410    3.883680\n",
       "2015-08-01   0.364510   -2.356101\n",
       "2015-09-01  -1.210627   -1.224147\n",
       "2015-10-01   0.225877    0.786927\n",
       "2015-11-01   1.338939    0.180974\n",
       "2015-12-01  -0.218585    0.212750"
      ]
     },
     "execution_count": 212,
     "metadata": {},
     "output_type": "execute_result"
    }
   ],
   "source": [
    "# Making the prediction dataframe\n",
    "\n",
    "# Date range needs to be started from the beginning of test\n",
    "# We want to predict for next 12 periods (12 months)\n",
    "idx = pd.date_range('1/1/2015', periods=12, freq='MS')\n",
    "print(idx)\n",
    "df_forecast = pd.DataFrame(z, index=idx, \n",
    "                           columns=['Money2d','Spending2d'])\n",
    "df_forecast"
   ]
  },
  {
   "cell_type": "markdown",
   "metadata": {},
   "source": [
    "## Invert the Transformation\n",
    "Remember that the forecasted values represent second-order differences. To compare them to the original data we have to roll back each difference. To roll back a first-order difference we take the most recent value on the training side of the original series, and add it to a cumulative sum of forecasted values. When working with second-order differences we first must perform this operation on the most recent first-order difference.\n",
    "\n",
    "Here we'll use the <tt>nobs</tt> variable we defined during the train/test/split step."
   ]
  },
  {
   "cell_type": "code",
   "execution_count": 213,
   "metadata": {},
   "outputs": [
    {
     "name": "stdout",
     "output_type": "stream",
     "text": [
      "11670.1\n",
      "11591.5\n",
      "78.60000000000036\n",
      "2015-01-01   -16.995276\n",
      "2015-02-01   -20.169314\n",
      "2015-03-01   -20.547039\n",
      "2015-04-01   -23.149272\n",
      "2015-05-01   -18.920715\n",
      "2015-06-01   -17.361322\n",
      "2015-07-01   -18.359732\n",
      "2015-08-01   -17.995221\n",
      "2015-09-01   -19.205849\n",
      "2015-10-01   -18.979972\n",
      "2015-11-01   -17.641033\n",
      "2015-12-01   -17.859617\n",
      "Freq: MS, Name: Money2d, dtype: float64\n"
     ]
    }
   ],
   "source": [
    "print(df['Money'].iloc[-nobs-1])\n",
    "print(df['Money'].iloc[-nobs-2])\n",
    "\n",
    "# 1st-order diff. of most recent value of the \n",
    "# training side of original series\n",
    "print(df['Money'].iloc[-nobs-1]-df['Money'].iloc[-nobs-2])\n",
    "print(df_forecast['Money2d'].cumsum())"
   ]
  },
  {
   "cell_type": "code",
   "execution_count": 214,
   "metadata": {},
   "outputs": [
    {
     "data": {
      "text/plain": [
       "2015-01-01    61.604724\n",
       "2015-02-01    58.430686\n",
       "2015-03-01    58.052961\n",
       "2015-04-01    55.450728\n",
       "2015-05-01    59.679285\n",
       "2015-06-01    61.238678\n",
       "2015-07-01    60.240268\n",
       "2015-08-01    60.604779\n",
       "2015-09-01    59.394151\n",
       "2015-10-01    59.620028\n",
       "2015-11-01    60.958967\n",
       "2015-12-01    60.740383\n",
       "Freq: MS, Name: Money2d, dtype: float64"
      ]
     },
     "execution_count": 214,
     "metadata": {},
     "output_type": "execute_result"
    }
   ],
   "source": [
    "(df['Money'].iloc[-nobs-1]-df['Money'].iloc[-nobs-2]) +\\\n",
    "                            df_forecast['Money2d'].cumsum()"
   ]
  },
  {
   "cell_type": "code",
   "execution_count": 215,
   "metadata": {},
   "outputs": [
    {
     "data": {
      "text/html": [
       "<div>\n",
       "<style scoped>\n",
       "    .dataframe tbody tr th:only-of-type {\n",
       "        vertical-align: middle;\n",
       "    }\n",
       "\n",
       "    .dataframe tbody tr th {\n",
       "        vertical-align: top;\n",
       "    }\n",
       "\n",
       "    .dataframe thead th {\n",
       "        text-align: right;\n",
       "    }\n",
       "</style>\n",
       "<table border=\"1\" class=\"dataframe\">\n",
       "  <thead>\n",
       "    <tr style=\"text-align: right;\">\n",
       "      <th></th>\n",
       "      <th>Money2d</th>\n",
       "      <th>Spending2d</th>\n",
       "    </tr>\n",
       "  </thead>\n",
       "  <tbody>\n",
       "    <tr>\n",
       "      <th>2015-01-01</th>\n",
       "      <td>-16.995276</td>\n",
       "      <td>36.149820</td>\n",
       "    </tr>\n",
       "    <tr>\n",
       "      <th>2015-02-01</th>\n",
       "      <td>-3.174038</td>\n",
       "      <td>-11.450298</td>\n",
       "    </tr>\n",
       "    <tr>\n",
       "      <th>2015-03-01</th>\n",
       "      <td>-0.377725</td>\n",
       "      <td>-6.684969</td>\n",
       "    </tr>\n",
       "    <tr>\n",
       "      <th>2015-04-01</th>\n",
       "      <td>-2.602233</td>\n",
       "      <td>5.479458</td>\n",
       "    </tr>\n",
       "    <tr>\n",
       "      <th>2015-05-01</th>\n",
       "      <td>4.228557</td>\n",
       "      <td>-2.443365</td>\n",
       "    </tr>\n",
       "  </tbody>\n",
       "</table>\n",
       "</div>"
      ],
      "text/plain": [
       "              Money2d  Spending2d\n",
       "2015-01-01 -16.995276   36.149820\n",
       "2015-02-01  -3.174038  -11.450298\n",
       "2015-03-01  -0.377725   -6.684969\n",
       "2015-04-01  -2.602233    5.479458\n",
       "2015-05-01   4.228557   -2.443365"
      ]
     },
     "execution_count": 215,
     "metadata": {},
     "output_type": "execute_result"
    }
   ],
   "source": [
    "df_forecast.head()"
   ]
  },
  {
   "cell_type": "code",
   "execution_count": 216,
   "metadata": {},
   "outputs": [],
   "source": [
    "# Add the difference of most recent most recent values of the training \n",
    "# side of the original dataset to the forecast cumulative sum\n",
    "df_forecast['Money1d'] = (df['Money'].iloc[-nobs-1]-df['Money'].\\\n",
    "                    iloc[-nobs-2]) + df_forecast['Money2d'].cumsum()\n",
    "\n",
    "# Now build the forecast values from the first difference set\n",
    "df_forecast['MoneyForecast'] = df['Money'].iloc[-nobs-1] +\\\n",
    "                                    df_forecast['Money1d'].cumsum()"
   ]
  },
  {
   "cell_type": "code",
   "execution_count": 217,
   "metadata": {},
   "outputs": [
    {
     "data": {
      "text/html": [
       "<div>\n",
       "<style scoped>\n",
       "    .dataframe tbody tr th:only-of-type {\n",
       "        vertical-align: middle;\n",
       "    }\n",
       "\n",
       "    .dataframe tbody tr th {\n",
       "        vertical-align: top;\n",
       "    }\n",
       "\n",
       "    .dataframe thead th {\n",
       "        text-align: right;\n",
       "    }\n",
       "</style>\n",
       "<table border=\"1\" class=\"dataframe\">\n",
       "  <thead>\n",
       "    <tr style=\"text-align: right;\">\n",
       "      <th></th>\n",
       "      <th>Money2d</th>\n",
       "      <th>Spending2d</th>\n",
       "      <th>Money1d</th>\n",
       "      <th>MoneyForecast</th>\n",
       "    </tr>\n",
       "  </thead>\n",
       "  <tbody>\n",
       "    <tr>\n",
       "      <th>2015-01-01</th>\n",
       "      <td>-16.995276</td>\n",
       "      <td>36.149820</td>\n",
       "      <td>61.604724</td>\n",
       "      <td>11731.704724</td>\n",
       "    </tr>\n",
       "    <tr>\n",
       "      <th>2015-02-01</th>\n",
       "      <td>-3.174038</td>\n",
       "      <td>-11.450298</td>\n",
       "      <td>58.430686</td>\n",
       "      <td>11790.135410</td>\n",
       "    </tr>\n",
       "    <tr>\n",
       "      <th>2015-03-01</th>\n",
       "      <td>-0.377725</td>\n",
       "      <td>-6.684969</td>\n",
       "      <td>58.052961</td>\n",
       "      <td>11848.188371</td>\n",
       "    </tr>\n",
       "    <tr>\n",
       "      <th>2015-04-01</th>\n",
       "      <td>-2.602233</td>\n",
       "      <td>5.479458</td>\n",
       "      <td>55.450728</td>\n",
       "      <td>11903.639099</td>\n",
       "    </tr>\n",
       "    <tr>\n",
       "      <th>2015-05-01</th>\n",
       "      <td>4.228557</td>\n",
       "      <td>-2.443365</td>\n",
       "      <td>59.679285</td>\n",
       "      <td>11963.318384</td>\n",
       "    </tr>\n",
       "  </tbody>\n",
       "</table>\n",
       "</div>"
      ],
      "text/plain": [
       "              Money2d  Spending2d    Money1d  MoneyForecast\n",
       "2015-01-01 -16.995276   36.149820  61.604724   11731.704724\n",
       "2015-02-01  -3.174038  -11.450298  58.430686   11790.135410\n",
       "2015-03-01  -0.377725   -6.684969  58.052961   11848.188371\n",
       "2015-04-01  -2.602233    5.479458  55.450728   11903.639099\n",
       "2015-05-01   4.228557   -2.443365  59.679285   11963.318384"
      ]
     },
     "execution_count": 217,
     "metadata": {},
     "output_type": "execute_result"
    }
   ],
   "source": [
    "df_forecast.head()"
   ]
  },
  {
   "cell_type": "code",
   "execution_count": 218,
   "metadata": {},
   "outputs": [],
   "source": [
    "# Add the most recent first difference from the training side \n",
    "# of the original dataset to the forecast cumulative sum\n",
    "df_forecast['Spending1d'] = (df['Spending'].iloc[-nobs-1]-\\\n",
    "                                df['Spending'].iloc[-nobs-2]) + \\\n",
    "                                    df_forecast['Spending2d'].cumsum()\n",
    "\n",
    "# Now build the forecast values from the first difference set\n",
    "df_forecast['SpendingForecast'] = df['Spending'].iloc[-nobs-1] +\\\n",
    "                                    df_forecast['Spending1d'].cumsum()"
   ]
  },
  {
   "cell_type": "code",
   "execution_count": 219,
   "metadata": {},
   "outputs": [
    {
     "data": {
      "text/html": [
       "<div>\n",
       "<style scoped>\n",
       "    .dataframe tbody tr th:only-of-type {\n",
       "        vertical-align: middle;\n",
       "    }\n",
       "\n",
       "    .dataframe tbody tr th {\n",
       "        vertical-align: top;\n",
       "    }\n",
       "\n",
       "    .dataframe thead th {\n",
       "        text-align: right;\n",
       "    }\n",
       "</style>\n",
       "<table border=\"1\" class=\"dataframe\">\n",
       "  <thead>\n",
       "    <tr style=\"text-align: right;\">\n",
       "      <th></th>\n",
       "      <th>Money2d</th>\n",
       "      <th>Spending2d</th>\n",
       "      <th>Money1d</th>\n",
       "      <th>MoneyForecast</th>\n",
       "      <th>Spending1d</th>\n",
       "      <th>SpendingForecast</th>\n",
       "    </tr>\n",
       "  </thead>\n",
       "  <tbody>\n",
       "    <tr>\n",
       "      <th>2015-01-01</th>\n",
       "      <td>-16.995276</td>\n",
       "      <td>36.149820</td>\n",
       "      <td>61.604724</td>\n",
       "      <td>11731.704724</td>\n",
       "      <td>46.749820</td>\n",
       "      <td>12108.749820</td>\n",
       "    </tr>\n",
       "    <tr>\n",
       "      <th>2015-02-01</th>\n",
       "      <td>-3.174038</td>\n",
       "      <td>-11.450298</td>\n",
       "      <td>58.430686</td>\n",
       "      <td>11790.135410</td>\n",
       "      <td>35.299522</td>\n",
       "      <td>12144.049342</td>\n",
       "    </tr>\n",
       "    <tr>\n",
       "      <th>2015-03-01</th>\n",
       "      <td>-0.377725</td>\n",
       "      <td>-6.684969</td>\n",
       "      <td>58.052961</td>\n",
       "      <td>11848.188371</td>\n",
       "      <td>28.614552</td>\n",
       "      <td>12172.663894</td>\n",
       "    </tr>\n",
       "    <tr>\n",
       "      <th>2015-04-01</th>\n",
       "      <td>-2.602233</td>\n",
       "      <td>5.479458</td>\n",
       "      <td>55.450728</td>\n",
       "      <td>11903.639099</td>\n",
       "      <td>34.094010</td>\n",
       "      <td>12206.757904</td>\n",
       "    </tr>\n",
       "    <tr>\n",
       "      <th>2015-05-01</th>\n",
       "      <td>4.228557</td>\n",
       "      <td>-2.443365</td>\n",
       "      <td>59.679285</td>\n",
       "      <td>11963.318384</td>\n",
       "      <td>31.650645</td>\n",
       "      <td>12238.408549</td>\n",
       "    </tr>\n",
       "    <tr>\n",
       "      <th>2015-06-01</th>\n",
       "      <td>1.559393</td>\n",
       "      <td>0.387639</td>\n",
       "      <td>61.238678</td>\n",
       "      <td>12024.557062</td>\n",
       "      <td>32.038284</td>\n",
       "      <td>12270.446833</td>\n",
       "    </tr>\n",
       "    <tr>\n",
       "      <th>2015-07-01</th>\n",
       "      <td>-0.998410</td>\n",
       "      <td>3.883680</td>\n",
       "      <td>60.240268</td>\n",
       "      <td>12084.797331</td>\n",
       "      <td>35.921964</td>\n",
       "      <td>12306.368797</td>\n",
       "    </tr>\n",
       "    <tr>\n",
       "      <th>2015-08-01</th>\n",
       "      <td>0.364510</td>\n",
       "      <td>-2.356101</td>\n",
       "      <td>60.604779</td>\n",
       "      <td>12145.402109</td>\n",
       "      <td>33.565863</td>\n",
       "      <td>12339.934659</td>\n",
       "    </tr>\n",
       "    <tr>\n",
       "      <th>2015-09-01</th>\n",
       "      <td>-1.210627</td>\n",
       "      <td>-1.224147</td>\n",
       "      <td>59.394151</td>\n",
       "      <td>12204.796261</td>\n",
       "      <td>32.341716</td>\n",
       "      <td>12372.276375</td>\n",
       "    </tr>\n",
       "    <tr>\n",
       "      <th>2015-10-01</th>\n",
       "      <td>0.225877</td>\n",
       "      <td>0.786927</td>\n",
       "      <td>59.620028</td>\n",
       "      <td>12264.416289</td>\n",
       "      <td>33.128643</td>\n",
       "      <td>12405.405019</td>\n",
       "    </tr>\n",
       "    <tr>\n",
       "      <th>2015-11-01</th>\n",
       "      <td>1.338939</td>\n",
       "      <td>0.180974</td>\n",
       "      <td>60.958967</td>\n",
       "      <td>12325.375256</td>\n",
       "      <td>33.309618</td>\n",
       "      <td>12438.714636</td>\n",
       "    </tr>\n",
       "    <tr>\n",
       "      <th>2015-12-01</th>\n",
       "      <td>-0.218585</td>\n",
       "      <td>0.212750</td>\n",
       "      <td>60.740383</td>\n",
       "      <td>12386.115639</td>\n",
       "      <td>33.522368</td>\n",
       "      <td>12472.237004</td>\n",
       "    </tr>\n",
       "  </tbody>\n",
       "</table>\n",
       "</div>"
      ],
      "text/plain": [
       "              Money2d  Spending2d    Money1d  MoneyForecast  Spending1d  \\\n",
       "2015-01-01 -16.995276   36.149820  61.604724   11731.704724   46.749820   \n",
       "2015-02-01  -3.174038  -11.450298  58.430686   11790.135410   35.299522   \n",
       "2015-03-01  -0.377725   -6.684969  58.052961   11848.188371   28.614552   \n",
       "2015-04-01  -2.602233    5.479458  55.450728   11903.639099   34.094010   \n",
       "2015-05-01   4.228557   -2.443365  59.679285   11963.318384   31.650645   \n",
       "2015-06-01   1.559393    0.387639  61.238678   12024.557062   32.038284   \n",
       "2015-07-01  -0.998410    3.883680  60.240268   12084.797331   35.921964   \n",
       "2015-08-01   0.364510   -2.356101  60.604779   12145.402109   33.565863   \n",
       "2015-09-01  -1.210627   -1.224147  59.394151   12204.796261   32.341716   \n",
       "2015-10-01   0.225877    0.786927  59.620028   12264.416289   33.128643   \n",
       "2015-11-01   1.338939    0.180974  60.958967   12325.375256   33.309618   \n",
       "2015-12-01  -0.218585    0.212750  60.740383   12386.115639   33.522368   \n",
       "\n",
       "            SpendingForecast  \n",
       "2015-01-01      12108.749820  \n",
       "2015-02-01      12144.049342  \n",
       "2015-03-01      12172.663894  \n",
       "2015-04-01      12206.757904  \n",
       "2015-05-01      12238.408549  \n",
       "2015-06-01      12270.446833  \n",
       "2015-07-01      12306.368797  \n",
       "2015-08-01      12339.934659  \n",
       "2015-09-01      12372.276375  \n",
       "2015-10-01      12405.405019  \n",
       "2015-11-01      12438.714636  \n",
       "2015-12-01      12472.237004  "
      ]
     },
     "execution_count": 219,
     "metadata": {},
     "output_type": "execute_result"
    }
   ],
   "source": [
    "df_forecast"
   ]
  },
  {
   "cell_type": "markdown",
   "metadata": {},
   "source": [
    "## Plot the results\n",
    "The VARResults object offers a couple of quick plotting tools:"
   ]
  },
  {
   "cell_type": "code",
   "execution_count": 220,
   "metadata": {},
   "outputs": [
    {
     "data": {
      "image/png": "[encoded data removed]",
      "text/plain": [
       "<Figure size 720x720 with 2 Axes>"
      ]
     },
     "metadata": {
      "needs_background": "light"
     },
     "output_type": "display_data"
    }
   ],
   "source": [
    "results.plot();"
   ]
  },
  {
   "cell_type": "code",
   "execution_count": 221,
   "metadata": {},
   "outputs": [
    {
     "data": {
      "image/png": "[encoded data removed]",
      "text/plain": [
       "<Figure size 720x720 with 2 Axes>"
      ]
     },
     "metadata": {
      "needs_background": "light"
     },
     "output_type": "display_data"
    }
   ],
   "source": [
    "results.plot_forecast(12);"
   ]
  },
  {
   "cell_type": "markdown",
   "metadata": {},
   "source": [
    "But for our investigation we want to plot predicted values against our test set."
   ]
  },
  {
   "cell_type": "code",
   "execution_count": 222,
   "metadata": {},
   "outputs": [
    {
     "data": {
      "image/png": "[encoded data removed]",
      "text/plain": [
       "<Figure size 864x360 with 1 Axes>"
      ]
     },
     "metadata": {
      "needs_background": "light"
     },
     "output_type": "display_data"
    }
   ],
   "source": [
    "# Plotting money for the test range part\n",
    "df['Money'][-nobs:].plot(figsize=(12,5),legend=True).\\\n",
    "                            autoscale(axis='x',tight=True)\n",
    "df_forecast['MoneyForecast'].plot(legend=True);"
   ]
  },
  {
   "cell_type": "code",
   "execution_count": 223,
   "metadata": {},
   "outputs": [
    {
     "data": {
      "image/png": "[encoded data removed]",
      "text/plain": [
       "<Figure size 864x360 with 1 Axes>"
      ]
     },
     "metadata": {
      "needs_background": "light"
     },
     "output_type": "display_data"
    }
   ],
   "source": [
    "# Plotting spending for the test range part\n",
    "df['Spending'][-nobs:].plot(figsize=(12,5),legend=True).\\\n",
    "                                autoscale(axis='x',tight=True)\n",
    "df_forecast['SpendingForecast'].plot(legend=True);"
   ]
  },
  {
   "cell_type": "markdown",
   "metadata": {},
   "source": [
    "### Evaluate the model\n",
    "\n",
    "&nbsp;&nbsp;&nbsp;&nbsp;$RMSE = \\sqrt{{\\frac 1 L} \\sum\\limits_{l=1}^L (y_{T+l} - \\hat y_{T+l})^2}$<br><br>\n",
    "where $T$ is the last observation period and $l$ is the lag."
   ]
  },
  {
   "cell_type": "code",
   "execution_count": 224,
   "metadata": {},
   "outputs": [
    {
     "name": "stdout",
     "output_type": "stream",
     "text": [
      "Money VAR(5) RMSE: 43.710\n"
     ]
    }
   ],
   "source": [
    "RMSE1 = rmse(df['Money'][-nobs:], df_forecast['MoneyForecast'])\n",
    "print(f'Money VAR(5) RMSE: {RMSE1:.3f}')"
   ]
  },
  {
   "cell_type": "code",
   "execution_count": 225,
   "metadata": {},
   "outputs": [
    {
     "data": {
      "text/plain": [
       "12034.008333333333"
      ]
     },
     "execution_count": 225,
     "metadata": {},
     "output_type": "execute_result"
    }
   ],
   "source": [
    "df['Money'][-nobs:].mean()"
   ]
  },
  {
   "cell_type": "code",
   "execution_count": 226,
   "metadata": {},
   "outputs": [
    {
     "name": "stdout",
     "output_type": "stream",
     "text": [
      "Spending VAR(5) RMSE: 37.001\n"
     ]
    }
   ],
   "source": [
    "RMSE2 = rmse(df['Spending'][-nobs:],df_forecast['SpendingForecast'])\n",
    "print(f'Spending VAR(5) RMSE: {RMSE2:.3f}')"
   ]
  },
  {
   "cell_type": "code",
   "execution_count": 227,
   "metadata": {},
   "outputs": [
    {
     "data": {
      "text/plain": [
       "12294.533333333333"
      ]
     },
     "execution_count": 227,
     "metadata": {},
     "output_type": "execute_result"
    }
   ],
   "source": [
    "df['Spending'][-nobs:].mean()"
   ]
  },
  {
   "cell_type": "markdown",
   "metadata": {},
   "source": [
    "Performance of the VAR model decent based on the range of the mean values"
   ]
  },
  {
   "cell_type": "markdown",
   "metadata": {},
   "source": [
    "## Let's compare these results to individual AR(5) models\n",
    "\n",
    "But here we will process each series separately"
   ]
  },
  {
   "cell_type": "code",
   "execution_count": 228,
   "metadata": {},
   "outputs": [],
   "source": [
    "from statsmodels.tsa.ar_model import AR,ARResults"
   ]
  },
  {
   "cell_type": "markdown",
   "metadata": {},
   "source": [
    "### Money"
   ]
  },
  {
   "cell_type": "code",
   "execution_count": 239,
   "metadata": {},
   "outputs": [
    {
     "name": "stdout",
     "output_type": "stream",
     "text": [
      "Lag: 5\n",
      "Coefficients:\n",
      "const       0.585183\n",
      "L1.Money   -0.605217\n",
      "L2.Money   -0.465398\n",
      "L3.Money   -0.228645\n",
      "L4.Money   -0.311355\n",
      "L5.Money   -0.127613\n",
      "dtype: float64\n"
     ]
    }
   ],
   "source": [
    "# we can remove maxlag=5,and let model figure out\n",
    "# optimum value of lag\n",
    "modelM = AR(train['Money'])\n",
    "AR5fit1 = modelM.fit(maxlag=5,method='mle')\n",
    "\n",
    "print(f'Lag: {AR5fit1.k_ar}')\n",
    "print(f'Coefficients:\\n{AR5fit1.params}')"
   ]
  },
  {
   "cell_type": "code",
   "execution_count": 240,
   "metadata": {},
   "outputs": [],
   "source": [
    "start=len(train)\n",
    "end=len(train)+len(test)-1\n",
    "z1 = pd.DataFrame(AR5fit1.predict(start=start, end=end, \n",
    "                        dynamic=False),columns=['Money'])"
   ]
  },
  {
   "cell_type": "code",
   "execution_count": 241,
   "metadata": {},
   "outputs": [
    {
     "data": {
      "text/html": [
       "<div>\n",
       "<style scoped>\n",
       "    .dataframe tbody tr th:only-of-type {\n",
       "        vertical-align: middle;\n",
       "    }\n",
       "\n",
       "    .dataframe tbody tr th {\n",
       "        vertical-align: top;\n",
       "    }\n",
       "\n",
       "    .dataframe thead th {\n",
       "        text-align: right;\n",
       "    }\n",
       "</style>\n",
       "<table border=\"1\" class=\"dataframe\">\n",
       "  <thead>\n",
       "    <tr style=\"text-align: right;\">\n",
       "      <th></th>\n",
       "      <th>Money</th>\n",
       "    </tr>\n",
       "  </thead>\n",
       "  <tbody>\n",
       "    <tr>\n",
       "      <th>2015-01-01</th>\n",
       "      <td>-16.911089</td>\n",
       "    </tr>\n",
       "    <tr>\n",
       "      <th>2015-02-01</th>\n",
       "      <td>-11.347194</td>\n",
       "    </tr>\n",
       "    <tr>\n",
       "      <th>2015-03-01</th>\n",
       "      <td>9.669317</td>\n",
       "    </tr>\n",
       "    <tr>\n",
       "      <th>2015-04-01</th>\n",
       "      <td>-5.699597</td>\n",
       "    </tr>\n",
       "    <tr>\n",
       "      <th>2015-05-01</th>\n",
       "      <td>2.353694</td>\n",
       "    </tr>\n",
       "    <tr>\n",
       "      <th>2015-06-01</th>\n",
       "      <td>5.293510</td>\n",
       "    </tr>\n",
       "    <tr>\n",
       "      <th>2015-07-01</th>\n",
       "      <td>-3.973292</td>\n",
       "    </tr>\n",
       "    <tr>\n",
       "      <th>2015-08-01</th>\n",
       "      <td>0.528800</td>\n",
       "    </tr>\n",
       "    <tr>\n",
       "      <th>2015-09-01</th>\n",
       "      <td>0.898483</td>\n",
       "    </tr>\n",
       "    <tr>\n",
       "      <th>2015-10-01</th>\n",
       "      <td>-1.244744</td>\n",
       "    </tr>\n",
       "    <tr>\n",
       "      <th>2015-11-01</th>\n",
       "      <td>1.361045</td>\n",
       "    </tr>\n",
       "    <tr>\n",
       "      <th>2015-12-01</th>\n",
       "      <td>0.477725</td>\n",
       "    </tr>\n",
       "  </tbody>\n",
       "</table>\n",
       "</div>"
      ],
      "text/plain": [
       "                Money\n",
       "2015-01-01 -16.911089\n",
       "2015-02-01 -11.347194\n",
       "2015-03-01   9.669317\n",
       "2015-04-01  -5.699597\n",
       "2015-05-01   2.353694\n",
       "2015-06-01   5.293510\n",
       "2015-07-01  -3.973292\n",
       "2015-08-01   0.528800\n",
       "2015-09-01   0.898483\n",
       "2015-10-01  -1.244744\n",
       "2015-11-01   1.361045\n",
       "2015-12-01   0.477725"
      ]
     },
     "execution_count": 241,
     "metadata": {},
     "output_type": "execute_result"
    }
   ],
   "source": [
    "z1"
   ]
  },
  {
   "cell_type": "markdown",
   "metadata": {},
   "source": [
    "### Invert the Transformation, Evaluate the Forecast"
   ]
  },
  {
   "cell_type": "code",
   "execution_count": 242,
   "metadata": {},
   "outputs": [],
   "source": [
    "# Add the most recent first difference from the training set \n",
    "# to the forecast cumulative sum\n",
    "z1['Money1d'] = (df['Money'].iloc[-nobs-1]-\\\n",
    "                 df['Money'].iloc[-nobs-2]) +\\\n",
    "                            z1['Money'].cumsum()\n",
    "\n",
    "# Now build the forecast values from the first difference set\n",
    "z1['MoneyForecast'] = df['Money'].iloc[-nobs-1] +\\\n",
    "                                z1['Money1d'].cumsum()"
   ]
  },
  {
   "cell_type": "code",
   "execution_count": 243,
   "metadata": {},
   "outputs": [
    {
     "data": {
      "text/html": [
       "<div>\n",
       "<style scoped>\n",
       "    .dataframe tbody tr th:only-of-type {\n",
       "        vertical-align: middle;\n",
       "    }\n",
       "\n",
       "    .dataframe tbody tr th {\n",
       "        vertical-align: top;\n",
       "    }\n",
       "\n",
       "    .dataframe thead th {\n",
       "        text-align: right;\n",
       "    }\n",
       "</style>\n",
       "<table border=\"1\" class=\"dataframe\">\n",
       "  <thead>\n",
       "    <tr style=\"text-align: right;\">\n",
       "      <th></th>\n",
       "      <th>Money</th>\n",
       "      <th>Money1d</th>\n",
       "      <th>MoneyForecast</th>\n",
       "    </tr>\n",
       "  </thead>\n",
       "  <tbody>\n",
       "    <tr>\n",
       "      <th>2015-01-01</th>\n",
       "      <td>-16.911089</td>\n",
       "      <td>61.688911</td>\n",
       "      <td>11731.788911</td>\n",
       "    </tr>\n",
       "    <tr>\n",
       "      <th>2015-02-01</th>\n",
       "      <td>-11.347194</td>\n",
       "      <td>50.341717</td>\n",
       "      <td>11782.130627</td>\n",
       "    </tr>\n",
       "    <tr>\n",
       "      <th>2015-03-01</th>\n",
       "      <td>9.669317</td>\n",
       "      <td>60.011034</td>\n",
       "      <td>11842.141661</td>\n",
       "    </tr>\n",
       "    <tr>\n",
       "      <th>2015-04-01</th>\n",
       "      <td>-5.699597</td>\n",
       "      <td>54.311437</td>\n",
       "      <td>11896.453098</td>\n",
       "    </tr>\n",
       "    <tr>\n",
       "      <th>2015-05-01</th>\n",
       "      <td>2.353694</td>\n",
       "      <td>56.665131</td>\n",
       "      <td>11953.118229</td>\n",
       "    </tr>\n",
       "    <tr>\n",
       "      <th>2015-06-01</th>\n",
       "      <td>5.293510</td>\n",
       "      <td>61.958641</td>\n",
       "      <td>12015.076869</td>\n",
       "    </tr>\n",
       "    <tr>\n",
       "      <th>2015-07-01</th>\n",
       "      <td>-3.973292</td>\n",
       "      <td>57.985348</td>\n",
       "      <td>12073.062218</td>\n",
       "    </tr>\n",
       "    <tr>\n",
       "      <th>2015-08-01</th>\n",
       "      <td>0.528800</td>\n",
       "      <td>58.514148</td>\n",
       "      <td>12131.576366</td>\n",
       "    </tr>\n",
       "    <tr>\n",
       "      <th>2015-09-01</th>\n",
       "      <td>0.898483</td>\n",
       "      <td>59.412631</td>\n",
       "      <td>12190.988997</td>\n",
       "    </tr>\n",
       "    <tr>\n",
       "      <th>2015-10-01</th>\n",
       "      <td>-1.244744</td>\n",
       "      <td>58.167887</td>\n",
       "      <td>12249.156885</td>\n",
       "    </tr>\n",
       "    <tr>\n",
       "      <th>2015-11-01</th>\n",
       "      <td>1.361045</td>\n",
       "      <td>59.528932</td>\n",
       "      <td>12308.685816</td>\n",
       "    </tr>\n",
       "    <tr>\n",
       "      <th>2015-12-01</th>\n",
       "      <td>0.477725</td>\n",
       "      <td>60.006656</td>\n",
       "      <td>12368.692472</td>\n",
       "    </tr>\n",
       "  </tbody>\n",
       "</table>\n",
       "</div>"
      ],
      "text/plain": [
       "                Money    Money1d  MoneyForecast\n",
       "2015-01-01 -16.911089  61.688911   11731.788911\n",
       "2015-02-01 -11.347194  50.341717   11782.130627\n",
       "2015-03-01   9.669317  60.011034   11842.141661\n",
       "2015-04-01  -5.699597  54.311437   11896.453098\n",
       "2015-05-01   2.353694  56.665131   11953.118229\n",
       "2015-06-01   5.293510  61.958641   12015.076869\n",
       "2015-07-01  -3.973292  57.985348   12073.062218\n",
       "2015-08-01   0.528800  58.514148   12131.576366\n",
       "2015-09-01   0.898483  59.412631   12190.988997\n",
       "2015-10-01  -1.244744  58.167887   12249.156885\n",
       "2015-11-01   1.361045  59.528932   12308.685816\n",
       "2015-12-01   0.477725  60.006656   12368.692472"
      ]
     },
     "execution_count": 243,
     "metadata": {},
     "output_type": "execute_result"
    }
   ],
   "source": [
    "z1"
   ]
  },
  {
   "cell_type": "code",
   "execution_count": 244,
   "metadata": {},
   "outputs": [
    {
     "name": "stdout",
     "output_type": "stream",
     "text": [
      "Money VAR(5) RMSE: 43.710\n",
      "Money  AR(5) RMSE: 36.222\n"
     ]
    }
   ],
   "source": [
    "RMSE3 = rmse(df['Money'][-nobs:], z1['MoneyForecast'])\n",
    "\n",
    "print(f'Money VAR(5) RMSE: {RMSE1:.3f}')\n",
    "print(f'Money  AR(5) RMSE: {RMSE3:.3f}')"
   ]
  },
  {
   "cell_type": "markdown",
   "metadata": {},
   "source": [
    "## Personal Spending"
   ]
  },
  {
   "cell_type": "code",
   "execution_count": 245,
   "metadata": {},
   "outputs": [
    {
     "name": "stdout",
     "output_type": "stream",
     "text": [
      "Lag: 5\n",
      "Coefficients:\n",
      "const          0.221177\n",
      "L1.Spending   -0.913123\n",
      "L2.Spending   -0.677036\n",
      "L3.Spending   -0.450798\n",
      "L4.Spending   -0.273219\n",
      "L5.Spending   -0.159475\n",
      "dtype: float64\n"
     ]
    }
   ],
   "source": [
    "modelS = AR(train['Spending'])\n",
    "AR5fit2 = modelS.fit(maxlag=5,method='mle')\n",
    "\n",
    "print(f'Lag: {AR5fit2.k_ar}')\n",
    "print(f'Coefficients:\\n{AR5fit2.params}')"
   ]
  },
  {
   "cell_type": "code",
   "execution_count": 246,
   "metadata": {},
   "outputs": [
    {
     "data": {
      "text/html": [
       "<div>\n",
       "<style scoped>\n",
       "    .dataframe tbody tr th:only-of-type {\n",
       "        vertical-align: middle;\n",
       "    }\n",
       "\n",
       "    .dataframe tbody tr th {\n",
       "        vertical-align: top;\n",
       "    }\n",
       "\n",
       "    .dataframe thead th {\n",
       "        text-align: right;\n",
       "    }\n",
       "</style>\n",
       "<table border=\"1\" class=\"dataframe\">\n",
       "  <thead>\n",
       "    <tr style=\"text-align: right;\">\n",
       "      <th></th>\n",
       "      <th>Spending</th>\n",
       "    </tr>\n",
       "  </thead>\n",
       "  <tbody>\n",
       "    <tr>\n",
       "      <th>2015-01-01</th>\n",
       "      <td>30.883373</td>\n",
       "    </tr>\n",
       "    <tr>\n",
       "      <th>2015-02-01</th>\n",
       "      <td>-2.227340</td>\n",
       "    </tr>\n",
       "    <tr>\n",
       "      <th>2015-03-01</th>\n",
       "      <td>-8.838641</td>\n",
       "    </tr>\n",
       "    <tr>\n",
       "      <th>2015-04-01</th>\n",
       "      <td>6.673542</td>\n",
       "    </tr>\n",
       "    <tr>\n",
       "      <th>2015-05-01</th>\n",
       "      <td>-4.483696</td>\n",
       "    </tr>\n",
       "    <tr>\n",
       "      <th>2015-06-01</th>\n",
       "      <td>-0.535019</td>\n",
       "    </tr>\n",
       "    <tr>\n",
       "      <th>2015-07-01</th>\n",
       "      <td>3.507011</td>\n",
       "    </tr>\n",
       "    <tr>\n",
       "      <th>2015-08-01</th>\n",
       "      <td>-1.011485</td>\n",
       "    </tr>\n",
       "    <tr>\n",
       "      <th>2015-09-01</th>\n",
       "      <td>-0.827633</td>\n",
       "    </tr>\n",
       "    <tr>\n",
       "      <th>2015-10-01</th>\n",
       "      <td>0.941981</td>\n",
       "    </tr>\n",
       "    <tr>\n",
       "      <th>2015-11-01</th>\n",
       "      <td>-0.495515</td>\n",
       "    </tr>\n",
       "    <tr>\n",
       "      <th>2015-12-01</th>\n",
       "      <td>0.126059</td>\n",
       "    </tr>\n",
       "  </tbody>\n",
       "</table>\n",
       "</div>"
      ],
      "text/plain": [
       "             Spending\n",
       "2015-01-01  30.883373\n",
       "2015-02-01  -2.227340\n",
       "2015-03-01  -8.838641\n",
       "2015-04-01   6.673542\n",
       "2015-05-01  -4.483696\n",
       "2015-06-01  -0.535019\n",
       "2015-07-01   3.507011\n",
       "2015-08-01  -1.011485\n",
       "2015-09-01  -0.827633\n",
       "2015-10-01   0.941981\n",
       "2015-11-01  -0.495515\n",
       "2015-12-01   0.126059"
      ]
     },
     "execution_count": 246,
     "metadata": {},
     "output_type": "execute_result"
    }
   ],
   "source": [
    "z2 = pd.DataFrame(AR5fit2.predict(start=start, end=end, \n",
    "                        dynamic=False),columns=['Spending'])\n",
    "z2"
   ]
  },
  {
   "cell_type": "markdown",
   "metadata": {},
   "source": [
    "### Invert the Transformation, Evaluate the Forecast"
   ]
  },
  {
   "cell_type": "code",
   "execution_count": 247,
   "metadata": {},
   "outputs": [],
   "source": [
    "# Add the most recent first difference from the training set \n",
    "# to the forecast cumulative sum\n",
    "z2['Spending1d'] = (df['Spending'].iloc[-nobs-1]-\\\n",
    "                    df['Spending'].iloc[-nobs-2]) +\\\n",
    "                                z2['Spending'].cumsum()\n",
    "\n",
    "# Now build the forecast values from the first difference set\n",
    "z2['SpendingForecast'] = df['Spending'].iloc[-nobs-1] \\\n",
    "                                + z2['Spending1d'].cumsum()"
   ]
  },
  {
   "cell_type": "code",
   "execution_count": 248,
   "metadata": {},
   "outputs": [
    {
     "data": {
      "text/html": [
       "<div>\n",
       "<style scoped>\n",
       "    .dataframe tbody tr th:only-of-type {\n",
       "        vertical-align: middle;\n",
       "    }\n",
       "\n",
       "    .dataframe tbody tr th {\n",
       "        vertical-align: top;\n",
       "    }\n",
       "\n",
       "    .dataframe thead th {\n",
       "        text-align: right;\n",
       "    }\n",
       "</style>\n",
       "<table border=\"1\" class=\"dataframe\">\n",
       "  <thead>\n",
       "    <tr style=\"text-align: right;\">\n",
       "      <th></th>\n",
       "      <th>Spending</th>\n",
       "      <th>Spending1d</th>\n",
       "      <th>SpendingForecast</th>\n",
       "    </tr>\n",
       "  </thead>\n",
       "  <tbody>\n",
       "    <tr>\n",
       "      <th>2015-01-01</th>\n",
       "      <td>30.883373</td>\n",
       "      <td>41.483373</td>\n",
       "      <td>12103.483373</td>\n",
       "    </tr>\n",
       "    <tr>\n",
       "      <th>2015-02-01</th>\n",
       "      <td>-2.227340</td>\n",
       "      <td>39.256032</td>\n",
       "      <td>12142.739405</td>\n",
       "    </tr>\n",
       "    <tr>\n",
       "      <th>2015-03-01</th>\n",
       "      <td>-8.838641</td>\n",
       "      <td>30.417392</td>\n",
       "      <td>12173.156797</td>\n",
       "    </tr>\n",
       "    <tr>\n",
       "      <th>2015-04-01</th>\n",
       "      <td>6.673542</td>\n",
       "      <td>37.090934</td>\n",
       "      <td>12210.247731</td>\n",
       "    </tr>\n",
       "    <tr>\n",
       "      <th>2015-05-01</th>\n",
       "      <td>-4.483696</td>\n",
       "      <td>32.607238</td>\n",
       "      <td>12242.854968</td>\n",
       "    </tr>\n",
       "    <tr>\n",
       "      <th>2015-06-01</th>\n",
       "      <td>-0.535019</td>\n",
       "      <td>32.072218</td>\n",
       "      <td>12274.927187</td>\n",
       "    </tr>\n",
       "    <tr>\n",
       "      <th>2015-07-01</th>\n",
       "      <td>3.507011</td>\n",
       "      <td>35.579229</td>\n",
       "      <td>12310.506416</td>\n",
       "    </tr>\n",
       "    <tr>\n",
       "      <th>2015-08-01</th>\n",
       "      <td>-1.011485</td>\n",
       "      <td>34.567744</td>\n",
       "      <td>12345.074160</td>\n",
       "    </tr>\n",
       "    <tr>\n",
       "      <th>2015-09-01</th>\n",
       "      <td>-0.827633</td>\n",
       "      <td>33.740111</td>\n",
       "      <td>12378.814271</td>\n",
       "    </tr>\n",
       "    <tr>\n",
       "      <th>2015-10-01</th>\n",
       "      <td>0.941981</td>\n",
       "      <td>34.682092</td>\n",
       "      <td>12413.496364</td>\n",
       "    </tr>\n",
       "    <tr>\n",
       "      <th>2015-11-01</th>\n",
       "      <td>-0.495515</td>\n",
       "      <td>34.186577</td>\n",
       "      <td>12447.682941</td>\n",
       "    </tr>\n",
       "    <tr>\n",
       "      <th>2015-12-01</th>\n",
       "      <td>0.126059</td>\n",
       "      <td>34.312636</td>\n",
       "      <td>12481.995577</td>\n",
       "    </tr>\n",
       "  </tbody>\n",
       "</table>\n",
       "</div>"
      ],
      "text/plain": [
       "             Spending  Spending1d  SpendingForecast\n",
       "2015-01-01  30.883373   41.483373      12103.483373\n",
       "2015-02-01  -2.227340   39.256032      12142.739405\n",
       "2015-03-01  -8.838641   30.417392      12173.156797\n",
       "2015-04-01   6.673542   37.090934      12210.247731\n",
       "2015-05-01  -4.483696   32.607238      12242.854968\n",
       "2015-06-01  -0.535019   32.072218      12274.927187\n",
       "2015-07-01   3.507011   35.579229      12310.506416\n",
       "2015-08-01  -1.011485   34.567744      12345.074160\n",
       "2015-09-01  -0.827633   33.740111      12378.814271\n",
       "2015-10-01   0.941981   34.682092      12413.496364\n",
       "2015-11-01  -0.495515   34.186577      12447.682941\n",
       "2015-12-01   0.126059   34.312636      12481.995577"
      ]
     },
     "execution_count": 248,
     "metadata": {},
     "output_type": "execute_result"
    }
   ],
   "source": [
    "z2"
   ]
  },
  {
   "cell_type": "code",
   "execution_count": 187,
   "metadata": {},
   "outputs": [
    {
     "name": "stdout",
     "output_type": "stream",
     "text": [
      "Spending VAR(5) RMSE: 37.001\n",
      "Spending  AR(5) RMSE: 34.121\n"
     ]
    }
   ],
   "source": [
    "RMSE4 = rmse(df['Spending'][-nobs:], z2['SpendingForecast'])\n",
    "\n",
    "print(f'Spending VAR(5) RMSE: {RMSE2:.3f}')\n",
    "print(f'Spending  AR(5) RMSE: {RMSE4:.3f}')"
   ]
  },
  {
   "cell_type": "markdown",
   "metadata": {},
   "source": [
    "<strong>CONCLUSION:</strong> It looks like the VAR(5) model did <em>not</em> do better than the individual AR(5) models. That's ok - we know more than we did before. In the next section we'll look at VARMA and see if the addition of a $q$ parameter helps. Great work!\n",
    "\n",
    "## Benefit of VAR model: 1 model for 2 variables | We need 2 AR models for 2 variables"
   ]
  }
 ],
 "metadata": {
  "hide_input": false,
  "kernelspec": {
   "display_name": "Python 3",
   "language": "python",
   "name": "python3"
  },
  "language_info": {
   "codemirror_mode": {
    "name": "ipython",
    "version": 3
   },
   "file_extension": ".py",
   "mimetype": "text/x-python",
   "name": "python",
   "nbconvert_exporter": "python",
   "pygments_lexer": "ipython3",
   "version": "3.7.4"
  },
  "varInspector": {
   "cols": {
    "lenName": 16,
    "lenType": 16,
    "lenVar": 40
   },
   "kernels_config": {
    "python": {
     "delete_cmd_postfix": "",
     "delete_cmd_prefix": "del ",
     "library": "var_list.py",
     "varRefreshCmd": "print(var_dic_list())"
    },
    "r": {
     "delete_cmd_postfix": ") ",
     "delete_cmd_prefix": "rm(",
     "library": "var_list.r",
     "varRefreshCmd": "cat(var_dic_list()) "
    }
   },
   "types_to_exclude": [
    "module",
    "function",
    "builtin_function_or_method",
    "instance",
    "_Feature"
   ],
   "window_display": false
  }
 },
 "nbformat": 4,
 "nbformat_minor": 2
}
